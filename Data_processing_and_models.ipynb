{
 "cells": [
  {
   "cell_type": "markdown",
   "metadata": {},
   "source": [
    "I start by reading the necessary files in order to obtain the data, for the preprocessing steps I do the following: normalise the features extracted from the data and use a random forest classifier to obtain the most important features. Afterwards I use GridSearchCV to experiment with several models and also to optimise their hyperparameters. Given the best model in terms of the f1 score, I then provide 4 more models: a voting classifier that uses the other models used in GridSeacrhCV and then a simple neural network using keras, the novel XGBoost which is ideal for tabular data and the most recent TabNet, also focused for tabular data.\n",
    "\n",
    "For the product I thought of building an model that is used to either accept or reject a given password. This password is comprised of 3 single digit numbers. In order for the password to be accepted both the numbers and their respective intonations must be correct.\n",
    "\n",
    "Note: The data used is not yet publicly available."
   ]
  },
  {
   "cell_type": "markdown",
   "metadata": {
    "id": "ZaGn4ICrfqXZ"
   },
   "source": [
    "# 1. Preprocessing and model testing:"
   ]
  },
  {
   "cell_type": "code",
   "execution_count": 1,
   "metadata": {
    "colab": {
     "base_uri": "https://localhost:8080/"
    },
    "id": "8G7B8Q1ogUBt",
    "outputId": "a6511aed-84a4-4ae2-c480-3516549e9c37"
   },
   "outputs": [],
   "source": [
    "import numpy as np\n",
    "import pandas as pd\n",
    "import matplotlib.pyplot as plt\n",
    "\n",
    "import os, sys, re, pickle, glob\n",
    "import urllib.request\n",
    "import zipfile\n",
    "\n",
    "from scipy.stats import skew\n",
    "from sklearn.preprocessing import LabelEncoder\n",
    "from sklearn.metrics import classification_report\n",
    "from sklearn.model_selection import GridSearchCV\n",
    "from sklearn import svm\n",
    "from sklearn.model_selection import train_test_split\n",
    "from sklearn.metrics import confusion_matrix\n",
    "import matplotlib.pyplot as plt\n",
    "from sklearn.metrics import plot_confusion_matrix\n",
    "from sklearn.preprocessing import StandardScaler\n",
    "from sklearn.ensemble import RandomForestClassifier\n",
    "from sklearn.feature_selection import SelectFromModel\n",
    "from sklearn.ensemble import VotingClassifier\n",
    "from sklearn.neural_network import MLPClassifier\n",
    "from sklearn.neighbors import KNeighborsClassifier\n",
    "from sklearn.linear_model import SGDClassifier\n",
    "from sklearn.tree import DecisionTreeClassifier\n",
    "\n",
    "\n",
    "#from IPython.display import Audio\n",
    "import IPython.display as ipd\n",
    "from IPython.display import clear_output\n",
    "from tqdm import tqdm\n",
    "import librosa\n",
    "import pyloudnorm as pyln"
   ]
  },
  {
   "cell_type": "markdown",
   "metadata": {},
   "source": [
    "The first thing to do is to read the files and the labels dataframe:"
   ]
  },
  {
   "cell_type": "code",
   "execution_count": 2,
   "metadata": {
    "colab": {
     "base_uri": "https://localhost:8080/"
    },
    "id": "ZC_WmRkoTH0T",
    "outputId": "09db27dc-a71d-49c3-a943-e4755cfbf8ff"
   },
   "outputs": [
    {
     "data": {
      "text/plain": [
       "20000"
      ]
     },
     "execution_count": 2,
     "metadata": {},
     "output_type": "execute_result"
    }
   ],
   "source": [
    "files = glob.glob('/Training/*.wav')\n",
    "len(files)"
   ]
  },
  {
   "cell_type": "code",
   "execution_count": 3,
   "metadata": {
    "colab": {
     "base_uri": "https://localhost:8080/",
     "height": 402
    },
    "id": "ynK7nMTLTH24",
    "outputId": "5a4ed8a6-fa1f-4edd-d80a-ef073a295f87",
    "scrolled": true
   },
   "outputs": [
    {
     "data": {
      "text/html": [
       "<div>\n",
       "<style scoped>\n",
       "    .dataframe tbody tr th:only-of-type {\n",
       "        vertical-align: middle;\n",
       "    }\n",
       "\n",
       "    .dataframe tbody tr th {\n",
       "        vertical-align: top;\n",
       "    }\n",
       "\n",
       "    .dataframe thead th {\n",
       "        text-align: right;\n",
       "    }\n",
       "</style>\n",
       "<table border=\"1\" class=\"dataframe\">\n",
       "  <thead>\n",
       "    <tr style=\"text-align: right;\">\n",
       "      <th></th>\n",
       "      <th>File ID</th>\n",
       "      <th>digit_label</th>\n",
       "      <th>participant</th>\n",
       "      <th>intonation</th>\n",
       "    </tr>\n",
       "  </thead>\n",
       "  <tbody>\n",
       "    <tr>\n",
       "      <th>0</th>\n",
       "      <td>0000000.wav</td>\n",
       "      <td>4</td>\n",
       "      <td>S73</td>\n",
       "      <td>question</td>\n",
       "    </tr>\n",
       "    <tr>\n",
       "      <th>1</th>\n",
       "      <td>0000001.wav</td>\n",
       "      <td>2</td>\n",
       "      <td>S88</td>\n",
       "      <td>excited</td>\n",
       "    </tr>\n",
       "    <tr>\n",
       "      <th>2</th>\n",
       "      <td>0000002.wav</td>\n",
       "      <td>70</td>\n",
       "      <td>S5</td>\n",
       "      <td>neutral</td>\n",
       "    </tr>\n",
       "    <tr>\n",
       "      <th>3</th>\n",
       "      <td>0000003.wav</td>\n",
       "      <td>2</td>\n",
       "      <td>S85</td>\n",
       "      <td>bored</td>\n",
       "    </tr>\n",
       "    <tr>\n",
       "      <th>4</th>\n",
       "      <td>0000004.wav</td>\n",
       "      <td>4</td>\n",
       "      <td>S30</td>\n",
       "      <td>excited</td>\n",
       "    </tr>\n",
       "    <tr>\n",
       "      <th>...</th>\n",
       "      <td>...</td>\n",
       "      <td>...</td>\n",
       "      <td>...</td>\n",
       "      <td>...</td>\n",
       "    </tr>\n",
       "    <tr>\n",
       "      <th>19995</th>\n",
       "      <td>0019995.wav</td>\n",
       "      <td>90</td>\n",
       "      <td>S163</td>\n",
       "      <td>excited</td>\n",
       "    </tr>\n",
       "    <tr>\n",
       "      <th>19996</th>\n",
       "      <td>0019996.wav</td>\n",
       "      <td>10</td>\n",
       "      <td>S99</td>\n",
       "      <td>question</td>\n",
       "    </tr>\n",
       "    <tr>\n",
       "      <th>19997</th>\n",
       "      <td>0019997.wav</td>\n",
       "      <td>90</td>\n",
       "      <td>S46</td>\n",
       "      <td>question</td>\n",
       "    </tr>\n",
       "    <tr>\n",
       "      <th>19998</th>\n",
       "      <td>0019998.wav</td>\n",
       "      <td>19</td>\n",
       "      <td>S13</td>\n",
       "      <td>neutral</td>\n",
       "    </tr>\n",
       "    <tr>\n",
       "      <th>19999</th>\n",
       "      <td>0019999.wav</td>\n",
       "      <td>20</td>\n",
       "      <td>S101</td>\n",
       "      <td>neutral</td>\n",
       "    </tr>\n",
       "  </tbody>\n",
       "</table>\n",
       "<p>20000 rows × 4 columns</p>\n",
       "</div>"
      ],
      "text/plain": [
       "           File ID  digit_label participant intonation\n",
       "0      0000000.wav            4         S73   question\n",
       "1      0000001.wav            2         S88    excited\n",
       "2      0000002.wav           70          S5    neutral\n",
       "3      0000003.wav            2         S85      bored\n",
       "4      0000004.wav            4         S30    excited\n",
       "...            ...          ...         ...        ...\n",
       "19995  0019995.wav           90        S163    excited\n",
       "19996  0019996.wav           10         S99   question\n",
       "19997  0019997.wav           90         S46   question\n",
       "19998  0019998.wav           19         S13    neutral\n",
       "19999  0019999.wav           20        S101    neutral\n",
       "\n",
       "[20000 rows x 4 columns]"
      ]
     },
     "execution_count": 3,
     "metadata": {},
     "output_type": "execute_result"
    }
   ],
   "source": [
    "labels = pd.read_csv('trainingMLEnd.csv')\n",
    "labels"
   ]
  },
  {
   "cell_type": "markdown",
   "metadata": {},
   "source": [
    "Given that our labels are strings we need to encode them since machine learning models can't interpret strings/text like we would like:"
   ]
  },
  {
   "cell_type": "code",
   "execution_count": 4,
   "metadata": {
    "colab": {
     "base_uri": "https://localhost:8080/",
     "height": 402
    },
    "id": "m2tgoFNSYASJ",
    "outputId": "e27872c6-8cc2-4d34-b5fd-bfd8520d09c5",
    "scrolled": true
   },
   "outputs": [
    {
     "data": {
      "text/html": [
       "<div>\n",
       "<style scoped>\n",
       "    .dataframe tbody tr th:only-of-type {\n",
       "        vertical-align: middle;\n",
       "    }\n",
       "\n",
       "    .dataframe tbody tr th {\n",
       "        vertical-align: top;\n",
       "    }\n",
       "\n",
       "    .dataframe thead th {\n",
       "        text-align: right;\n",
       "    }\n",
       "</style>\n",
       "<table border=\"1\" class=\"dataframe\">\n",
       "  <thead>\n",
       "    <tr style=\"text-align: right;\">\n",
       "      <th></th>\n",
       "      <th>File ID</th>\n",
       "      <th>digit_label</th>\n",
       "      <th>participant</th>\n",
       "      <th>intonation</th>\n",
       "      <th>Intonation Encoded</th>\n",
       "    </tr>\n",
       "  </thead>\n",
       "  <tbody>\n",
       "    <tr>\n",
       "      <th>0</th>\n",
       "      <td>0000000.wav</td>\n",
       "      <td>4</td>\n",
       "      <td>S73</td>\n",
       "      <td>question</td>\n",
       "      <td>3</td>\n",
       "    </tr>\n",
       "    <tr>\n",
       "      <th>1</th>\n",
       "      <td>0000001.wav</td>\n",
       "      <td>2</td>\n",
       "      <td>S88</td>\n",
       "      <td>excited</td>\n",
       "      <td>1</td>\n",
       "    </tr>\n",
       "    <tr>\n",
       "      <th>2</th>\n",
       "      <td>0000002.wav</td>\n",
       "      <td>70</td>\n",
       "      <td>S5</td>\n",
       "      <td>neutral</td>\n",
       "      <td>2</td>\n",
       "    </tr>\n",
       "    <tr>\n",
       "      <th>3</th>\n",
       "      <td>0000003.wav</td>\n",
       "      <td>2</td>\n",
       "      <td>S85</td>\n",
       "      <td>bored</td>\n",
       "      <td>0</td>\n",
       "    </tr>\n",
       "    <tr>\n",
       "      <th>4</th>\n",
       "      <td>0000004.wav</td>\n",
       "      <td>4</td>\n",
       "      <td>S30</td>\n",
       "      <td>excited</td>\n",
       "      <td>1</td>\n",
       "    </tr>\n",
       "    <tr>\n",
       "      <th>...</th>\n",
       "      <td>...</td>\n",
       "      <td>...</td>\n",
       "      <td>...</td>\n",
       "      <td>...</td>\n",
       "      <td>...</td>\n",
       "    </tr>\n",
       "    <tr>\n",
       "      <th>19995</th>\n",
       "      <td>0019995.wav</td>\n",
       "      <td>90</td>\n",
       "      <td>S163</td>\n",
       "      <td>excited</td>\n",
       "      <td>1</td>\n",
       "    </tr>\n",
       "    <tr>\n",
       "      <th>19996</th>\n",
       "      <td>0019996.wav</td>\n",
       "      <td>10</td>\n",
       "      <td>S99</td>\n",
       "      <td>question</td>\n",
       "      <td>3</td>\n",
       "    </tr>\n",
       "    <tr>\n",
       "      <th>19997</th>\n",
       "      <td>0019997.wav</td>\n",
       "      <td>90</td>\n",
       "      <td>S46</td>\n",
       "      <td>question</td>\n",
       "      <td>3</td>\n",
       "    </tr>\n",
       "    <tr>\n",
       "      <th>19998</th>\n",
       "      <td>0019998.wav</td>\n",
       "      <td>19</td>\n",
       "      <td>S13</td>\n",
       "      <td>neutral</td>\n",
       "      <td>2</td>\n",
       "    </tr>\n",
       "    <tr>\n",
       "      <th>19999</th>\n",
       "      <td>0019999.wav</td>\n",
       "      <td>20</td>\n",
       "      <td>S101</td>\n",
       "      <td>neutral</td>\n",
       "      <td>2</td>\n",
       "    </tr>\n",
       "  </tbody>\n",
       "</table>\n",
       "<p>20000 rows × 5 columns</p>\n",
       "</div>"
      ],
      "text/plain": [
       "           File ID  digit_label participant intonation  Intonation Encoded\n",
       "0      0000000.wav            4         S73   question                   3\n",
       "1      0000001.wav            2         S88    excited                   1\n",
       "2      0000002.wav           70          S5    neutral                   2\n",
       "3      0000003.wav            2         S85      bored                   0\n",
       "4      0000004.wav            4         S30    excited                   1\n",
       "...            ...          ...         ...        ...                 ...\n",
       "19995  0019995.wav           90        S163    excited                   1\n",
       "19996  0019996.wav           10         S99   question                   3\n",
       "19997  0019997.wav           90         S46   question                   3\n",
       "19998  0019998.wav           19         S13    neutral                   2\n",
       "19999  0019999.wav           20        S101    neutral                   2\n",
       "\n",
       "[20000 rows x 5 columns]"
      ]
     },
     "execution_count": 4,
     "metadata": {},
     "output_type": "execute_result"
    }
   ],
   "source": [
    "labelencoder = LabelEncoder()\n",
    "\n",
    "labels['Intonation Encoded'] = labelencoder.fit_transform(labels['intonation'])\n",
    "labels"
   ]
  },
  {
   "cell_type": "markdown",
   "metadata": {
    "id": "4j1kVpuXtE_5"
   },
   "source": [
    "### Feature Extraction:"
   ]
  },
  {
   "cell_type": "markdown",
   "metadata": {},
   "source": [
    "The following <code>get_feat()</code> function extracts the following features from the audio files: Mel Frequency Cepstral, a.k.a, mfcc (set of features that describe the overall shape of a spectral envelope), spectral rolloff (is the frequency below which a specified percentage of the total spectral energy lies), spectral centroid (calculated as the weighted mean of the frequencies it represents where the so call center of mass of the sound is located), spectral contrast (the level difference between the peaks and valleys of a given spectrum) and finally the spectral bandwith (the difference between the upper and lower frequencies in the continuous band of frequencies). \n",
    "\n",
    "Every single one of the mentioned features provides several arrays of features (in simple terms each feature is a list of lists). This makes for an unnecessary amount of features. To work around this I decided to only use as features statistical measures of these features such as the mean, median, standard deviation, the maximum and minimum values."
   ]
  },
  {
   "cell_type": "code",
   "execution_count": 5,
   "metadata": {
    "id": "zIouVJUD_dlP"
   },
   "outputs": [],
   "source": [
    "def get_feat(x, fs):\n",
    "\n",
    "    ft1 = librosa.feature.mfcc(x, sr=fs) ## calculate the mfcc\n",
    "    ft2 = librosa.feature.spectral_rolloff(x)[0] ## calculate the spectral rolloff\n",
    "    ft3 = librosa.feature.spectral_centroid(x)[0] ## calculate the spectral centroid\n",
    "    ft4 = librosa.feature.spectral_contrast(x)[0] ## calculate the spectral contrast\n",
    "    ft5 = librosa.feature.spectral_bandwidth(x)[0] ## calculate the spectral bandwith\n",
    "    ## Now we get the statistical results for these features\n",
    "    ft1_trunc = np.hstack((np.mean(ft1, axis=1), np.std(ft1, axis=1), skew(ft1, axis = 1),\n",
    "                           np.max(ft1, axis = 1), np.median(ft1, axis = 1), np.min(ft1, axis = 1))) ## calculate the statistical features for each row and then stack the arrays in a sequence(horizontally)\n",
    "    ft2_trunc = np.array([np.mean(ft2), np.std(ft2), skew(ft2), np.max(ft2), np.median(ft2), np.min(ft2)])\n",
    "    ft3_trunc = np.array([np.mean(ft3), np.std(ft3), skew(ft3), np.max(ft3), np.median(ft3), np.min(ft3)])\n",
    "    ft4_trunc = np.array([np.mean(ft4), np.std(ft4), skew(ft4), np.max(ft4), np.median(ft4), np.min(ft4)])\n",
    "    ft5_trunc = np.array([np.mean(ft5), np.std(ft5), skew(ft5), np.max(ft5), np.median(ft5), np.min(ft5)])\n",
    "\n",
    "    return ft1_trunc, ft2_trunc, ft3_trunc, ft4_trunc, ft5_trunc"
   ]
  },
  {
   "cell_type": "markdown",
   "metadata": {},
   "source": [
    "<code>getPitch()</code> function allows us to extract features such as the power, the pitch mean, the pitch standard deviation and the fraction of voiced region."
   ]
  },
  {
   "cell_type": "code",
   "execution_count": 6,
   "metadata": {
    "id": "tfs8hFy0htYI"
   },
   "outputs": [],
   "source": [
    "def getPitch(x,fs,winLen=0.02):\n",
    "    #winLen = 0.02 \n",
    "    p = winLen*fs\n",
    "    frame_length = int(2**int(p-1).bit_length())\n",
    "    hop_length = frame_length//2\n",
    "    f0, voiced_flag, voiced_probs = librosa.pyin(y=x, fmin=80, fmax=450, sr=fs,\n",
    "                                                 frame_length=frame_length,hop_length=hop_length)\n",
    "    return f0,voiced_flag"
   ]
  },
  {
   "cell_type": "markdown",
   "metadata": {},
   "source": [
    "<code>getXy()</code> extracts the feature vector from the audio files and their corresponding labels."
   ]
  },
  {
   "cell_type": "code",
   "execution_count": 7,
   "metadata": {
    "id": "gnAZX_Bihtey"
   },
   "outputs": [],
   "source": [
    "def getXy(files, labels_file, label_name, scale_audio=False):\n",
    "    X,y =[],[]\n",
    "    for file in tqdm(files):\n",
    "        fileID = file.split('/')[-1]\n",
    "        yi = list(labels_file[labels_file['File ID']==fileID][label_name])[0] ## label_name is a new parameter added. This parameters value is a string and will represent the column of the labels\n",
    "\n",
    "        fs = None # if None, fs would be 22050\n",
    "        x, fs = librosa.load(file,sr=fs)\n",
    "        if scale_audio: x = x/np.max(np.abs(x))\n",
    "        f0, voiced_flag = getPitch(x,fs,winLen=0.02)\n",
    "\n",
    "        power = np.sum(x**2)/len(x)\n",
    "        pitch_mean = np.nanmean(f0) if np.mean(np.isnan(f0))<1 else 0\n",
    "        pitch_std  = np.nanstd(f0) if np.mean(np.isnan(f0))<1 else 0\n",
    "        voiced_fr = np.mean(voiced_flag)\n",
    "\n",
    "        meter = pyln.Meter(fs, block_size = 0.2) ## as an extra feature I also extracted the perceived loundness of the audio file\n",
    "        loudness = meter.integrated_loudness(x)\n",
    "        \n",
    "        mfcc, spectral_rolloff_features, spectral_centroid_features, spectral_contrast_features, spectral_bandwith_features = get_feat(x, fs)\n",
    "\n",
    "        pitch_feat = np.array([power, pitch_mean, pitch_std, voiced_fr, loudness])\n",
    "        xi = np.concatenate((pitch_feat, mfcc, spectral_rolloff_features, spectral_centroid_features, spectral_contrast_features, spectral_bandwith_features)) ## concatenate all features\n",
    "        X.append(xi)\n",
    "        y.append(yi)\n",
    "    return np.array(X),np.array(y)"
   ]
  },
  {
   "cell_type": "code",
   "execution_count": 8,
   "metadata": {
    "colab": {
     "base_uri": "https://localhost:8080/",
     "height": 455
    },
    "id": "7BIDCubJhtm2",
    "outputId": "6c1c2248-12c8-4b0f-ef3a-68402aea350b"
   },
   "outputs": [
    {
     "name": "stderr",
     "output_type": "stream",
     "text": [
      "100%|██████████| 20000/20000 [1:47:34<00:00,  3.10it/s]  \n"
     ]
    }
   ],
   "source": [
    "X,y = getXy(files, labels_file=labels, label_name = 'Intonation Encoded', scale_audio=True)"
   ]
  },
  {
   "cell_type": "code",
   "execution_count": 9,
   "metadata": {
    "id": "1smlWe53pp7X"
   },
   "outputs": [
    {
     "name": "stdout",
     "output_type": "stream",
     "text": [
      "The shape of X is (20000, 149)\n",
      "The shape of y is (20000,)\n",
      "The labels vector is [3 0 2 3 2 3 0 0 2 0]\n"
     ]
    }
   ],
   "source": [
    "print('The shape of X is', X.shape) \n",
    "print('The shape of y is', y.shape)\n",
    "print('The labels vector is', y[:10])"
   ]
  },
  {
   "cell_type": "code",
   "execution_count": 10,
   "metadata": {
    "id": "kAgCVxWUpp_Z"
   },
   "outputs": [
    {
     "name": "stdout",
     "output_type": "stream",
     "text": [
      "0\n"
     ]
    }
   ],
   "source": [
    "# If nan sample, remove them\n",
    "if np.sum(np.isnan(X)):\n",
    "    idx = np.isnan(X).sum(1)>0\n",
    "    X = X[~idx]\n",
    "    y = y[~idx]\n",
    "print(np.sum(np.isnan(X)))"
   ]
  },
  {
   "cell_type": "markdown",
   "metadata": {
    "id": "Ll6x-KlpR655"
   },
   "source": [
    "## Feature Normalization"
   ]
  },
  {
   "cell_type": "markdown",
   "metadata": {},
   "source": [
    "Here I normalize the features obtained in the previous cells. This normalization allows the features to have similar weights between each other. Without this normalization we would have features that correspond to different measures and would therefore have very different values. For instance we could have features like 0.01, 5.45 and then features with higher orders of magnitude like 1000 or 500. This would make larger features carry more weight. With normalization we avoid this problem."
   ]
  },
  {
   "cell_type": "code",
   "execution_count": 11,
   "metadata": {
    "id": "d4PHjnOGR5ek"
   },
   "outputs": [],
   "source": [
    "scaler = StandardScaler()\n",
    "X_norm = scaler.fit_transform(X)"
   ]
  },
  {
   "cell_type": "markdown",
   "metadata": {
    "id": "DelT0-w0fNsf"
   },
   "source": [
    "## Feature and Model selection:"
   ]
  },
  {
   "cell_type": "markdown",
   "metadata": {},
   "source": [
    "In order to get the best models possible we must select features. Even though normalized features carry similar weights their importance is a very different story. In the following cells we use a random forest classifier to determine the most important features. Why a random forest classifier? Well because nothing is better than having a machine learning algorithm tell us what features it found the most important."
   ]
  },
  {
   "cell_type": "code",
   "execution_count": 12,
   "metadata": {},
   "outputs": [
    {
     "data": {
      "text/plain": [
       "SelectFromModel(estimator=RandomForestClassifier(), max_features=50)"
      ]
     },
     "execution_count": 12,
     "metadata": {},
     "output_type": "execute_result"
    }
   ],
   "source": [
    "sel = SelectFromModel(RandomForestClassifier(n_estimators = 100), max_features = 50)\n",
    "sel.fit(X_norm, y)"
   ]
  },
  {
   "cell_type": "code",
   "execution_count": 13,
   "metadata": {
    "scrolled": true
   },
   "outputs": [
    {
     "data": {
      "text/plain": [
       "array([ True,  True,  True,  True,  True,  True,  True, False, False,\n",
       "       False, False, False, False, False, False, False, False, False,\n",
       "       False, False, False, False, False, False, False,  True, False,\n",
       "        True, False, False, False, False, False,  True, False, False,\n",
       "       False, False, False, False, False,  True, False,  True,  True,\n",
       "        True, False, False, False,  True, False, False, False,  True,\n",
       "       False, False, False, False, False, False, False, False, False,\n",
       "       False,  True,  True,  True, False, False, False, False, False,\n",
       "       False, False, False, False, False, False, False, False, False,\n",
       "        True,  True,  True,  True,  True, False, False, False, False,\n",
       "       False, False, False, False, False, False, False, False, False,\n",
       "       False, False, False, False, False, False,  True, False, False,\n",
       "       False, False, False, False, False, False, False, False, False,\n",
       "       False, False, False, False, False, False, False, False, False,\n",
       "       False, False, False, False, False, False, False, False, False,\n",
       "       False, False, False, False, False, False, False, False, False,\n",
       "       False,  True, False, False, False])"
      ]
     },
     "execution_count": 13,
     "metadata": {},
     "output_type": "execute_result"
    }
   ],
   "source": [
    "sel.get_support()"
   ]
  },
  {
   "cell_type": "markdown",
   "metadata": {},
   "source": [
    "Now we filter our feature vector to include only the important features."
   ]
  },
  {
   "cell_type": "code",
   "execution_count": 14,
   "metadata": {},
   "outputs": [],
   "source": [
    "X_important = X_norm[:,sel.get_support()]"
   ]
  },
  {
   "cell_type": "code",
   "execution_count": 15,
   "metadata": {},
   "outputs": [
    {
     "data": {
      "text/plain": [
       "(20000, 26)"
      ]
     },
     "execution_count": 15,
     "metadata": {},
     "output_type": "execute_result"
    }
   ],
   "source": [
    "X_important.shape"
   ]
  },
  {
   "cell_type": "code",
   "execution_count": 16,
   "metadata": {
    "colab": {
     "base_uri": "https://localhost:8080/"
    },
    "id": "jq6y5WdPpqDR",
    "outputId": "5e98a42c-c6bd-4fe9-d35a-15a2df261597"
   },
   "outputs": [
    {
     "data": {
      "text/plain": [
       "((14000, 26), (6000, 26), (14000,), (6000,))"
      ]
     },
     "execution_count": 16,
     "metadata": {},
     "output_type": "execute_result"
    }
   ],
   "source": [
    "X_train, X_val, y_train, y_val = train_test_split(X_important,y,test_size=0.3)\n",
    "X_train.shape, X_val.shape, y_train.shape, y_val.shape"
   ]
  },
  {
   "cell_type": "markdown",
   "metadata": {
    "id": "2ytzusVSyFny"
   },
   "source": [
    "## **Models**:"
   ]
  },
  {
   "cell_type": "markdown",
   "metadata": {},
   "source": [
    "In order to not only experiment with several machine learning models, but also optimise them I use GridSeacrhCV.\n",
    "For this study I chose the following classifiers: SVC, MLP, K nearest neighbours, the decision tree classifier and the sgd classifier."
   ]
  },
  {
   "cell_type": "code",
   "execution_count": 17,
   "metadata": {},
   "outputs": [],
   "source": [
    "## Let's take advantage of this library and select a few models\n",
    "classifiers = []\n",
    "\n",
    "svc = svm.SVC()\n",
    "classifiers.append(svc)\n",
    "\n",
    "mlp = MLPClassifier()\n",
    "classifiers.append(mlp)\n",
    "\n",
    "knn = KNeighborsClassifier()\n",
    "classifiers.append(knn)\n",
    "\n",
    "dt = DecisionTreeClassifier()\n",
    "classifiers.append(dt)\n",
    "\n",
    "sgd = SGDClassifier()\n",
    "classifiers.append(sgd)"
   ]
  },
  {
   "cell_type": "markdown",
   "metadata": {},
   "source": [
    "Now I define, for every classifier chosen, a set of features to experiment with. The point is to optimise the models chosen by tuning their hyperparameters using GridSeacrhCV."
   ]
  },
  {
   "cell_type": "code",
   "execution_count": 18,
   "metadata": {},
   "outputs": [],
   "source": [
    "parameters = []\n",
    "\n",
    "parameters_svc = {'C': np.logspace(-3, 2, 6),  \n",
    "              'gamma': np.logspace(-3, 2, 6), \n",
    "              'gamma':['scale', 'auto'],\n",
    "              'kernel': ['linear', 'poly', 'rbf']}  \n",
    "parameters.append(parameters_svc)\n",
    "\n",
    "parameters_mlp = {'max_iter': [30,50,75,100,120,200],\n",
    "                  'hidden_layer_sizes':[(100,2), (80,2), (60,2), (40,2)],\n",
    "                  'learning_rate': ['constant', 'adaptive'],\n",
    "                  'learning_rate_init': [0.001,0.003,0.005,0.0009],\n",
    "                 'activation': ['relu', 'tanh', 'logistic']}\n",
    "\n",
    "parameters.append(parameters_mlp)\n",
    "\n",
    "parameters_knn = {'n_neighbors': [2, 4, 5, 8,10], \"weights\": ['uniform','distance'] }\n",
    "parameters.append(parameters_knn)\n",
    "\n",
    "parameters_dt = {'criterion': ['gini', 'entropy'], 'splitter': ['best', 'random'],\n",
    "                'max_depth': np.arange(3, 10)}\n",
    "parameters.append(parameters_dt)\n",
    "\n",
    "parameters_sgd = {'max_iter': [100,200,500,1000], 'loss':['hinge', 'log', 'perceptron'],\n",
    "                  'penalty': ['l1', 'l2']}\n",
    "parameters.append(parameters_sgd)"
   ]
  },
  {
   "cell_type": "markdown",
   "metadata": {},
   "source": [
    "Using GridsearchCV and the for loop we iterate through all the classifers and obtain the best one between all of the parameters."
   ]
  },
  {
   "cell_type": "code",
   "execution_count": 19,
   "metadata": {
    "scrolled": true
   },
   "outputs": [
    {
     "name": "stderr",
     "output_type": "stream",
     "text": [
      "\r",
      "  0%|          | 0/5 [00:00<?, ?it/s]"
     ]
    },
    {
     "name": "stdout",
     "output_type": "stream",
     "text": [
      "Fitting 5 folds for each of 36 candidates, totalling 180 fits\n"
     ]
    },
    {
     "name": "stderr",
     "output_type": "stream",
     "text": [
      "[Parallel(n_jobs=-1)]: Using backend LokyBackend with 4 concurrent workers.\n",
      "[Parallel(n_jobs=-1)]: Done  42 tasks      | elapsed:  3.4min\n",
      "[Parallel(n_jobs=-1)]: Done 180 out of 180 | elapsed: 39.5min finished\n"
     ]
    },
    {
     "name": "stdout",
     "output_type": "stream",
     "text": [
      "Clssifier: SVC()\n"
     ]
    },
    {
     "name": "stderr",
     "output_type": "stream",
     "text": [
      "\r",
      " 20%|██        | 1/5 [39:44<2:38:56, 2384.11s/it]"
     ]
    },
    {
     "name": "stdout",
     "output_type": "stream",
     "text": [
      "              precision    recall  f1-score   support\n",
      "\n",
      "           0       0.68      0.73      0.70      1507\n",
      "           1       0.72      0.70      0.71      1533\n",
      "           2       0.61      0.58      0.60      1447\n",
      "           3       0.74      0.73      0.74      1513\n",
      "\n",
      "    accuracy                           0.69      6000\n",
      "   macro avg       0.69      0.69      0.69      6000\n",
      "weighted avg       0.69      0.69      0.69      6000\n",
      "\n",
      "Fitting 5 folds for each of 576 candidates, totalling 2880 fits\n"
     ]
    },
    {
     "name": "stderr",
     "output_type": "stream",
     "text": [
      "[Parallel(n_jobs=-1)]: Using backend LokyBackend with 4 concurrent workers.\n",
      "[Parallel(n_jobs=-1)]: Done  42 tasks      | elapsed:  1.4min\n",
      "[Parallel(n_jobs=-1)]: Done 192 tasks      | elapsed:  6.7min\n",
      "[Parallel(n_jobs=-1)]: Done 442 tasks      | elapsed: 15.1min\n",
      "[Parallel(n_jobs=-1)]: Done 792 tasks      | elapsed: 25.4min\n",
      "[Parallel(n_jobs=-1)]: Done 1242 tasks      | elapsed: 42.5min\n",
      "[Parallel(n_jobs=-1)]: Done 1792 tasks      | elapsed: 62.4min\n",
      "[Parallel(n_jobs=-1)]: Done 2442 tasks      | elapsed: 83.5min\n",
      "[Parallel(n_jobs=-1)]: Done 2880 out of 2880 | elapsed: 95.6min finished\n",
      "/home/diogo_mota/anaconda3/lib/python3.8/site-packages/sklearn/neural_network/_multilayer_perceptron.py:582: ConvergenceWarning: Stochastic Optimizer: Maximum iterations (200) reached and the optimization hasn't converged yet.\n",
      "  warnings.warn(\n",
      " 40%|████      | 2/5 [2:15:32<2:49:40, 3393.38s/it][Parallel(n_jobs=-1)]: Using backend LokyBackend with 4 concurrent workers.\n"
     ]
    },
    {
     "name": "stdout",
     "output_type": "stream",
     "text": [
      "Clssifier: MLPClassifier()\n",
      "              precision    recall  f1-score   support\n",
      "\n",
      "           0       0.65      0.64      0.64      1507\n",
      "           1       0.66      0.58      0.62      1533\n",
      "           2       0.45      0.50      0.47      1447\n",
      "           3       0.66      0.68      0.67      1513\n",
      "\n",
      "    accuracy                           0.60      6000\n",
      "   macro avg       0.61      0.60      0.60      6000\n",
      "weighted avg       0.61      0.60      0.60      6000\n",
      "\n",
      "Fitting 5 folds for each of 10 candidates, totalling 50 fits\n"
     ]
    },
    {
     "name": "stderr",
     "output_type": "stream",
     "text": [
      "[Parallel(n_jobs=-1)]: Done  42 tasks      | elapsed:   38.0s\n",
      "[Parallel(n_jobs=-1)]: Done  50 out of  50 | elapsed:   44.3s finished\n"
     ]
    },
    {
     "name": "stdout",
     "output_type": "stream",
     "text": [
      "Clssifier: KNeighborsClassifier()\n"
     ]
    },
    {
     "name": "stderr",
     "output_type": "stream",
     "text": [
      "\r",
      " 60%|██████    | 3/5 [2:16:19<1:19:38, 2389.45s/it]"
     ]
    },
    {
     "name": "stdout",
     "output_type": "stream",
     "text": [
      "              precision    recall  f1-score   support\n",
      "\n",
      "           0       0.65      0.72      0.68      1507\n",
      "           1       0.71      0.68      0.69      1533\n",
      "           2       0.56      0.57      0.57      1447\n",
      "           3       0.75      0.68      0.72      1513\n",
      "\n",
      "    accuracy                           0.66      6000\n",
      "   macro avg       0.67      0.66      0.66      6000\n",
      "weighted avg       0.67      0.66      0.67      6000\n",
      "\n",
      "Fitting 5 folds for each of 28 candidates, totalling 140 fits\n"
     ]
    },
    {
     "name": "stderr",
     "output_type": "stream",
     "text": [
      "[Parallel(n_jobs=-1)]: Using backend LokyBackend with 4 concurrent workers.\n",
      "[Parallel(n_jobs=-1)]: Done 140 out of 140 | elapsed:    7.1s finished\n",
      " 80%|████████  | 4/5 [2:16:26<27:54, 1674.84s/it]  "
     ]
    },
    {
     "name": "stdout",
     "output_type": "stream",
     "text": [
      "Clssifier: DecisionTreeClassifier()\n",
      "              precision    recall  f1-score   support\n",
      "\n",
      "           0       0.61      0.55      0.58      1507\n",
      "           1       0.57      0.56      0.57      1533\n",
      "           2       0.44      0.53      0.48      1447\n",
      "           3       0.62      0.59      0.60      1513\n",
      "\n",
      "    accuracy                           0.56      6000\n",
      "   macro avg       0.56      0.56      0.56      6000\n",
      "weighted avg       0.56      0.56      0.56      6000\n",
      "\n",
      "Fitting 5 folds for each of 24 candidates, totalling 120 fits\n"
     ]
    },
    {
     "name": "stderr",
     "output_type": "stream",
     "text": [
      "[Parallel(n_jobs=-1)]: Using backend LokyBackend with 4 concurrent workers.\n",
      "[Parallel(n_jobs=-1)]: Done  42 tasks      | elapsed:    8.0s\n",
      "[Parallel(n_jobs=-1)]: Done 120 out of 120 | elapsed:   21.0s finished\n",
      "100%|██████████| 5/5 [2:16:48<00:00, 1641.68s/it]"
     ]
    },
    {
     "name": "stdout",
     "output_type": "stream",
     "text": [
      "Clssifier: SGDClassifier()\n",
      "              precision    recall  f1-score   support\n",
      "\n",
      "           0       0.58      0.58      0.58      1507\n",
      "           1       0.58      0.56      0.57      1533\n",
      "           2       0.44      0.49      0.46      1447\n",
      "           3       0.65      0.59      0.62      1513\n",
      "\n",
      "    accuracy                           0.55      6000\n",
      "   macro avg       0.56      0.55      0.56      6000\n",
      "weighted avg       0.56      0.55      0.56      6000\n",
      "\n"
     ]
    },
    {
     "name": "stderr",
     "output_type": "stream",
     "text": [
      "\n"
     ]
    }
   ],
   "source": [
    "best_models = []\n",
    "for i in tqdm(range(len(classifiers))):\n",
    "    \n",
    "    model_grid = GridSearchCV(classifiers[i], parameters[i], refit=True, n_jobs = -1, verbose=1)\n",
    "    model_grid.fit(X_train, y_train)\n",
    "    print('Clssifier:', str(classifiers[i]))\n",
    "    print(classification_report(y_val, model_grid.predict(X_val)))\n",
    "    best_models.append(model_grid.best_estimator_)"
   ]
  },
  {
   "cell_type": "code",
   "execution_count": 20,
   "metadata": {
    "scrolled": true
   },
   "outputs": [
    {
     "data": {
      "text/plain": [
       "[SVC(C=10.0),\n",
       " MLPClassifier(hidden_layer_sizes=(100, 2)),\n",
       " KNeighborsClassifier(n_neighbors=8, weights='distance'),\n",
       " DecisionTreeClassifier(max_depth=8),\n",
       " SGDClassifier(loss='log', max_iter=200, penalty='l1')]"
      ]
     },
     "execution_count": 20,
     "metadata": {},
     "output_type": "execute_result"
    }
   ],
   "source": [
    "best_models"
   ]
  },
  {
   "cell_type": "markdown",
   "metadata": {},
   "source": [
    "### The overall best model (looking only into the f1 score):"
   ]
  },
  {
   "cell_type": "markdown",
   "metadata": {},
   "source": [
    "In order to compare the models previously optimised we will be lookin at their f1 score. As we can see from the classification reports, the best model is the svc model with an f1 score of 0.69 on the validation data. (note that I did not take into account other aspects for instance overfitting when chosing the best model. One way I could have done this was using GridSearchCV's <code>.best_estimator_</code>)"
   ]
  },
  {
   "cell_type": "code",
   "execution_count": 21,
   "metadata": {},
   "outputs": [],
   "source": [
    "overall_best = best_models[0]"
   ]
  },
  {
   "cell_type": "code",
   "execution_count": 22,
   "metadata": {},
   "outputs": [
    {
     "name": "stdout",
     "output_type": "stream",
     "text": [
      "Training Accuracy 0.8687142857142857\n",
      "Validation  Accuracy 0.6888333333333333\n"
     ]
    }
   ],
   "source": [
    "yt_p = overall_best.predict(X_train)\n",
    "yv_p = overall_best.predict(X_val)\n",
    "\n",
    "print('Training Accuracy', np.mean(yt_p==y_train))\n",
    "print('Validation  Accuracy', np.mean(yv_p==y_val))"
   ]
  },
  {
   "cell_type": "markdown",
   "metadata": {},
   "source": [
    "Knowing that accuracies don't always mean that the model chosen is the best, let's take a look at another quality measure."
   ]
  },
  {
   "cell_type": "markdown",
   "metadata": {},
   "source": [
    "#### Confusion Matrices:"
   ]
  },
  {
   "cell_type": "markdown",
   "metadata": {},
   "source": [
    "Let's take a look at the confusion matrices of our SVC model for the training and validation data."
   ]
  },
  {
   "cell_type": "code",
   "execution_count": 23,
   "metadata": {},
   "outputs": [
    {
     "data": {
      "text/plain": [
       "Text(0.5, 1.01, 'Training Confusion Matrix')"
      ]
     },
     "execution_count": 23,
     "metadata": {},
     "output_type": "execute_result"
    },
    {
     "data": {
      "image/png": "[encoded data removed]",
      "text/plain": [
       "<Figure size 720x720 with 2 Axes>"
      ]
     },
     "metadata": {
      "needs_background": "light"
     },
     "output_type": "display_data"
    }
   ],
   "source": [
    "fig, axs = plt.subplots(1,1, figsize=(10,10))\n",
    "plot_confusion_matrix(overall_best, X_train, y_train, normalize='true', ax=axs)\n",
    "axs.tick_params(labelsize=15)\n",
    "axs.set_xlabel('Predicted Label', fontsize=15)\n",
    "axs.set_ylabel('True Lable',fontsize=15)\n",
    "axs.set_title('Training Confusion Matrix', fontsize=20, y=1.01)"
   ]
  },
  {
   "cell_type": "markdown",
   "metadata": {},
   "source": [
    "The confusion matrix allows us to check, just as the name suggest, what classes were confused with others. As we can see by the training confusion matrix the class that our model struggled the most with was the neutral intonation, having confused it the most with the bored intonation."
   ]
  },
  {
   "cell_type": "code",
   "execution_count": 24,
   "metadata": {},
   "outputs": [
    {
     "data": {
      "text/plain": [
       "Text(0.5, 1.01, 'Training Confusion Matrix')"
      ]
     },
     "execution_count": 24,
     "metadata": {},
     "output_type": "execute_result"
    },
    {
     "data": {
      "image/png": "[encoded data removed]",
      "text/plain": [
       "<Figure size 720x720 with 2 Axes>"
      ]
     },
     "metadata": {
      "needs_background": "light"
     },
     "output_type": "display_data"
    }
   ],
   "source": [
    "fig, axs = plt.subplots(1,1, figsize=(10,10))\n",
    "plot_confusion_matrix(overall_best, X_val, y_val, normalize='true', ax=axs)\n",
    "axs.tick_params(labelsize=15)\n",
    "axs.set_xlabel('Predicted Label', fontsize=15)\n",
    "axs.set_ylabel('True Lable',fontsize=15)\n",
    "axs.set_title('Training Confusion Matrix', fontsize=20, y=1.01)"
   ]
  },
  {
   "cell_type": "markdown",
   "metadata": {},
   "source": [
    "The validation confusion matrix provides very similar information as the training confusion matrix. Once again the hardest intonation to classify was the neutral intonation. This could mean that the participants neutral and bored intonations are very similar. Perhaps if we listened to the audios ourselves we would struggle to classify them."
   ]
  },
  {
   "cell_type": "markdown",
   "metadata": {},
   "source": [
    "### The voting Classifier:"
   ]
  },
  {
   "cell_type": "markdown",
   "metadata": {},
   "source": [
    "Let's try something different. Let's see if by \"combining\" all, but the best classifier we can build a model that matches or even surpasses the SVC model.\n",
    "\n",
    "What do I mean by combining these classifiers? Well we are going to take into account all of their classification decisions and only then classify the sample. In other words we are building a voting classifier!."
   ]
  },
  {
   "cell_type": "code",
   "execution_count": 25,
   "metadata": {
    "scrolled": true
   },
   "outputs": [
    {
     "data": {
      "text/plain": [
       "VotingClassifier(estimators=[('mlp',\n",
       "                              MLPClassifier(hidden_layer_sizes=(100, 2))),\n",
       "                             ('knn',\n",
       "                              KNeighborsClassifier(n_neighbors=8,\n",
       "                                                   weights='distance')),\n",
       "                             ('dt', DecisionTreeClassifier(max_depth=8)),\n",
       "                             ('sgd',\n",
       "                              SGDClassifier(loss='log', max_iter=200,\n",
       "                                            penalty='l1'))],\n",
       "                 n_jobs=-1, voting='soft')"
      ]
     },
     "execution_count": 25,
     "metadata": {},
     "output_type": "execute_result"
    }
   ],
   "source": [
    "estimators = [('mlp', best_models[1]), \n",
    "              ('knn', best_models[2]), ('dt', best_models[3]), ('sgd', best_models[4])]\n",
    "\n",
    "voting_clf = VotingClassifier(estimators = estimators, voting = 'soft', n_jobs=-1)\n",
    "voting_clf.fit(X_train, y_train)"
   ]
  },
  {
   "cell_type": "code",
   "execution_count": null,
   "metadata": {},
   "outputs": [],
   "source": [
    "print(classification_report(y_val, voting_clf.predict(X_val)))"
   ]
  },
  {
   "cell_type": "markdown",
   "metadata": {},
   "source": [
    "#### Confusion Matrices:"
   ]
  },
  {
   "cell_type": "code",
   "execution_count": 26,
   "metadata": {},
   "outputs": [
    {
     "data": {
      "text/plain": [
       "Text(0.5, 1.01, 'Training Confusion Matrix')"
      ]
     },
     "execution_count": 26,
     "metadata": {},
     "output_type": "execute_result"
    },
    {
     "data": {
      "image/png": "[encoded data removed]",
      "text/plain": [
       "<Figure size 720x720 with 2 Axes>"
      ]
     },
     "metadata": {
      "needs_background": "light"
     },
     "output_type": "display_data"
    }
   ],
   "source": [
    "fig, axs = plt.subplots(1,1, figsize=(10,10))\n",
    "plot_confusion_matrix(voting_clf, X_train, y_train, normalize='true', ax=axs)\n",
    "axs.tick_params(labelsize=15)\n",
    "axs.set_xlabel('Predicted Label', fontsize=15)\n",
    "axs.set_ylabel('True Lable',fontsize=15)\n",
    "axs.set_title('Training Confusion Matrix', fontsize=20, y=1.01)"
   ]
  },
  {
   "cell_type": "markdown",
   "metadata": {},
   "source": [
    "Comparing this training confusion matrix with the SVC's we can clearly see who  classified the classes better. However this is only training, meaning that the model could have overfitted. (Spoiler alert: it did)"
   ]
  },
  {
   "cell_type": "code",
   "execution_count": 27,
   "metadata": {},
   "outputs": [
    {
     "data": {
      "text/plain": [
       "Text(0.5, 1.01, 'Validation Confusion Matrix')"
      ]
     },
     "execution_count": 27,
     "metadata": {},
     "output_type": "execute_result"
    },
    {
     "data": {
      "image/png": "[encoded data removed]",
      "text/plain": [
       "<Figure size 720x720 with 2 Axes>"
      ]
     },
     "metadata": {
      "needs_background": "light"
     },
     "output_type": "display_data"
    }
   ],
   "source": [
    "fig, axs = plt.subplots(1,1, figsize=(10,10))\n",
    "plot_confusion_matrix(voting_clf, X_val, y_val, normalize='true', ax=axs)\n",
    "axs.tick_params(labelsize=15)\n",
    "axs.set_xlabel('Predicted Label', fontsize=15)\n",
    "axs.set_ylabel('True Lable',fontsize=15)\n",
    "axs.set_title('Validation Confusion Matrix', fontsize=20, y=1.01)"
   ]
  },
  {
   "cell_type": "markdown",
   "metadata": {},
   "source": [
    "By comparing the validation confusion matrices we conclude that the SVC performed better overall having confused less intonations. However we can see that the voting classifier performed better with the bored intonation having classified correctly 74% of the samples (bored intonation samples) in contrats to the 73% of the SVC model."
   ]
  },
  {
   "cell_type": "markdown",
   "metadata": {
    "id": "m3Cw8FqxyZdX"
   },
   "source": [
    "### Neural Network model:"
   ]
  },
  {
   "cell_type": "markdown",
   "metadata": {},
   "source": [
    "Let's take things to a higher level and develope a fully customisable neural network using keras."
   ]
  },
  {
   "cell_type": "code",
   "execution_count": 28,
   "metadata": {
    "id": "wcoTTO-1Vi9h"
   },
   "outputs": [],
   "source": [
    "import keras\n",
    "from keras.models import Sequential\n",
    "from keras.layers import Dense, Conv1D, Flatten, Dropout, MaxPooling1D, LSTM"
   ]
  },
  {
   "cell_type": "code",
   "execution_count": 29,
   "metadata": {
    "id": "ztg0uT_SL_lG"
   },
   "outputs": [],
   "source": [
    "dataframe = pd.DataFrame(y, columns = ['Intonation encoded'])"
   ]
  },
  {
   "cell_type": "markdown",
   "metadata": {
    "id": "0ALC2qMkSKiQ"
   },
   "source": [
    "#### One hot encoding the labels:"
   ]
  },
  {
   "cell_type": "markdown",
   "metadata": {},
   "source": [
    "Since we are using keras we will be encoding our intonation labels using one hot vectors instead of the previously used method."
   ]
  },
  {
   "cell_type": "code",
   "execution_count": 30,
   "metadata": {
    "id": "vR8VU2KdyUKG"
   },
   "outputs": [],
   "source": [
    "from sklearn.preprocessing import OneHotEncoder\n",
    "\n",
    "enc = OneHotEncoder(handle_unknown='ignore')\n",
    "one_hot_y = enc.fit_transform(dataframe[['Intonation encoded']]).toarray()"
   ]
  },
  {
   "cell_type": "code",
   "execution_count": 31,
   "metadata": {
    "id": "U3B8DrSyT_Np"
   },
   "outputs": [],
   "source": [
    "nn_X_train, nn_X_test, nn_y_train, nn_y_test = train_test_split(X_important,one_hot_y,test_size=0.3)"
   ]
  },
  {
   "cell_type": "code",
   "execution_count": 32,
   "metadata": {
    "colab": {
     "base_uri": "https://localhost:8080/"
    },
    "id": "rXJoMg87f0o3",
    "outputId": "e63542aa-bd86-4354-d67f-fdb2d70c568b"
   },
   "outputs": [
    {
     "data": {
      "text/plain": [
       "(14000, 14000)"
      ]
     },
     "execution_count": 32,
     "metadata": {},
     "output_type": "execute_result"
    }
   ],
   "source": [
    "len(nn_X_train), len(nn_y_train)"
   ]
  },
  {
   "cell_type": "code",
   "execution_count": 33,
   "metadata": {
    "id": "EFKw6VoMenbo"
   },
   "outputs": [],
   "source": [
    "## 80% training, 20% validation\n",
    "train_size = int(0.80*len(nn_X_train))\n",
    "val_size = len(nn_X_train)-train_size\n",
    "\n",
    "nn_X_val = np.array(nn_X_train[:val_size])\n",
    "partial_X_train = np.array(nn_X_train[train_size:])\n",
    "\n",
    "nn_y_val = np.array(nn_y_train[:val_size])\n",
    "partial_y_train = np.array(nn_y_train[train_size:])"
   ]
  },
  {
   "cell_type": "code",
   "execution_count": 34,
   "metadata": {},
   "outputs": [
    {
     "data": {
      "text/plain": [
       "((2800, 25), (2800, 4))"
      ]
     },
     "execution_count": 34,
     "metadata": {},
     "output_type": "execute_result"
    }
   ],
   "source": [
    "partial_X_train.shape, partial_y_train.shape"
   ]
  },
  {
   "cell_type": "markdown",
   "metadata": {
    "id": "0biqxU6_tapZ"
   },
   "source": [
    "#### Network Structure:"
   ]
  },
  {
   "cell_type": "markdown",
   "metadata": {},
   "source": [
    "Here I build a simple neural network using only fully connected layers (Dense layers) and adding some Dropout layers. The concept of dropout comes from the idea of randomly dropping units during the training process of a NN. The main advantage of this concept is the reduction of overfitting in the NN. In other words dropout is a regularization technique that prevents co-adaptation on training data, therefore reducing overfitting."
   ]
  },
  {
   "cell_type": "code",
   "execution_count": 35,
   "metadata": {
    "colab": {
     "base_uri": "https://localhost:8080/"
    },
    "id": "zysBQ-C8jDZ3",
    "outputId": "a7f0efd2-8530-477e-8665-3198c2119f64"
   },
   "outputs": [],
   "source": [
    "model = Sequential()\n",
    "model.add(Dense(128, input_dim=X_train.shape[1], activation='relu'))\n",
    "model.add(Dropout(0.25))\n",
    "model.add(Dense(64, activation='relu'))\n",
    "model.add(Dense(32, activation='relu'))\n",
    "model.add(Dense(16, activation='relu'))\n",
    "model.add(Dense(4, activation='sigmoid'))\n",
    "\n",
    "\n",
    "model.compile(loss='categorical_crossentropy', optimizer='adam', metrics=['accuracy'])"
   ]
  },
  {
   "cell_type": "code",
   "execution_count": 36,
   "metadata": {
    "scrolled": true
   },
   "outputs": [
    {
     "name": "stdout",
     "output_type": "stream",
     "text": [
      "Epoch 1/350\n",
      "28/28 [==============================] - 1s 13ms/step - loss: 1.3438 - accuracy: 0.2774 - val_loss: 1.2135 - val_accuracy: 0.4461\n",
      "Epoch 2/350\n",
      "28/28 [==============================] - 0s 3ms/step - loss: 1.2145 - accuracy: 0.4313 - val_loss: 1.1002 - val_accuracy: 0.5146\n",
      "Epoch 3/350\n",
      "28/28 [==============================] - 0s 3ms/step - loss: 1.1166 - accuracy: 0.4960 - val_loss: 1.0405 - val_accuracy: 0.5357\n",
      "Epoch 4/350\n",
      "28/28 [==============================] - 0s 3ms/step - loss: 1.0901 - accuracy: 0.5008 - val_loss: 1.0152 - val_accuracy: 0.5311\n",
      "Epoch 5/350\n",
      "28/28 [==============================] - 0s 3ms/step - loss: 1.0249 - accuracy: 0.5261 - val_loss: 0.9959 - val_accuracy: 0.5496\n",
      "Epoch 6/350\n",
      "28/28 [==============================] - 0s 3ms/step - loss: 0.9913 - accuracy: 0.5611 - val_loss: 0.9852 - val_accuracy: 0.5525\n",
      "Epoch 7/350\n",
      "28/28 [==============================] - 0s 3ms/step - loss: 0.9651 - accuracy: 0.5756 - val_loss: 0.9816 - val_accuracy: 0.5596\n",
      "Epoch 8/350\n",
      "28/28 [==============================] - 0s 3ms/step - loss: 0.9542 - accuracy: 0.5654 - val_loss: 0.9690 - val_accuracy: 0.5711\n",
      "Epoch 9/350\n",
      "28/28 [==============================] - 0s 2ms/step - loss: 0.9489 - accuracy: 0.5753 - val_loss: 0.9704 - val_accuracy: 0.5711\n",
      "Epoch 10/350\n",
      "28/28 [==============================] - 0s 3ms/step - loss: 0.9601 - accuracy: 0.5821 - val_loss: 0.9684 - val_accuracy: 0.5625\n",
      "Epoch 11/350\n",
      "28/28 [==============================] - 0s 3ms/step - loss: 0.9132 - accuracy: 0.5865 - val_loss: 0.9665 - val_accuracy: 0.5686\n",
      "Epoch 12/350\n",
      "28/28 [==============================] - 0s 3ms/step - loss: 0.8936 - accuracy: 0.5976 - val_loss: 0.9606 - val_accuracy: 0.5732\n",
      "Epoch 13/350\n",
      "28/28 [==============================] - 0s 3ms/step - loss: 0.9182 - accuracy: 0.5960 - val_loss: 0.9585 - val_accuracy: 0.5696\n",
      "Epoch 14/350\n",
      "28/28 [==============================] - 0s 3ms/step - loss: 0.9207 - accuracy: 0.5986 - val_loss: 0.9544 - val_accuracy: 0.5786\n",
      "Epoch 15/350\n",
      "28/28 [==============================] - 0s 3ms/step - loss: 0.8769 - accuracy: 0.6116 - val_loss: 0.9539 - val_accuracy: 0.5771\n",
      "Epoch 16/350\n",
      "28/28 [==============================] - 0s 3ms/step - loss: 0.8892 - accuracy: 0.6207 - val_loss: 0.9585 - val_accuracy: 0.5661\n",
      "Epoch 17/350\n",
      "28/28 [==============================] - 0s 3ms/step - loss: 0.8748 - accuracy: 0.6031 - val_loss: 0.9577 - val_accuracy: 0.5650\n",
      "Epoch 18/350\n",
      "28/28 [==============================] - 0s 3ms/step - loss: 0.8568 - accuracy: 0.6263 - val_loss: 0.9537 - val_accuracy: 0.5721\n",
      "Epoch 19/350\n",
      "28/28 [==============================] - 0s 3ms/step - loss: 0.8529 - accuracy: 0.6287 - val_loss: 0.9616 - val_accuracy: 0.5604\n",
      "Epoch 20/350\n",
      "28/28 [==============================] - 0s 3ms/step - loss: 0.8470 - accuracy: 0.6293 - val_loss: 0.9585 - val_accuracy: 0.5725\n",
      "Epoch 21/350\n",
      "28/28 [==============================] - 0s 3ms/step - loss: 0.8652 - accuracy: 0.6225 - val_loss: 0.9453 - val_accuracy: 0.5811\n",
      "Epoch 22/350\n",
      "28/28 [==============================] - 0s 3ms/step - loss: 0.8362 - accuracy: 0.6422 - val_loss: 0.9509 - val_accuracy: 0.5821\n",
      "Epoch 23/350\n",
      "28/28 [==============================] - 0s 3ms/step - loss: 0.8096 - accuracy: 0.6458 - val_loss: 0.9482 - val_accuracy: 0.5764\n",
      "Epoch 24/350\n",
      "28/28 [==============================] - 0s 3ms/step - loss: 0.8292 - accuracy: 0.6234 - val_loss: 0.9560 - val_accuracy: 0.5811\n",
      "Epoch 25/350\n",
      "28/28 [==============================] - 0s 3ms/step - loss: 0.8295 - accuracy: 0.6287 - val_loss: 0.9581 - val_accuracy: 0.5857\n",
      "Epoch 26/350\n",
      "28/28 [==============================] - 0s 3ms/step - loss: 0.8183 - accuracy: 0.6425 - val_loss: 0.9679 - val_accuracy: 0.5746\n",
      "Epoch 27/350\n",
      "28/28 [==============================] - 0s 3ms/step - loss: 0.7996 - accuracy: 0.6559 - val_loss: 0.9755 - val_accuracy: 0.5579\n",
      "Epoch 28/350\n",
      "28/28 [==============================] - 0s 3ms/step - loss: 0.8006 - accuracy: 0.6487 - val_loss: 0.9530 - val_accuracy: 0.5882\n",
      "Epoch 29/350\n",
      "28/28 [==============================] - 0s 3ms/step - loss: 0.8036 - accuracy: 0.6446 - val_loss: 0.9489 - val_accuracy: 0.5864\n",
      "Epoch 30/350\n",
      "28/28 [==============================] - 0s 3ms/step - loss: 0.7778 - accuracy: 0.6573 - val_loss: 0.9600 - val_accuracy: 0.5836\n",
      "Epoch 31/350\n",
      "28/28 [==============================] - 0s 3ms/step - loss: 0.7726 - accuracy: 0.6601 - val_loss: 0.9586 - val_accuracy: 0.5871\n",
      "Epoch 32/350\n",
      "28/28 [==============================] - 0s 3ms/step - loss: 0.7662 - accuracy: 0.6752 - val_loss: 0.9733 - val_accuracy: 0.5818\n",
      "Epoch 33/350\n",
      "28/28 [==============================] - 0s 3ms/step - loss: 0.7459 - accuracy: 0.6869 - val_loss: 0.9522 - val_accuracy: 0.5979\n",
      "Epoch 34/350\n",
      "28/28 [==============================] - 0s 3ms/step - loss: 0.7709 - accuracy: 0.6736 - val_loss: 0.9597 - val_accuracy: 0.5896\n",
      "Epoch 35/350\n",
      "28/28 [==============================] - 0s 3ms/step - loss: 0.7508 - accuracy: 0.6846 - val_loss: 0.9584 - val_accuracy: 0.5964\n",
      "Epoch 36/350\n",
      "28/28 [==============================] - 0s 3ms/step - loss: 0.7426 - accuracy: 0.6918 - val_loss: 0.9617 - val_accuracy: 0.5911\n",
      "Epoch 37/350\n",
      "28/28 [==============================] - 0s 3ms/step - loss: 0.7196 - accuracy: 0.6870 - val_loss: 0.9700 - val_accuracy: 0.5882\n",
      "Epoch 38/350\n",
      "28/28 [==============================] - 0s 3ms/step - loss: 0.7151 - accuracy: 0.6952 - val_loss: 0.9723 - val_accuracy: 0.5796\n",
      "Epoch 39/350\n",
      "28/28 [==============================] - 0s 3ms/step - loss: 0.7279 - accuracy: 0.7039 - val_loss: 0.9678 - val_accuracy: 0.5893\n",
      "Epoch 40/350\n",
      "28/28 [==============================] - 0s 3ms/step - loss: 0.7068 - accuracy: 0.7049 - val_loss: 0.9752 - val_accuracy: 0.5836\n",
      "Epoch 41/350\n",
      "28/28 [==============================] - 0s 3ms/step - loss: 0.7087 - accuracy: 0.7017 - val_loss: 0.9874 - val_accuracy: 0.5832\n",
      "Epoch 42/350\n",
      "28/28 [==============================] - 0s 2ms/step - loss: 0.6880 - accuracy: 0.7071 - val_loss: 0.9960 - val_accuracy: 0.5771\n",
      "Epoch 43/350\n",
      "28/28 [==============================] - 0s 3ms/step - loss: 0.7331 - accuracy: 0.6814 - val_loss: 0.9815 - val_accuracy: 0.5904\n",
      "Epoch 44/350\n",
      "28/28 [==============================] - 0s 3ms/step - loss: 0.6924 - accuracy: 0.7098 - val_loss: 0.9801 - val_accuracy: 0.5954\n",
      "Epoch 45/350\n",
      "28/28 [==============================] - 0s 3ms/step - loss: 0.6917 - accuracy: 0.7069 - val_loss: 0.9745 - val_accuracy: 0.5871\n",
      "Epoch 46/350\n",
      "28/28 [==============================] - 0s 3ms/step - loss: 0.6754 - accuracy: 0.7196 - val_loss: 0.9871 - val_accuracy: 0.5864\n",
      "Epoch 47/350\n",
      "28/28 [==============================] - 0s 3ms/step - loss: 0.6580 - accuracy: 0.7211 - val_loss: 0.9992 - val_accuracy: 0.5796\n",
      "Epoch 48/350\n",
      "28/28 [==============================] - 0s 3ms/step - loss: 0.6668 - accuracy: 0.7320 - val_loss: 1.0039 - val_accuracy: 0.5836\n",
      "Epoch 49/350\n",
      "28/28 [==============================] - 0s 3ms/step - loss: 0.6476 - accuracy: 0.7319 - val_loss: 0.9990 - val_accuracy: 0.5932\n",
      "Epoch 50/350\n",
      "28/28 [==============================] - 0s 3ms/step - loss: 0.6350 - accuracy: 0.7358 - val_loss: 1.0042 - val_accuracy: 0.5864\n",
      "Epoch 51/350\n",
      "28/28 [==============================] - 0s 3ms/step - loss: 0.6417 - accuracy: 0.7252 - val_loss: 1.0069 - val_accuracy: 0.5889\n",
      "Epoch 52/350\n",
      "28/28 [==============================] - 0s 3ms/step - loss: 0.6159 - accuracy: 0.7465 - val_loss: 1.0061 - val_accuracy: 0.5868\n",
      "Epoch 53/350\n",
      "28/28 [==============================] - 0s 3ms/step - loss: 0.6418 - accuracy: 0.7372 - val_loss: 1.0304 - val_accuracy: 0.5807\n",
      "Epoch 54/350\n",
      "28/28 [==============================] - 0s 3ms/step - loss: 0.6467 - accuracy: 0.7246 - val_loss: 1.0112 - val_accuracy: 0.5832\n",
      "Epoch 55/350\n",
      "28/28 [==============================] - 0s 3ms/step - loss: 0.6434 - accuracy: 0.7350 - val_loss: 1.0180 - val_accuracy: 0.5904\n",
      "Epoch 56/350\n",
      "28/28 [==============================] - 0s 3ms/step - loss: 0.6159 - accuracy: 0.7506 - val_loss: 1.0243 - val_accuracy: 0.5918\n",
      "Epoch 57/350\n",
      "28/28 [==============================] - 0s 3ms/step - loss: 0.5873 - accuracy: 0.7690 - val_loss: 1.0250 - val_accuracy: 0.5804\n",
      "Epoch 58/350\n",
      "28/28 [==============================] - 0s 3ms/step - loss: 0.6145 - accuracy: 0.7435 - val_loss: 1.0367 - val_accuracy: 0.5825\n"
     ]
    },
    {
     "name": "stdout",
     "output_type": "stream",
     "text": [
      "Epoch 59/350\n",
      "28/28 [==============================] - 0s 3ms/step - loss: 0.6093 - accuracy: 0.7516 - val_loss: 1.0387 - val_accuracy: 0.5861\n",
      "Epoch 60/350\n",
      "28/28 [==============================] - 0s 3ms/step - loss: 0.6044 - accuracy: 0.7409 - val_loss: 1.0534 - val_accuracy: 0.5768\n",
      "Epoch 61/350\n",
      "28/28 [==============================] - 0s 3ms/step - loss: 0.5935 - accuracy: 0.7557 - val_loss: 1.0607 - val_accuracy: 0.5739\n",
      "Epoch 62/350\n",
      "28/28 [==============================] - 0s 3ms/step - loss: 0.6113 - accuracy: 0.7440 - val_loss: 1.0307 - val_accuracy: 0.6064\n",
      "Epoch 63/350\n",
      "28/28 [==============================] - 0s 3ms/step - loss: 0.5722 - accuracy: 0.7628 - val_loss: 1.0360 - val_accuracy: 0.5889\n",
      "Epoch 64/350\n",
      "28/28 [==============================] - 0s 3ms/step - loss: 0.5901 - accuracy: 0.7405 - val_loss: 1.0474 - val_accuracy: 0.5871\n",
      "Epoch 65/350\n",
      "28/28 [==============================] - 0s 3ms/step - loss: 0.5698 - accuracy: 0.7647 - val_loss: 1.0584 - val_accuracy: 0.5896\n",
      "Epoch 66/350\n",
      "28/28 [==============================] - 0s 3ms/step - loss: 0.5578 - accuracy: 0.7783 - val_loss: 1.0660 - val_accuracy: 0.5746\n",
      "Epoch 67/350\n",
      "28/28 [==============================] - 0s 3ms/step - loss: 0.5594 - accuracy: 0.7791 - val_loss: 1.0646 - val_accuracy: 0.5943\n",
      "Epoch 68/350\n",
      "28/28 [==============================] - 0s 3ms/step - loss: 0.5463 - accuracy: 0.7683 - val_loss: 1.0779 - val_accuracy: 0.5850\n",
      "Epoch 69/350\n",
      "28/28 [==============================] - 0s 3ms/step - loss: 0.5547 - accuracy: 0.7746 - val_loss: 1.0763 - val_accuracy: 0.5800\n",
      "Epoch 70/350\n",
      "28/28 [==============================] - 0s 3ms/step - loss: 0.5232 - accuracy: 0.7874 - val_loss: 1.0689 - val_accuracy: 0.5925\n",
      "Epoch 71/350\n",
      "28/28 [==============================] - 0s 3ms/step - loss: 0.5287 - accuracy: 0.7744 - val_loss: 1.1021 - val_accuracy: 0.5814\n",
      "Epoch 72/350\n",
      "28/28 [==============================] - 0s 3ms/step - loss: 0.5348 - accuracy: 0.7712 - val_loss: 1.0669 - val_accuracy: 0.5871\n",
      "Epoch 73/350\n",
      "28/28 [==============================] - 0s 3ms/step - loss: 0.5320 - accuracy: 0.7723 - val_loss: 1.0800 - val_accuracy: 0.5989\n",
      "Epoch 74/350\n",
      "28/28 [==============================] - 0s 3ms/step - loss: 0.5343 - accuracy: 0.7758 - val_loss: 1.0938 - val_accuracy: 0.5814\n",
      "Epoch 75/350\n",
      "28/28 [==============================] - 0s 3ms/step - loss: 0.5398 - accuracy: 0.7827 - val_loss: 1.0789 - val_accuracy: 0.5968\n",
      "Epoch 76/350\n",
      "28/28 [==============================] - 0s 3ms/step - loss: 0.5481 - accuracy: 0.7876 - val_loss: 1.1020 - val_accuracy: 0.5879\n",
      "Epoch 77/350\n",
      "28/28 [==============================] - 0s 3ms/step - loss: 0.5132 - accuracy: 0.7864 - val_loss: 1.0937 - val_accuracy: 0.5900\n",
      "Epoch 78/350\n",
      "28/28 [==============================] - 0s 3ms/step - loss: 0.5007 - accuracy: 0.7999 - val_loss: 1.1014 - val_accuracy: 0.5918\n",
      "Epoch 79/350\n",
      "28/28 [==============================] - 0s 3ms/step - loss: 0.4756 - accuracy: 0.8131 - val_loss: 1.1184 - val_accuracy: 0.5907\n",
      "Epoch 80/350\n",
      "28/28 [==============================] - 0s 3ms/step - loss: 0.4946 - accuracy: 0.7962 - val_loss: 1.1246 - val_accuracy: 0.5911\n",
      "Epoch 81/350\n",
      "28/28 [==============================] - 0s 3ms/step - loss: 0.4962 - accuracy: 0.8047 - val_loss: 1.1258 - val_accuracy: 0.5814\n",
      "Epoch 82/350\n",
      "28/28 [==============================] - 0s 3ms/step - loss: 0.4954 - accuracy: 0.7990 - val_loss: 1.1490 - val_accuracy: 0.5725\n",
      "Epoch 83/350\n",
      "28/28 [==============================] - 0s 3ms/step - loss: 0.5246 - accuracy: 0.7875 - val_loss: 1.1181 - val_accuracy: 0.5875\n",
      "Epoch 84/350\n",
      "28/28 [==============================] - 0s 3ms/step - loss: 0.4922 - accuracy: 0.7999 - val_loss: 1.1482 - val_accuracy: 0.5846\n",
      "Epoch 85/350\n",
      "28/28 [==============================] - 0s 3ms/step - loss: 0.5194 - accuracy: 0.7932 - val_loss: 1.1551 - val_accuracy: 0.5832\n",
      "Epoch 86/350\n",
      "28/28 [==============================] - 0s 3ms/step - loss: 0.4667 - accuracy: 0.8122 - val_loss: 1.1493 - val_accuracy: 0.5793\n",
      "Epoch 87/350\n",
      "28/28 [==============================] - 0s 3ms/step - loss: 0.4576 - accuracy: 0.8147 - val_loss: 1.1434 - val_accuracy: 0.5857\n",
      "Epoch 88/350\n",
      "28/28 [==============================] - 0s 3ms/step - loss: 0.4495 - accuracy: 0.8199 - val_loss: 1.1648 - val_accuracy: 0.5836\n",
      "Epoch 89/350\n",
      "28/28 [==============================] - 0s 3ms/step - loss: 0.4374 - accuracy: 0.8207 - val_loss: 1.1656 - val_accuracy: 0.5829\n",
      "Epoch 90/350\n",
      "28/28 [==============================] - 0s 3ms/step - loss: 0.4520 - accuracy: 0.8172 - val_loss: 1.1880 - val_accuracy: 0.5854\n",
      "Epoch 91/350\n",
      "28/28 [==============================] - 0s 3ms/step - loss: 0.4549 - accuracy: 0.8044 - val_loss: 1.1707 - val_accuracy: 0.5782\n",
      "Epoch 92/350\n",
      "28/28 [==============================] - 0s 3ms/step - loss: 0.4372 - accuracy: 0.8227 - val_loss: 1.1644 - val_accuracy: 0.5871\n",
      "Epoch 93/350\n",
      "28/28 [==============================] - 0s 3ms/step - loss: 0.4442 - accuracy: 0.8135 - val_loss: 1.1884 - val_accuracy: 0.5779\n",
      "Epoch 94/350\n",
      "28/28 [==============================] - 0s 3ms/step - loss: 0.4759 - accuracy: 0.8149 - val_loss: 1.1700 - val_accuracy: 0.5886\n",
      "Epoch 95/350\n",
      "28/28 [==============================] - 0s 3ms/step - loss: 0.4146 - accuracy: 0.8354 - val_loss: 1.1891 - val_accuracy: 0.5857\n",
      "Epoch 96/350\n",
      "28/28 [==============================] - 0s 3ms/step - loss: 0.4687 - accuracy: 0.8196 - val_loss: 1.1946 - val_accuracy: 0.5821\n",
      "Epoch 97/350\n",
      "28/28 [==============================] - 0s 3ms/step - loss: 0.4538 - accuracy: 0.8275 - val_loss: 1.2217 - val_accuracy: 0.5754\n",
      "Epoch 98/350\n",
      "28/28 [==============================] - 0s 3ms/step - loss: 0.4484 - accuracy: 0.8188 - val_loss: 1.2050 - val_accuracy: 0.5825\n",
      "Epoch 99/350\n",
      "28/28 [==============================] - 0s 3ms/step - loss: 0.4421 - accuracy: 0.8082 - val_loss: 1.2103 - val_accuracy: 0.5818\n",
      "Epoch 100/350\n",
      "28/28 [==============================] - 0s 3ms/step - loss: 0.4441 - accuracy: 0.8176 - val_loss: 1.1979 - val_accuracy: 0.5904\n",
      "Epoch 101/350\n",
      "28/28 [==============================] - 0s 3ms/step - loss: 0.4189 - accuracy: 0.8342 - val_loss: 1.1909 - val_accuracy: 0.5893\n",
      "Epoch 102/350\n",
      "28/28 [==============================] - 0s 3ms/step - loss: 0.4424 - accuracy: 0.8192 - val_loss: 1.2275 - val_accuracy: 0.5764\n",
      "Epoch 103/350\n",
      "28/28 [==============================] - 0s 3ms/step - loss: 0.4511 - accuracy: 0.8107 - val_loss: 1.2235 - val_accuracy: 0.5764\n",
      "Epoch 104/350\n",
      "28/28 [==============================] - 0s 3ms/step - loss: 0.4380 - accuracy: 0.8180 - val_loss: 1.2276 - val_accuracy: 0.5864\n",
      "Epoch 105/350\n",
      "28/28 [==============================] - 0s 2ms/step - loss: 0.4189 - accuracy: 0.8263 - val_loss: 1.2306 - val_accuracy: 0.5925\n",
      "Epoch 106/350\n",
      "28/28 [==============================] - 0s 3ms/step - loss: 0.4025 - accuracy: 0.8437 - val_loss: 1.2609 - val_accuracy: 0.5829\n",
      "Epoch 107/350\n",
      "28/28 [==============================] - 0s 3ms/step - loss: 0.4257 - accuracy: 0.8383 - val_loss: 1.2357 - val_accuracy: 0.5818\n",
      "Epoch 108/350\n",
      "28/28 [==============================] - 0s 3ms/step - loss: 0.4062 - accuracy: 0.8412 - val_loss: 1.2480 - val_accuracy: 0.5868\n",
      "Epoch 109/350\n",
      "28/28 [==============================] - 0s 3ms/step - loss: 0.3870 - accuracy: 0.8602 - val_loss: 1.2642 - val_accuracy: 0.5814\n",
      "Epoch 110/350\n",
      "28/28 [==============================] - 0s 3ms/step - loss: 0.4134 - accuracy: 0.8359 - val_loss: 1.2697 - val_accuracy: 0.5657\n",
      "Epoch 111/350\n",
      "28/28 [==============================] - 0s 3ms/step - loss: 0.4179 - accuracy: 0.8247 - val_loss: 1.2702 - val_accuracy: 0.5800\n",
      "Epoch 112/350\n",
      "28/28 [==============================] - 0s 3ms/step - loss: 0.3764 - accuracy: 0.8521 - val_loss: 1.2722 - val_accuracy: 0.5839\n",
      "Epoch 113/350\n",
      "28/28 [==============================] - 0s 3ms/step - loss: 0.3908 - accuracy: 0.8479 - val_loss: 1.2987 - val_accuracy: 0.5854\n",
      "Epoch 114/350\n",
      "28/28 [==============================] - 0s 3ms/step - loss: 0.4033 - accuracy: 0.8428 - val_loss: 1.3096 - val_accuracy: 0.5750\n",
      "Epoch 115/350\n",
      "28/28 [==============================] - 0s 3ms/step - loss: 0.4267 - accuracy: 0.8281 - val_loss: 1.2744 - val_accuracy: 0.5868\n",
      "Epoch 116/350\n",
      "28/28 [==============================] - 0s 3ms/step - loss: 0.3983 - accuracy: 0.8398 - val_loss: 1.3211 - val_accuracy: 0.5707\n",
      "Epoch 117/350\n",
      "28/28 [==============================] - 0s 3ms/step - loss: 0.3879 - accuracy: 0.8370 - val_loss: 1.2947 - val_accuracy: 0.5900\n",
      "Epoch 118/350\n",
      "28/28 [==============================] - 0s 3ms/step - loss: 0.3856 - accuracy: 0.8456 - val_loss: 1.3061 - val_accuracy: 0.5786\n",
      "Epoch 119/350\n",
      "28/28 [==============================] - 0s 3ms/step - loss: 0.3854 - accuracy: 0.8428 - val_loss: 1.3128 - val_accuracy: 0.5896\n",
      "Epoch 120/350\n",
      "28/28 [==============================] - 0s 3ms/step - loss: 0.3811 - accuracy: 0.8588 - val_loss: 1.3150 - val_accuracy: 0.5843\n",
      "Epoch 121/350\n",
      "28/28 [==============================] - 0s 3ms/step - loss: 0.3756 - accuracy: 0.8442 - val_loss: 1.3042 - val_accuracy: 0.5832\n",
      "Epoch 122/350\n",
      "28/28 [==============================] - 0s 3ms/step - loss: 0.3739 - accuracy: 0.8543 - val_loss: 1.3269 - val_accuracy: 0.5746\n",
      "Epoch 123/350\n",
      "28/28 [==============================] - 0s 3ms/step - loss: 0.3584 - accuracy: 0.8598 - val_loss: 1.3328 - val_accuracy: 0.5675\n",
      "Epoch 124/350\n",
      "28/28 [==============================] - 0s 3ms/step - loss: 0.3700 - accuracy: 0.8640 - val_loss: 1.3335 - val_accuracy: 0.5907\n",
      "Epoch 125/350\n",
      "28/28 [==============================] - 0s 3ms/step - loss: 0.3911 - accuracy: 0.8378 - val_loss: 1.3560 - val_accuracy: 0.5775\n",
      "Epoch 126/350\n",
      "28/28 [==============================] - 0s 3ms/step - loss: 0.3427 - accuracy: 0.8632 - val_loss: 1.3507 - val_accuracy: 0.5889\n",
      "Epoch 127/350\n",
      "28/28 [==============================] - 0s 3ms/step - loss: 0.3543 - accuracy: 0.8663 - val_loss: 1.3547 - val_accuracy: 0.5782\n",
      "Epoch 128/350\n",
      "28/28 [==============================] - 0s 3ms/step - loss: 0.3684 - accuracy: 0.8630 - val_loss: 1.3499 - val_accuracy: 0.5868\n",
      "Epoch 129/350\n",
      "28/28 [==============================] - 0s 3ms/step - loss: 0.3759 - accuracy: 0.8435 - val_loss: 1.3650 - val_accuracy: 0.5789\n",
      "Epoch 130/350\n",
      "28/28 [==============================] - 0s 3ms/step - loss: 0.3893 - accuracy: 0.8446 - val_loss: 1.3528 - val_accuracy: 0.5854\n",
      "Epoch 131/350\n",
      "28/28 [==============================] - 0s 3ms/step - loss: 0.3789 - accuracy: 0.8448 - val_loss: 1.3469 - val_accuracy: 0.5739\n",
      "Epoch 132/350\n",
      "28/28 [==============================] - 0s 3ms/step - loss: 0.3725 - accuracy: 0.8584 - val_loss: 1.3348 - val_accuracy: 0.5832\n",
      "Epoch 133/350\n",
      "28/28 [==============================] - 0s 3ms/step - loss: 0.3403 - accuracy: 0.8658 - val_loss: 1.3492 - val_accuracy: 0.5768\n",
      "Epoch 134/350\n",
      "28/28 [==============================] - 0s 3ms/step - loss: 0.3671 - accuracy: 0.8539 - val_loss: 1.3450 - val_accuracy: 0.5925\n",
      "Epoch 135/350\n",
      "28/28 [==============================] - 0s 3ms/step - loss: 0.3640 - accuracy: 0.8592 - val_loss: 1.3535 - val_accuracy: 0.5768\n",
      "Epoch 136/350\n",
      "28/28 [==============================] - 0s 3ms/step - loss: 0.3468 - accuracy: 0.8558 - val_loss: 1.3403 - val_accuracy: 0.5936\n",
      "Epoch 137/350\n",
      "28/28 [==============================] - 0s 3ms/step - loss: 0.3604 - accuracy: 0.8642 - val_loss: 1.3528 - val_accuracy: 0.5907\n",
      "Epoch 138/350\n",
      "28/28 [==============================] - 0s 3ms/step - loss: 0.3388 - accuracy: 0.8734 - val_loss: 1.4076 - val_accuracy: 0.5725\n",
      "Epoch 139/350\n",
      "28/28 [==============================] - 0s 3ms/step - loss: 0.3590 - accuracy: 0.8500 - val_loss: 1.3817 - val_accuracy: 0.5807\n",
      "Epoch 140/350\n",
      "28/28 [==============================] - 0s 3ms/step - loss: 0.3358 - accuracy: 0.8698 - val_loss: 1.3926 - val_accuracy: 0.5768\n",
      "Epoch 141/350\n",
      "28/28 [==============================] - 0s 3ms/step - loss: 0.3410 - accuracy: 0.8685 - val_loss: 1.4118 - val_accuracy: 0.5636\n",
      "Epoch 142/350\n",
      "28/28 [==============================] - 0s 3ms/step - loss: 0.3649 - accuracy: 0.8532 - val_loss: 1.3856 - val_accuracy: 0.5821\n",
      "Epoch 143/350\n",
      "28/28 [==============================] - 0s 3ms/step - loss: 0.3585 - accuracy: 0.8560 - val_loss: 1.3731 - val_accuracy: 0.5771\n",
      "Epoch 144/350\n",
      "28/28 [==============================] - 0s 3ms/step - loss: 0.3269 - accuracy: 0.8741 - val_loss: 1.3868 - val_accuracy: 0.5939\n",
      "Epoch 145/350\n",
      "28/28 [==============================] - 0s 3ms/step - loss: 0.3438 - accuracy: 0.8573 - val_loss: 1.4160 - val_accuracy: 0.5707\n",
      "Epoch 146/350\n",
      "28/28 [==============================] - 0s 3ms/step - loss: 0.3317 - accuracy: 0.8728 - val_loss: 1.4062 - val_accuracy: 0.5818\n",
      "Epoch 147/350\n",
      "28/28 [==============================] - 0s 3ms/step - loss: 0.3309 - accuracy: 0.8671 - val_loss: 1.4076 - val_accuracy: 0.5761\n",
      "Epoch 148/350\n",
      "28/28 [==============================] - 0s 3ms/step - loss: 0.3258 - accuracy: 0.8764 - val_loss: 1.4376 - val_accuracy: 0.5779\n",
      "Epoch 149/350\n",
      "28/28 [==============================] - 0s 3ms/step - loss: 0.3160 - accuracy: 0.8840 - val_loss: 1.4499 - val_accuracy: 0.5704\n",
      "Epoch 150/350\n",
      "28/28 [==============================] - 0s 3ms/step - loss: 0.3242 - accuracy: 0.8759 - val_loss: 1.4263 - val_accuracy: 0.5839\n",
      "Epoch 151/350\n",
      "28/28 [==============================] - 0s 3ms/step - loss: 0.3095 - accuracy: 0.8643 - val_loss: 1.4471 - val_accuracy: 0.5675\n",
      "Epoch 152/350\n",
      "28/28 [==============================] - 0s 3ms/step - loss: 0.3407 - accuracy: 0.8625 - val_loss: 1.4174 - val_accuracy: 0.5768\n",
      "Epoch 153/350\n",
      "28/28 [==============================] - 0s 3ms/step - loss: 0.3108 - accuracy: 0.8773 - val_loss: 1.4326 - val_accuracy: 0.5811\n",
      "Epoch 154/350\n",
      "28/28 [==============================] - 0s 3ms/step - loss: 0.3239 - accuracy: 0.8796 - val_loss: 1.4470 - val_accuracy: 0.5889\n",
      "Epoch 155/350\n",
      "28/28 [==============================] - 0s 3ms/step - loss: 0.2935 - accuracy: 0.8804 - val_loss: 1.4682 - val_accuracy: 0.5732\n",
      "Epoch 156/350\n",
      "28/28 [==============================] - 0s 3ms/step - loss: 0.2969 - accuracy: 0.8857 - val_loss: 1.4521 - val_accuracy: 0.5864\n",
      "Epoch 157/350\n",
      "28/28 [==============================] - 0s 3ms/step - loss: 0.3081 - accuracy: 0.8871 - val_loss: 1.4705 - val_accuracy: 0.5825\n",
      "Epoch 158/350\n",
      "28/28 [==============================] - 0s 3ms/step - loss: 0.3187 - accuracy: 0.8782 - val_loss: 1.4505 - val_accuracy: 0.5821\n",
      "Epoch 159/350\n",
      "28/28 [==============================] - 0s 3ms/step - loss: 0.3117 - accuracy: 0.8751 - val_loss: 1.4845 - val_accuracy: 0.5807\n",
      "Epoch 160/350\n",
      "28/28 [==============================] - 0s 3ms/step - loss: 0.3032 - accuracy: 0.8851 - val_loss: 1.4807 - val_accuracy: 0.5754\n",
      "Epoch 161/350\n",
      "28/28 [==============================] - 0s 3ms/step - loss: 0.3024 - accuracy: 0.8855 - val_loss: 1.4541 - val_accuracy: 0.5943\n",
      "Epoch 162/350\n",
      "28/28 [==============================] - 0s 3ms/step - loss: 0.3344 - accuracy: 0.8716 - val_loss: 1.4948 - val_accuracy: 0.5743\n",
      "Epoch 163/350\n",
      "28/28 [==============================] - 0s 3ms/step - loss: 0.2982 - accuracy: 0.8873 - val_loss: 1.4772 - val_accuracy: 0.5761\n",
      "Epoch 164/350\n",
      "28/28 [==============================] - 0s 3ms/step - loss: 0.2804 - accuracy: 0.8927 - val_loss: 1.5098 - val_accuracy: 0.5689\n",
      "Epoch 165/350\n",
      "28/28 [==============================] - 0s 3ms/step - loss: 0.3259 - accuracy: 0.8783 - val_loss: 1.4827 - val_accuracy: 0.5836\n",
      "Epoch 166/350\n",
      "28/28 [==============================] - 0s 3ms/step - loss: 0.3002 - accuracy: 0.8898 - val_loss: 1.5066 - val_accuracy: 0.5789\n",
      "Epoch 167/350\n",
      "28/28 [==============================] - 0s 3ms/step - loss: 0.2995 - accuracy: 0.8816 - val_loss: 1.4999 - val_accuracy: 0.5786\n",
      "Epoch 168/350\n",
      "28/28 [==============================] - 0s 3ms/step - loss: 0.3006 - accuracy: 0.8801 - val_loss: 1.4772 - val_accuracy: 0.5807\n",
      "Epoch 169/350\n",
      "28/28 [==============================] - 0s 3ms/step - loss: 0.3190 - accuracy: 0.8811 - val_loss: 1.5114 - val_accuracy: 0.5768\n",
      "Epoch 170/350\n",
      "28/28 [==============================] - 0s 3ms/step - loss: 0.2868 - accuracy: 0.8942 - val_loss: 1.5041 - val_accuracy: 0.5832\n",
      "Epoch 171/350\n",
      "28/28 [==============================] - 0s 3ms/step - loss: 0.3078 - accuracy: 0.8729 - val_loss: 1.5014 - val_accuracy: 0.5839\n",
      "Epoch 172/350\n",
      "28/28 [==============================] - 0s 3ms/step - loss: 0.3162 - accuracy: 0.8756 - val_loss: 1.5034 - val_accuracy: 0.5804\n",
      "Epoch 173/350\n"
     ]
    },
    {
     "name": "stdout",
     "output_type": "stream",
     "text": [
      "28/28 [==============================] - 0s 3ms/step - loss: 0.2888 - accuracy: 0.8915 - val_loss: 1.5218 - val_accuracy: 0.5789\n",
      "Epoch 174/350\n",
      "28/28 [==============================] - 0s 3ms/step - loss: 0.3028 - accuracy: 0.8786 - val_loss: 1.4989 - val_accuracy: 0.5979\n",
      "Epoch 175/350\n",
      "28/28 [==============================] - 0s 3ms/step - loss: 0.3182 - accuracy: 0.8775 - val_loss: 1.4865 - val_accuracy: 0.5818\n",
      "Epoch 176/350\n",
      "28/28 [==============================] - 0s 3ms/step - loss: 0.3055 - accuracy: 0.8819 - val_loss: 1.4975 - val_accuracy: 0.5821\n",
      "Epoch 177/350\n",
      "28/28 [==============================] - 0s 3ms/step - loss: 0.3113 - accuracy: 0.8945 - val_loss: 1.4896 - val_accuracy: 0.5854\n",
      "Epoch 178/350\n",
      "28/28 [==============================] - 0s 3ms/step - loss: 0.2634 - accuracy: 0.9017 - val_loss: 1.4956 - val_accuracy: 0.5864\n",
      "Epoch 179/350\n",
      "28/28 [==============================] - 0s 3ms/step - loss: 0.2908 - accuracy: 0.8905 - val_loss: 1.5096 - val_accuracy: 0.5707\n",
      "Epoch 180/350\n",
      "28/28 [==============================] - 0s 3ms/step - loss: 0.2946 - accuracy: 0.8864 - val_loss: 1.5119 - val_accuracy: 0.5811\n",
      "Epoch 181/350\n",
      "28/28 [==============================] - 0s 3ms/step - loss: 0.2654 - accuracy: 0.9051 - val_loss: 1.5097 - val_accuracy: 0.5771\n",
      "Epoch 182/350\n",
      "28/28 [==============================] - 0s 3ms/step - loss: 0.2740 - accuracy: 0.9037 - val_loss: 1.5566 - val_accuracy: 0.5800\n",
      "Epoch 183/350\n",
      "28/28 [==============================] - 0s 3ms/step - loss: 0.2655 - accuracy: 0.8935 - val_loss: 1.5608 - val_accuracy: 0.5714\n",
      "Epoch 184/350\n",
      "28/28 [==============================] - 0s 3ms/step - loss: 0.2832 - accuracy: 0.8888 - val_loss: 1.5272 - val_accuracy: 0.5764\n",
      "Epoch 185/350\n",
      "28/28 [==============================] - 0s 3ms/step - loss: 0.2734 - accuracy: 0.8922 - val_loss: 1.5295 - val_accuracy: 0.5796\n",
      "Epoch 186/350\n",
      "28/28 [==============================] - 0s 3ms/step - loss: 0.3005 - accuracy: 0.8853 - val_loss: 1.5510 - val_accuracy: 0.5775\n",
      "Epoch 187/350\n",
      "28/28 [==============================] - 0s 3ms/step - loss: 0.2847 - accuracy: 0.8875 - val_loss: 1.5750 - val_accuracy: 0.5850\n",
      "Epoch 188/350\n",
      "28/28 [==============================] - 0s 3ms/step - loss: 0.3120 - accuracy: 0.8749 - val_loss: 1.5327 - val_accuracy: 0.5839\n",
      "Epoch 189/350\n",
      "28/28 [==============================] - 0s 3ms/step - loss: 0.2693 - accuracy: 0.8954 - val_loss: 1.5418 - val_accuracy: 0.5782\n",
      "Epoch 190/350\n",
      "28/28 [==============================] - 0s 3ms/step - loss: 0.2698 - accuracy: 0.8972 - val_loss: 1.5220 - val_accuracy: 0.5939\n",
      "Epoch 191/350\n",
      "28/28 [==============================] - 0s 3ms/step - loss: 0.3065 - accuracy: 0.8800 - val_loss: 1.5411 - val_accuracy: 0.5871\n",
      "Epoch 192/350\n",
      "28/28 [==============================] - 0s 3ms/step - loss: 0.2794 - accuracy: 0.8981 - val_loss: 1.5671 - val_accuracy: 0.5721\n",
      "Epoch 193/350\n",
      "28/28 [==============================] - 0s 3ms/step - loss: 0.2866 - accuracy: 0.8889 - val_loss: 1.5366 - val_accuracy: 0.5839\n",
      "Epoch 194/350\n",
      "28/28 [==============================] - 0s 3ms/step - loss: 0.2709 - accuracy: 0.8946 - val_loss: 1.5484 - val_accuracy: 0.5861\n",
      "Epoch 195/350\n",
      "28/28 [==============================] - 0s 3ms/step - loss: 0.2620 - accuracy: 0.8984 - val_loss: 1.5412 - val_accuracy: 0.5721\n",
      "Epoch 196/350\n",
      "28/28 [==============================] - 0s 3ms/step - loss: 0.2587 - accuracy: 0.9017 - val_loss: 1.5650 - val_accuracy: 0.5846\n",
      "Epoch 197/350\n",
      "28/28 [==============================] - 0s 3ms/step - loss: 0.2381 - accuracy: 0.9080 - val_loss: 1.5756 - val_accuracy: 0.5807\n",
      "Epoch 198/350\n",
      "28/28 [==============================] - 0s 3ms/step - loss: 0.2457 - accuracy: 0.9068 - val_loss: 1.6049 - val_accuracy: 0.5689\n",
      "Epoch 199/350\n",
      "28/28 [==============================] - 0s 3ms/step - loss: 0.2571 - accuracy: 0.8964 - val_loss: 1.5947 - val_accuracy: 0.5857\n",
      "Epoch 200/350\n",
      "28/28 [==============================] - 0s 3ms/step - loss: 0.2556 - accuracy: 0.9026 - val_loss: 1.6153 - val_accuracy: 0.5761\n",
      "Epoch 201/350\n",
      "28/28 [==============================] - 0s 3ms/step - loss: 0.2570 - accuracy: 0.8959 - val_loss: 1.5738 - val_accuracy: 0.5850\n",
      "Epoch 202/350\n",
      "28/28 [==============================] - 0s 3ms/step - loss: 0.2602 - accuracy: 0.9042 - val_loss: 1.5890 - val_accuracy: 0.5868\n",
      "Epoch 203/350\n",
      "28/28 [==============================] - 0s 3ms/step - loss: 0.2637 - accuracy: 0.9075 - val_loss: 1.5864 - val_accuracy: 0.5825\n",
      "Epoch 204/350\n",
      "28/28 [==============================] - 0s 3ms/step - loss: 0.2728 - accuracy: 0.8971 - val_loss: 1.6034 - val_accuracy: 0.5721\n",
      "Epoch 205/350\n",
      "28/28 [==============================] - 0s 3ms/step - loss: 0.2256 - accuracy: 0.9127 - val_loss: 1.5952 - val_accuracy: 0.5914\n",
      "Epoch 206/350\n",
      "28/28 [==============================] - 0s 3ms/step - loss: 0.2468 - accuracy: 0.9022 - val_loss: 1.6230 - val_accuracy: 0.5789\n",
      "Epoch 207/350\n",
      "28/28 [==============================] - 0s 3ms/step - loss: 0.2330 - accuracy: 0.9123 - val_loss: 1.6049 - val_accuracy: 0.5882\n",
      "Epoch 208/350\n",
      "28/28 [==============================] - 0s 3ms/step - loss: 0.2793 - accuracy: 0.9027 - val_loss: 1.5894 - val_accuracy: 0.5779\n",
      "Epoch 209/350\n",
      "28/28 [==============================] - 0s 3ms/step - loss: 0.2751 - accuracy: 0.8973 - val_loss: 1.6017 - val_accuracy: 0.5796\n",
      "Epoch 210/350\n",
      "28/28 [==============================] - 0s 3ms/step - loss: 0.2608 - accuracy: 0.9028 - val_loss: 1.6013 - val_accuracy: 0.5839\n",
      "Epoch 211/350\n",
      "28/28 [==============================] - 0s 3ms/step - loss: 0.2368 - accuracy: 0.9093 - val_loss: 1.6504 - val_accuracy: 0.5786\n",
      "Epoch 212/350\n",
      "28/28 [==============================] - 0s 3ms/step - loss: 0.2808 - accuracy: 0.8971 - val_loss: 1.5964 - val_accuracy: 0.5846\n",
      "Epoch 213/350\n",
      "28/28 [==============================] - 0s 3ms/step - loss: 0.2800 - accuracy: 0.8998 - val_loss: 1.6549 - val_accuracy: 0.5743\n",
      "Epoch 214/350\n",
      "28/28 [==============================] - 0s 3ms/step - loss: 0.3073 - accuracy: 0.8854 - val_loss: 1.6201 - val_accuracy: 0.5782\n",
      "Epoch 215/350\n",
      "28/28 [==============================] - 0s 3ms/step - loss: 0.2601 - accuracy: 0.9020 - val_loss: 1.6402 - val_accuracy: 0.5804\n",
      "Epoch 216/350\n",
      "28/28 [==============================] - 0s 3ms/step - loss: 0.2811 - accuracy: 0.8911 - val_loss: 1.6019 - val_accuracy: 0.5921\n",
      "Epoch 217/350\n",
      "28/28 [==============================] - 0s 3ms/step - loss: 0.2353 - accuracy: 0.9113 - val_loss: 1.6222 - val_accuracy: 0.5825\n",
      "Epoch 218/350\n",
      "28/28 [==============================] - 0s 3ms/step - loss: 0.2574 - accuracy: 0.9082 - val_loss: 1.6093 - val_accuracy: 0.5896\n",
      "Epoch 219/350\n",
      "28/28 [==============================] - 0s 3ms/step - loss: 0.2484 - accuracy: 0.9046 - val_loss: 1.6237 - val_accuracy: 0.5868\n",
      "Epoch 220/350\n",
      "28/28 [==============================] - 0s 3ms/step - loss: 0.2747 - accuracy: 0.8962 - val_loss: 1.6180 - val_accuracy: 0.5839\n",
      "Epoch 221/350\n",
      "28/28 [==============================] - 0s 3ms/step - loss: 0.2726 - accuracy: 0.8921 - val_loss: 1.6127 - val_accuracy: 0.5886\n",
      "Epoch 222/350\n",
      "28/28 [==============================] - 0s 3ms/step - loss: 0.2433 - accuracy: 0.9128 - val_loss: 1.6111 - val_accuracy: 0.5971\n",
      "Epoch 223/350\n",
      "28/28 [==============================] - 0s 3ms/step - loss: 0.2575 - accuracy: 0.9094 - val_loss: 1.6085 - val_accuracy: 0.5811\n",
      "Epoch 224/350\n",
      "28/28 [==============================] - 0s 3ms/step - loss: 0.2589 - accuracy: 0.9047 - val_loss: 1.6320 - val_accuracy: 0.5696\n",
      "Epoch 225/350\n",
      "28/28 [==============================] - 0s 3ms/step - loss: 0.2548 - accuracy: 0.9126 - val_loss: 1.6120 - val_accuracy: 0.5836\n",
      "Epoch 226/350\n",
      "28/28 [==============================] - 0s 3ms/step - loss: 0.2631 - accuracy: 0.9054 - val_loss: 1.6355 - val_accuracy: 0.5814\n",
      "Epoch 227/350\n",
      "28/28 [==============================] - 0s 3ms/step - loss: 0.2925 - accuracy: 0.8805 - val_loss: 1.6054 - val_accuracy: 0.5843\n",
      "Epoch 228/350\n",
      "28/28 [==============================] - 0s 3ms/step - loss: 0.2227 - accuracy: 0.9221 - val_loss: 1.6350 - val_accuracy: 0.5839\n",
      "Epoch 229/350\n",
      "28/28 [==============================] - 0s 3ms/step - loss: 0.2369 - accuracy: 0.9118 - val_loss: 1.6544 - val_accuracy: 0.5793\n",
      "Epoch 230/350\n",
      "28/28 [==============================] - 0s 3ms/step - loss: 0.2262 - accuracy: 0.9131 - val_loss: 1.6430 - val_accuracy: 0.5843\n",
      "Epoch 231/350\n",
      "28/28 [==============================] - 0s 3ms/step - loss: 0.2718 - accuracy: 0.9031 - val_loss: 1.6427 - val_accuracy: 0.5829\n",
      "Epoch 232/350\n",
      "28/28 [==============================] - 0s 2ms/step - loss: 0.2477 - accuracy: 0.9046 - val_loss: 1.6673 - val_accuracy: 0.5829\n",
      "Epoch 233/350\n",
      "28/28 [==============================] - 0s 3ms/step - loss: 0.2417 - accuracy: 0.9099 - val_loss: 1.6595 - val_accuracy: 0.5975\n",
      "Epoch 234/350\n",
      "28/28 [==============================] - 0s 3ms/step - loss: 0.2476 - accuracy: 0.9067 - val_loss: 1.6365 - val_accuracy: 0.5914\n",
      "Epoch 235/350\n",
      "28/28 [==============================] - 0s 3ms/step - loss: 0.2175 - accuracy: 0.9173 - val_loss: 1.6840 - val_accuracy: 0.5796\n",
      "Epoch 236/350\n",
      "28/28 [==============================] - 0s 3ms/step - loss: 0.2567 - accuracy: 0.9016 - val_loss: 1.6587 - val_accuracy: 0.5868\n",
      "Epoch 237/350\n",
      "28/28 [==============================] - 0s 3ms/step - loss: 0.2495 - accuracy: 0.9041 - val_loss: 1.6889 - val_accuracy: 0.5811\n",
      "Epoch 238/350\n",
      "28/28 [==============================] - 0s 3ms/step - loss: 0.2330 - accuracy: 0.9156 - val_loss: 1.7116 - val_accuracy: 0.5732\n",
      "Epoch 239/350\n",
      "28/28 [==============================] - 0s 3ms/step - loss: 0.2512 - accuracy: 0.9050 - val_loss: 1.6877 - val_accuracy: 0.5854\n",
      "Epoch 240/350\n",
      "28/28 [==============================] - 0s 3ms/step - loss: 0.2485 - accuracy: 0.8999 - val_loss: 1.6570 - val_accuracy: 0.5836\n",
      "Epoch 241/350\n",
      "28/28 [==============================] - 0s 3ms/step - loss: 0.2474 - accuracy: 0.9158 - val_loss: 1.6704 - val_accuracy: 0.5829\n",
      "Epoch 242/350\n",
      "28/28 [==============================] - 0s 3ms/step - loss: 0.2375 - accuracy: 0.9057 - val_loss: 1.6592 - val_accuracy: 0.5943\n",
      "Epoch 243/350\n",
      "28/28 [==============================] - 0s 3ms/step - loss: 0.2529 - accuracy: 0.9064 - val_loss: 1.6898 - val_accuracy: 0.5761\n",
      "Epoch 244/350\n",
      "28/28 [==============================] - 0s 3ms/step - loss: 0.2177 - accuracy: 0.9228 - val_loss: 1.6647 - val_accuracy: 0.5793\n",
      "Epoch 245/350\n",
      "28/28 [==============================] - 0s 3ms/step - loss: 0.2343 - accuracy: 0.9103 - val_loss: 1.6817 - val_accuracy: 0.5771\n",
      "Epoch 246/350\n",
      "28/28 [==============================] - 0s 3ms/step - loss: 0.2514 - accuracy: 0.9065 - val_loss: 1.7047 - val_accuracy: 0.5825\n",
      "Epoch 247/350\n",
      "28/28 [==============================] - 0s 3ms/step - loss: 0.2672 - accuracy: 0.8960 - val_loss: 1.7076 - val_accuracy: 0.5882\n",
      "Epoch 248/350\n",
      "28/28 [==============================] - 0s 3ms/step - loss: 0.2064 - accuracy: 0.9241 - val_loss: 1.7041 - val_accuracy: 0.5761\n",
      "Epoch 249/350\n",
      "28/28 [==============================] - 0s 3ms/step - loss: 0.2657 - accuracy: 0.8950 - val_loss: 1.7176 - val_accuracy: 0.5843\n",
      "Epoch 250/350\n",
      "28/28 [==============================] - 0s 3ms/step - loss: 0.2245 - accuracy: 0.9108 - val_loss: 1.7033 - val_accuracy: 0.5839\n",
      "Epoch 251/350\n",
      "28/28 [==============================] - 0s 3ms/step - loss: 0.2171 - accuracy: 0.9164 - val_loss: 1.7004 - val_accuracy: 0.5825\n",
      "Epoch 252/350\n",
      "28/28 [==============================] - 0s 3ms/step - loss: 0.2175 - accuracy: 0.9162 - val_loss: 1.7422 - val_accuracy: 0.5811\n",
      "Epoch 253/350\n",
      "28/28 [==============================] - 0s 3ms/step - loss: 0.2212 - accuracy: 0.9137 - val_loss: 1.7469 - val_accuracy: 0.5771\n",
      "Epoch 254/350\n",
      "28/28 [==============================] - 0s 3ms/step - loss: 0.2220 - accuracy: 0.9138 - val_loss: 1.7425 - val_accuracy: 0.5811\n",
      "Epoch 255/350\n",
      "28/28 [==============================] - 0s 3ms/step - loss: 0.2584 - accuracy: 0.9081 - val_loss: 1.7283 - val_accuracy: 0.5811\n",
      "Epoch 256/350\n",
      "28/28 [==============================] - 0s 3ms/step - loss: 0.2402 - accuracy: 0.9166 - val_loss: 1.7149 - val_accuracy: 0.5807\n",
      "Epoch 257/350\n",
      "28/28 [==============================] - 0s 3ms/step - loss: 0.2381 - accuracy: 0.9100 - val_loss: 1.6951 - val_accuracy: 0.5782\n",
      "Epoch 258/350\n",
      "28/28 [==============================] - 0s 3ms/step - loss: 0.2457 - accuracy: 0.9123 - val_loss: 1.6837 - val_accuracy: 0.5854\n",
      "Epoch 259/350\n",
      "28/28 [==============================] - 0s 3ms/step - loss: 0.2325 - accuracy: 0.9085 - val_loss: 1.7181 - val_accuracy: 0.5854\n",
      "Epoch 260/350\n",
      "28/28 [==============================] - 0s 3ms/step - loss: 0.2237 - accuracy: 0.9133 - val_loss: 1.7318 - val_accuracy: 0.5786\n",
      "Epoch 261/350\n",
      "28/28 [==============================] - 0s 3ms/step - loss: 0.2056 - accuracy: 0.9289 - val_loss: 1.7227 - val_accuracy: 0.5829\n",
      "Epoch 262/350\n",
      "28/28 [==============================] - 0s 3ms/step - loss: 0.2259 - accuracy: 0.9156 - val_loss: 1.7148 - val_accuracy: 0.5804\n",
      "Epoch 263/350\n",
      "28/28 [==============================] - 0s 3ms/step - loss: 0.2242 - accuracy: 0.9205 - val_loss: 1.7208 - val_accuracy: 0.5764\n",
      "Epoch 264/350\n",
      "28/28 [==============================] - 0s 3ms/step - loss: 0.2139 - accuracy: 0.9214 - val_loss: 1.7546 - val_accuracy: 0.5786\n",
      "Epoch 265/350\n",
      "28/28 [==============================] - 0s 3ms/step - loss: 0.2400 - accuracy: 0.9037 - val_loss: 1.7790 - val_accuracy: 0.5750\n",
      "Epoch 266/350\n",
      "28/28 [==============================] - 0s 3ms/step - loss: 0.2312 - accuracy: 0.9228 - val_loss: 1.7319 - val_accuracy: 0.5775\n",
      "Epoch 267/350\n",
      "28/28 [==============================] - 0s 3ms/step - loss: 0.2060 - accuracy: 0.9214 - val_loss: 1.7003 - val_accuracy: 0.5779\n",
      "Epoch 268/350\n",
      "28/28 [==============================] - 0s 3ms/step - loss: 0.2667 - accuracy: 0.9088 - val_loss: 1.7317 - val_accuracy: 0.5768\n",
      "Epoch 269/350\n",
      "28/28 [==============================] - 0s 3ms/step - loss: 0.2234 - accuracy: 0.9228 - val_loss: 1.7371 - val_accuracy: 0.5693\n",
      "Epoch 270/350\n",
      "28/28 [==============================] - 0s 3ms/step - loss: 0.2039 - accuracy: 0.9273 - val_loss: 1.7342 - val_accuracy: 0.5750\n",
      "Epoch 271/350\n",
      "28/28 [==============================] - 0s 3ms/step - loss: 0.2198 - accuracy: 0.9199 - val_loss: 1.7329 - val_accuracy: 0.5836\n",
      "Epoch 272/350\n",
      "28/28 [==============================] - 0s 3ms/step - loss: 0.2132 - accuracy: 0.9213 - val_loss: 1.7708 - val_accuracy: 0.5686\n",
      "Epoch 273/350\n",
      "28/28 [==============================] - 0s 3ms/step - loss: 0.2152 - accuracy: 0.9230 - val_loss: 1.7484 - val_accuracy: 0.5786\n",
      "Epoch 274/350\n",
      "28/28 [==============================] - 0s 3ms/step - loss: 0.2172 - accuracy: 0.9214 - val_loss: 1.7394 - val_accuracy: 0.5743\n",
      "Epoch 275/350\n",
      "28/28 [==============================] - 0s 3ms/step - loss: 0.2101 - accuracy: 0.9264 - val_loss: 1.7895 - val_accuracy: 0.5729\n",
      "Epoch 276/350\n",
      "28/28 [==============================] - 0s 3ms/step - loss: 0.2334 - accuracy: 0.9063 - val_loss: 1.7512 - val_accuracy: 0.5775\n",
      "Epoch 277/350\n",
      "28/28 [==============================] - 0s 3ms/step - loss: 0.2281 - accuracy: 0.9230 - val_loss: 1.7314 - val_accuracy: 0.5839\n",
      "Epoch 278/350\n",
      "28/28 [==============================] - 0s 3ms/step - loss: 0.2012 - accuracy: 0.9174 - val_loss: 1.7536 - val_accuracy: 0.5882\n",
      "Epoch 279/350\n",
      "28/28 [==============================] - 0s 3ms/step - loss: 0.2011 - accuracy: 0.9318 - val_loss: 1.7599 - val_accuracy: 0.5854\n",
      "Epoch 280/350\n",
      "28/28 [==============================] - 0s 3ms/step - loss: 0.2274 - accuracy: 0.9161 - val_loss: 1.7778 - val_accuracy: 0.5821\n",
      "Epoch 281/350\n",
      "28/28 [==============================] - 0s 3ms/step - loss: 0.2302 - accuracy: 0.9133 - val_loss: 1.7271 - val_accuracy: 0.5796\n",
      "Epoch 282/350\n",
      "28/28 [==============================] - 0s 3ms/step - loss: 0.1997 - accuracy: 0.9286 - val_loss: 1.7575 - val_accuracy: 0.5907\n",
      "Epoch 283/350\n",
      "28/28 [==============================] - 0s 3ms/step - loss: 0.2074 - accuracy: 0.9261 - val_loss: 1.7749 - val_accuracy: 0.5807\n",
      "Epoch 284/350\n",
      "28/28 [==============================] - 0s 3ms/step - loss: 0.2128 - accuracy: 0.9150 - val_loss: 1.7585 - val_accuracy: 0.5882\n",
      "Epoch 285/350\n",
      "28/28 [==============================] - 0s 3ms/step - loss: 0.2009 - accuracy: 0.9205 - val_loss: 1.7989 - val_accuracy: 0.5796\n",
      "Epoch 286/350\n",
      "28/28 [==============================] - 0s 3ms/step - loss: 0.2349 - accuracy: 0.9039 - val_loss: 1.7669 - val_accuracy: 0.5779\n",
      "Epoch 287/350\n"
     ]
    },
    {
     "name": "stdout",
     "output_type": "stream",
     "text": [
      "28/28 [==============================] - 0s 3ms/step - loss: 0.2150 - accuracy: 0.9182 - val_loss: 1.7637 - val_accuracy: 0.5811\n",
      "Epoch 288/350\n",
      "28/28 [==============================] - 0s 3ms/step - loss: 0.2103 - accuracy: 0.9242 - val_loss: 1.7786 - val_accuracy: 0.5814\n",
      "Epoch 289/350\n",
      "28/28 [==============================] - 0s 3ms/step - loss: 0.2084 - accuracy: 0.9296 - val_loss: 1.7884 - val_accuracy: 0.5764\n",
      "Epoch 290/350\n",
      "28/28 [==============================] - 0s 3ms/step - loss: 0.2081 - accuracy: 0.9260 - val_loss: 1.7742 - val_accuracy: 0.5868\n",
      "Epoch 291/350\n",
      "28/28 [==============================] - 0s 3ms/step - loss: 0.2417 - accuracy: 0.9065 - val_loss: 1.8110 - val_accuracy: 0.5718\n",
      "Epoch 292/350\n",
      "28/28 [==============================] - 0s 3ms/step - loss: 0.1956 - accuracy: 0.9266 - val_loss: 1.8331 - val_accuracy: 0.5811\n",
      "Epoch 293/350\n",
      "28/28 [==============================] - 0s 3ms/step - loss: 0.2243 - accuracy: 0.9240 - val_loss: 1.8326 - val_accuracy: 0.5857\n",
      "Epoch 294/350\n",
      "28/28 [==============================] - 0s 3ms/step - loss: 0.2121 - accuracy: 0.9204 - val_loss: 1.8515 - val_accuracy: 0.5800\n",
      "Epoch 295/350\n",
      "28/28 [==============================] - 0s 3ms/step - loss: 0.2198 - accuracy: 0.9145 - val_loss: 1.8660 - val_accuracy: 0.5696\n",
      "Epoch 296/350\n",
      "28/28 [==============================] - 0s 3ms/step - loss: 0.2229 - accuracy: 0.9128 - val_loss: 1.8535 - val_accuracy: 0.5807\n",
      "Epoch 297/350\n",
      "28/28 [==============================] - 0s 3ms/step - loss: 0.2082 - accuracy: 0.9192 - val_loss: 1.8336 - val_accuracy: 0.5846\n",
      "Epoch 298/350\n",
      "28/28 [==============================] - 0s 3ms/step - loss: 0.1980 - accuracy: 0.9300 - val_loss: 1.8037 - val_accuracy: 0.5871\n",
      "Epoch 299/350\n",
      "28/28 [==============================] - 0s 3ms/step - loss: 0.1988 - accuracy: 0.9225 - val_loss: 1.8046 - val_accuracy: 0.5761\n",
      "Epoch 300/350\n",
      "28/28 [==============================] - 0s 3ms/step - loss: 0.1988 - accuracy: 0.9240 - val_loss: 1.8202 - val_accuracy: 0.5821\n",
      "Epoch 301/350\n",
      "28/28 [==============================] - 0s 3ms/step - loss: 0.2209 - accuracy: 0.9178 - val_loss: 1.7722 - val_accuracy: 0.5807\n",
      "Epoch 302/350\n",
      "28/28 [==============================] - 0s 3ms/step - loss: 0.2195 - accuracy: 0.9196 - val_loss: 1.8586 - val_accuracy: 0.5675\n",
      "Epoch 303/350\n",
      "28/28 [==============================] - 0s 3ms/step - loss: 0.1973 - accuracy: 0.9285 - val_loss: 1.8079 - val_accuracy: 0.5821\n",
      "Epoch 304/350\n",
      "28/28 [==============================] - 0s 3ms/step - loss: 0.1985 - accuracy: 0.9235 - val_loss: 1.8450 - val_accuracy: 0.5718\n",
      "Epoch 305/350\n",
      "28/28 [==============================] - 0s 3ms/step - loss: 0.2054 - accuracy: 0.9280 - val_loss: 1.8414 - val_accuracy: 0.5714\n",
      "Epoch 306/350\n",
      "28/28 [==============================] - 0s 3ms/step - loss: 0.2102 - accuracy: 0.9223 - val_loss: 1.8104 - val_accuracy: 0.5732\n",
      "Epoch 307/350\n",
      "28/28 [==============================] - 0s 3ms/step - loss: 0.1987 - accuracy: 0.9306 - val_loss: 1.8674 - val_accuracy: 0.5736\n",
      "Epoch 308/350\n",
      "28/28 [==============================] - 0s 3ms/step - loss: 0.1859 - accuracy: 0.9344 - val_loss: 1.8499 - val_accuracy: 0.5886\n",
      "Epoch 309/350\n",
      "28/28 [==============================] - 0s 3ms/step - loss: 0.2079 - accuracy: 0.9306 - val_loss: 1.8487 - val_accuracy: 0.5871\n",
      "Epoch 310/350\n",
      "28/28 [==============================] - 0s 3ms/step - loss: 0.1969 - accuracy: 0.9244 - val_loss: 1.8353 - val_accuracy: 0.5786\n",
      "Epoch 311/350\n",
      "28/28 [==============================] - 0s 3ms/step - loss: 0.2214 - accuracy: 0.9258 - val_loss: 1.8333 - val_accuracy: 0.5829\n",
      "Epoch 312/350\n",
      "28/28 [==============================] - 0s 3ms/step - loss: 0.1786 - accuracy: 0.9422 - val_loss: 1.8264 - val_accuracy: 0.5771\n",
      "Epoch 313/350\n",
      "28/28 [==============================] - 0s 3ms/step - loss: 0.1742 - accuracy: 0.9390 - val_loss: 1.8441 - val_accuracy: 0.5782\n",
      "Epoch 314/350\n",
      "28/28 [==============================] - 0s 3ms/step - loss: 0.1947 - accuracy: 0.9333 - val_loss: 1.8553 - val_accuracy: 0.5771\n",
      "Epoch 315/350\n",
      "28/28 [==============================] - 0s 3ms/step - loss: 0.2082 - accuracy: 0.9202 - val_loss: 1.8441 - val_accuracy: 0.5750\n",
      "Epoch 316/350\n",
      "28/28 [==============================] - 0s 3ms/step - loss: 0.2074 - accuracy: 0.9256 - val_loss: 1.8307 - val_accuracy: 0.5764\n",
      "Epoch 317/350\n",
      "28/28 [==============================] - 0s 3ms/step - loss: 0.2032 - accuracy: 0.9272 - val_loss: 1.8515 - val_accuracy: 0.5725\n",
      "Epoch 318/350\n",
      "28/28 [==============================] - 0s 3ms/step - loss: 0.1769 - accuracy: 0.9362 - val_loss: 1.8362 - val_accuracy: 0.5693\n",
      "Epoch 319/350\n",
      "28/28 [==============================] - 0s 3ms/step - loss: 0.1645 - accuracy: 0.9401 - val_loss: 1.8298 - val_accuracy: 0.5771\n",
      "Epoch 320/350\n",
      "28/28 [==============================] - 0s 3ms/step - loss: 0.1758 - accuracy: 0.9338 - val_loss: 1.8174 - val_accuracy: 0.5807\n",
      "Epoch 321/350\n",
      "28/28 [==============================] - 0s 3ms/step - loss: 0.1837 - accuracy: 0.9407 - val_loss: 1.8681 - val_accuracy: 0.5711\n",
      "Epoch 322/350\n",
      "28/28 [==============================] - 0s 3ms/step - loss: 0.2000 - accuracy: 0.9250 - val_loss: 1.8715 - val_accuracy: 0.5857\n",
      "Epoch 323/350\n",
      "28/28 [==============================] - 0s 3ms/step - loss: 0.2041 - accuracy: 0.9269 - val_loss: 1.8590 - val_accuracy: 0.5814\n",
      "Epoch 324/350\n",
      "28/28 [==============================] - 0s 3ms/step - loss: 0.1794 - accuracy: 0.9395 - val_loss: 1.8964 - val_accuracy: 0.5668\n",
      "Epoch 325/350\n",
      "28/28 [==============================] - 0s 3ms/step - loss: 0.1673 - accuracy: 0.9371 - val_loss: 1.8654 - val_accuracy: 0.5800\n",
      "Epoch 326/350\n",
      "28/28 [==============================] - 0s 3ms/step - loss: 0.1957 - accuracy: 0.9302 - val_loss: 1.8986 - val_accuracy: 0.5764\n",
      "Epoch 327/350\n",
      "28/28 [==============================] - 0s 3ms/step - loss: 0.1790 - accuracy: 0.9317 - val_loss: 1.8808 - val_accuracy: 0.5850\n",
      "Epoch 328/350\n",
      "28/28 [==============================] - 0s 3ms/step - loss: 0.1858 - accuracy: 0.9393 - val_loss: 1.8803 - val_accuracy: 0.5836\n",
      "Epoch 329/350\n",
      "28/28 [==============================] - 0s 2ms/step - loss: 0.1820 - accuracy: 0.9311 - val_loss: 1.8633 - val_accuracy: 0.5775\n",
      "Epoch 330/350\n",
      "28/28 [==============================] - 0s 3ms/step - loss: 0.1898 - accuracy: 0.9353 - val_loss: 1.8819 - val_accuracy: 0.5811\n",
      "Epoch 331/350\n",
      "28/28 [==============================] - 0s 3ms/step - loss: 0.1943 - accuracy: 0.9312 - val_loss: 1.8967 - val_accuracy: 0.5729\n",
      "Epoch 332/350\n",
      "28/28 [==============================] - 0s 3ms/step - loss: 0.1832 - accuracy: 0.9288 - val_loss: 1.8718 - val_accuracy: 0.5836\n",
      "Epoch 333/350\n",
      "28/28 [==============================] - 0s 3ms/step - loss: 0.1708 - accuracy: 0.9336 - val_loss: 1.8935 - val_accuracy: 0.5761\n",
      "Epoch 334/350\n",
      "28/28 [==============================] - 0s 3ms/step - loss: 0.1735 - accuracy: 0.9346 - val_loss: 1.8745 - val_accuracy: 0.5732\n",
      "Epoch 335/350\n",
      "28/28 [==============================] - 0s 3ms/step - loss: 0.1958 - accuracy: 0.9316 - val_loss: 1.9091 - val_accuracy: 0.5796\n",
      "Epoch 336/350\n",
      "28/28 [==============================] - 0s 3ms/step - loss: 0.1838 - accuracy: 0.9355 - val_loss: 1.8939 - val_accuracy: 0.5736\n",
      "Epoch 337/350\n",
      "28/28 [==============================] - 0s 3ms/step - loss: 0.1959 - accuracy: 0.9220 - val_loss: 1.8900 - val_accuracy: 0.5743\n",
      "Epoch 338/350\n",
      "28/28 [==============================] - 0s 3ms/step - loss: 0.1713 - accuracy: 0.9343 - val_loss: 1.9342 - val_accuracy: 0.5689\n",
      "Epoch 339/350\n",
      "28/28 [==============================] - 0s 3ms/step - loss: 0.1748 - accuracy: 0.9376 - val_loss: 1.8873 - val_accuracy: 0.5821\n",
      "Epoch 340/350\n",
      "28/28 [==============================] - 0s 3ms/step - loss: 0.1707 - accuracy: 0.9392 - val_loss: 1.8826 - val_accuracy: 0.5843\n",
      "Epoch 341/350\n",
      "28/28 [==============================] - 0s 3ms/step - loss: 0.2068 - accuracy: 0.9306 - val_loss: 1.9189 - val_accuracy: 0.5786\n",
      "Epoch 342/350\n",
      "28/28 [==============================] - 0s 3ms/step - loss: 0.1863 - accuracy: 0.9332 - val_loss: 1.9182 - val_accuracy: 0.5832\n",
      "Epoch 343/350\n",
      "28/28 [==============================] - 0s 3ms/step - loss: 0.1936 - accuracy: 0.9327 - val_loss: 1.8577 - val_accuracy: 0.5782\n",
      "Epoch 344/350\n",
      "28/28 [==============================] - 0s 3ms/step - loss: 0.1993 - accuracy: 0.9247 - val_loss: 1.8815 - val_accuracy: 0.5804\n",
      "Epoch 345/350\n",
      "28/28 [==============================] - 0s 3ms/step - loss: 0.1837 - accuracy: 0.9306 - val_loss: 1.8933 - val_accuracy: 0.5893\n",
      "Epoch 346/350\n",
      "28/28 [==============================] - 0s 3ms/step - loss: 0.1801 - accuracy: 0.9338 - val_loss: 1.9117 - val_accuracy: 0.5882\n",
      "Epoch 347/350\n",
      "28/28 [==============================] - 0s 3ms/step - loss: 0.1735 - accuracy: 0.9367 - val_loss: 1.9196 - val_accuracy: 0.5946\n",
      "Epoch 348/350\n",
      "28/28 [==============================] - 0s 3ms/step - loss: 0.1858 - accuracy: 0.9319 - val_loss: 1.9314 - val_accuracy: 0.5850\n",
      "Epoch 349/350\n",
      "28/28 [==============================] - 0s 3ms/step - loss: 0.1815 - accuracy: 0.9339 - val_loss: 1.9500 - val_accuracy: 0.5779\n",
      "Epoch 350/350\n",
      "28/28 [==============================] - 0s 3ms/step - loss: 0.1860 - accuracy: 0.9322 - val_loss: 1.8893 - val_accuracy: 0.5868\n"
     ]
    }
   ],
   "source": [
    "history = model.fit(partial_X_train,\n",
    "                    partial_y_train,\n",
    "                    epochs=350,\n",
    "                    batch_size=100,\n",
    "                    validation_data=(nn_X_val, nn_y_val),\n",
    "                    verbose=1)"
   ]
  },
  {
   "cell_type": "code",
   "execution_count": 37,
   "metadata": {
    "colab": {
     "base_uri": "https://localhost:8080/"
    },
    "id": "rpG9QOhnWBAw",
    "outputId": "81e59499-acc6-422b-d4dc-4fa4f4bce842"
   },
   "outputs": [
    {
     "name": "stdout",
     "output_type": "stream",
     "text": [
      "188/188 [==============================] - 0s 941us/step - loss: 1.9478 - accuracy: 0.5823\n"
     ]
    }
   ],
   "source": [
    "results = model.evaluate(nn_X_test, nn_y_test)"
   ]
  },
  {
   "cell_type": "markdown",
   "metadata": {},
   "source": [
    "As we can see from the testing stage, this simple neural network did not perform as well as the SVC. With more time I would have experimented adding LSTM and CNN layers which could greatly boost the models performance."
   ]
  },
  {
   "cell_type": "code",
   "execution_count": 38,
   "metadata": {
    "colab": {
     "base_uri": "https://localhost:8080/",
     "height": 524
    },
    "id": "lFHDrqKDWBDZ",
    "outputId": "2cd5f92d-752f-4d93-fe30-03acfa0284c5"
   },
   "outputs": [
    {
     "data": {
      "text/plain": [
       "<matplotlib.legend.Legend at 0x7f4f88054d60>"
      ]
     },
     "execution_count": 38,
     "metadata": {},
     "output_type": "execute_result"
    },
    {
     "data": {
      "image/png": "[encoded data removed]",
      "text/plain": [
       "<Figure size 1080x576 with 2 Axes>"
      ]
     },
     "metadata": {
      "needs_background": "light"
     },
     "output_type": "display_data"
    }
   ],
   "source": [
    "fig, axs = plt.subplots(1,2, figsize=(15,8))\n",
    "axs[0].plot(history.history['val_loss'], label = 'Validation Loss')\n",
    "axs[0].plot(history.history['loss'], label = 'Training loss')\n",
    "\n",
    "axs[0].set_xlabel('epochs', fontsize=15)\n",
    "axs[0].set_ylabel('Loss', fontsize=15)\n",
    "axs[0].tick_params(labelsize=15)\n",
    "axs[0].legend(fontsize=15)\n",
    "\n",
    "axs[1].plot(history.history['val_accuracy'], label = 'Validation accuracy')\n",
    "axs[1].plot(history.history['accuracy'], label = 'Training accuracy')\n",
    "\n",
    "axs[1].set_xlabel('epochs', fontsize=15)\n",
    "axs[1].set_ylabel('Accuracy', fontsize=15)\n",
    "axs[1].tick_params(labelsize=15)\n",
    "axs[1].legend(fontsize=15) "
   ]
  },
  {
   "cell_type": "markdown",
   "metadata": {},
   "source": [
    "By looking at the graph on the left we can clearly see that even though we added dropout layers our model overfitted quite a lot which is clearly noticeable when we look at the accuracy graph on the right."
   ]
  },
  {
   "cell_type": "markdown",
   "metadata": {},
   "source": [
    "### XGBoost model:"
   ]
  },
  {
   "cell_type": "markdown",
   "metadata": {},
   "source": [
    "Here we use an extreme gradient boosting model which focuses on computational speed and model performance. This model is ideal for tabular data."
   ]
  },
  {
   "cell_type": "code",
   "execution_count": 17,
   "metadata": {},
   "outputs": [],
   "source": [
    "from xgboost import XGBClassifier"
   ]
  },
  {
   "cell_type": "code",
   "execution_count": 18,
   "metadata": {},
   "outputs": [],
   "source": [
    "xgb_model = XGBClassifier()"
   ]
  },
  {
   "cell_type": "code",
   "execution_count": 21,
   "metadata": {},
   "outputs": [
    {
     "name": "stdout",
     "output_type": "stream",
     "text": [
      "[23:05:12] WARNING: ../src/learner.cc:1095: Starting in XGBoost 1.3.0, the default evaluation metric used with the objective 'multi:softprob' was changed from 'merror' to 'mlogloss'. Explicitly set eval_metric if you'd like to restore the old behavior.\n"
     ]
    },
    {
     "data": {
      "text/plain": [
       "XGBClassifier(base_score=0.5, booster='gbtree', colsample_bylevel=1,\n",
       "              colsample_bynode=1, colsample_bytree=1, gamma=0, gpu_id=-1,\n",
       "              importance_type='gain', interaction_constraints='',\n",
       "              learning_rate=0.300000012, max_delta_step=0, max_depth=6,\n",
       "              min_child_weight=1, missing=nan, monotone_constraints='()',\n",
       "              n_estimators=100, n_jobs=4, num_parallel_tree=1,\n",
       "              objective='multi:softprob', random_state=0, reg_alpha=0,\n",
       "              reg_lambda=1, scale_pos_weight=None, subsample=1,\n",
       "              tree_method='exact', validate_parameters=1, verbosity=None)"
      ]
     },
     "execution_count": 21,
     "metadata": {},
     "output_type": "execute_result"
    }
   ],
   "source": [
    "xgb_model.fit(X_train, y_train)"
   ]
  },
  {
   "cell_type": "code",
   "execution_count": 22,
   "metadata": {},
   "outputs": [
    {
     "name": "stdout",
     "output_type": "stream",
     "text": [
      "              precision    recall  f1-score   support\n",
      "\n",
      "           0       0.68      0.68      0.68      1516\n",
      "           1       0.67      0.69      0.68      1434\n",
      "           2       0.59      0.55      0.57      1559\n",
      "           3       0.68      0.72      0.70      1491\n",
      "\n",
      "    accuracy                           0.66      6000\n",
      "   macro avg       0.66      0.66      0.66      6000\n",
      "weighted avg       0.66      0.66      0.66      6000\n",
      "\n"
     ]
    }
   ],
   "source": [
    "print(classification_report(y_val, xgb_model.predict(X_val)))"
   ]
  },
  {
   "cell_type": "markdown",
   "metadata": {},
   "source": [
    "### TabNet model:"
   ]
  },
  {
   "cell_type": "markdown",
   "metadata": {},
   "source": [
    "The TabNet is a deep tabular data learning architecture. Using sequential attention, it is able to choose which features to use at each decision step, allowing interpretability and more efficient learning."
   ]
  },
  {
   "cell_type": "code",
   "execution_count": 28,
   "metadata": {},
   "outputs": [],
   "source": [
    "import pytorch_tabnet\n",
    "from pytorch_tabnet.tab_model import TabNetClassifier\n",
    "\n",
    "import torch\n",
    "from sklearn.preprocessing import LabelEncoder\n",
    "from sklearn.model_selection import KFold\n",
    "from sklearn.metrics import roc_auc_score, accuracy_score, balanced_accuracy_score"
   ]
  },
  {
   "cell_type": "code",
   "execution_count": 25,
   "metadata": {},
   "outputs": [
    {
     "name": "stdout",
     "output_type": "stream",
     "text": [
      "Device used : cpu\n"
     ]
    },
    {
     "name": "stderr",
     "output_type": "stream",
     "text": [
      "/home/diogo_mota/anaconda3/lib/python3.8/site-packages/torch/cuda/__init__.py:52: UserWarning: CUDA initialization: Found no NVIDIA driver on your system. Please check that you have an NVIDIA GPU and installed a driver from http://www.nvidia.com/Download/index.aspx (Triggered internally at  /pytorch/c10/cuda/CUDAFunctions.cpp:100.)\n",
      "  return torch._C._cuda_getDeviceCount() > 0\n"
     ]
    }
   ],
   "source": [
    "clf1_nopreproc = TabNetClassifier(optimizer_fn=torch.optim.Adam,\n",
    "                       optimizer_params=dict(lr=2e-2),\n",
    "                       scheduler_params={\"step_size\":50, # how to use learning rate scheduler\n",
    "                                         \"gamma\":0.9},\n",
    "                       scheduler_fn=torch.optim.lr_scheduler.StepLR,\n",
    "                       mask_type='entmax' # \"sparsemax\"\n",
    "                      )"
   ]
  },
  {
   "cell_type": "code",
   "execution_count": 26,
   "metadata": {
    "scrolled": true
   },
   "outputs": [
    {
     "name": "stdout",
     "output_type": "stream",
     "text": [
      "epoch 0  | loss: 1.27001 | train_accuracy: 0.49243 | valid_accuracy: 0.498   |  0:00:03s\n",
      "epoch 1  | loss: 1.06053 | train_accuracy: 0.54129 | valid_accuracy: 0.54217 |  0:00:06s\n",
      "epoch 2  | loss: 1.00745 | train_accuracy: 0.5525  | valid_accuracy: 0.54183 |  0:00:09s\n",
      "epoch 3  | loss: 0.99055 | train_accuracy: 0.57036 | valid_accuracy: 0.55417 |  0:00:12s\n",
      "epoch 4  | loss: 0.97282 | train_accuracy: 0.57036 | valid_accuracy: 0.56083 |  0:00:15s\n",
      "epoch 5  | loss: 0.96608 | train_accuracy: 0.58236 | valid_accuracy: 0.56617 |  0:00:18s\n",
      "epoch 6  | loss: 0.95762 | train_accuracy: 0.5785  | valid_accuracy: 0.564   |  0:00:21s\n",
      "epoch 7  | loss: 0.95693 | train_accuracy: 0.57857 | valid_accuracy: 0.57217 |  0:00:24s\n",
      "epoch 8  | loss: 0.96309 | train_accuracy: 0.5835  | valid_accuracy: 0.5665  |  0:00:28s\n",
      "epoch 9  | loss: 0.94234 | train_accuracy: 0.58421 | valid_accuracy: 0.57283 |  0:00:31s\n",
      "epoch 10 | loss: 0.93954 | train_accuracy: 0.5945  | valid_accuracy: 0.56433 |  0:00:35s\n",
      "epoch 11 | loss: 0.92824 | train_accuracy: 0.58093 | valid_accuracy: 0.55833 |  0:00:39s\n",
      "epoch 12 | loss: 0.92239 | train_accuracy: 0.59871 | valid_accuracy: 0.5755  |  0:00:42s\n",
      "epoch 13 | loss: 0.92888 | train_accuracy: 0.599   | valid_accuracy: 0.5755  |  0:00:45s\n",
      "epoch 14 | loss: 0.90355 | train_accuracy: 0.59836 | valid_accuracy: 0.57333 |  0:00:48s\n",
      "epoch 15 | loss: 0.91926 | train_accuracy: 0.599   | valid_accuracy: 0.57483 |  0:00:50s\n",
      "epoch 16 | loss: 0.89379 | train_accuracy: 0.60929 | valid_accuracy: 0.58483 |  0:00:53s\n",
      "epoch 17 | loss: 0.89925 | train_accuracy: 0.6125  | valid_accuracy: 0.583   |  0:00:56s\n",
      "epoch 18 | loss: 0.8816  | train_accuracy: 0.605   | valid_accuracy: 0.58283 |  0:00:59s\n",
      "epoch 19 | loss: 0.88577 | train_accuracy: 0.61664 | valid_accuracy: 0.59467 |  0:01:02s\n",
      "epoch 20 | loss: 0.88791 | train_accuracy: 0.618   | valid_accuracy: 0.5915  |  0:01:05s\n",
      "epoch 21 | loss: 0.87704 | train_accuracy: 0.61936 | valid_accuracy: 0.579   |  0:01:08s\n",
      "epoch 22 | loss: 0.88192 | train_accuracy: 0.62136 | valid_accuracy: 0.593   |  0:01:11s\n",
      "epoch 23 | loss: 0.87958 | train_accuracy: 0.62479 | valid_accuracy: 0.58133 |  0:01:16s\n",
      "epoch 24 | loss: 0.88055 | train_accuracy: 0.62457 | valid_accuracy: 0.58233 |  0:01:19s\n",
      "epoch 25 | loss: 0.86372 | train_accuracy: 0.62886 | valid_accuracy: 0.58533 |  0:01:23s\n",
      "epoch 26 | loss: 0.85042 | train_accuracy: 0.62179 | valid_accuracy: 0.57533 |  0:01:26s\n",
      "epoch 27 | loss: 0.86014 | train_accuracy: 0.627   | valid_accuracy: 0.585   |  0:01:30s\n",
      "epoch 28 | loss: 0.84931 | train_accuracy: 0.62093 | valid_accuracy: 0.57617 |  0:01:33s\n",
      "epoch 29 | loss: 0.85687 | train_accuracy: 0.63479 | valid_accuracy: 0.59283 |  0:01:36s\n",
      "epoch 30 | loss: 0.86008 | train_accuracy: 0.63157 | valid_accuracy: 0.5855  |  0:01:39s\n",
      "epoch 31 | loss: 0.85054 | train_accuracy: 0.64179 | valid_accuracy: 0.58733 |  0:01:42s\n",
      "epoch 32 | loss: 0.84637 | train_accuracy: 0.63714 | valid_accuracy: 0.60067 |  0:01:45s\n",
      "epoch 33 | loss: 0.83601 | train_accuracy: 0.64029 | valid_accuracy: 0.59467 |  0:01:48s\n",
      "epoch 34 | loss: 0.83507 | train_accuracy: 0.64243 | valid_accuracy: 0.58833 |  0:01:51s\n",
      "epoch 35 | loss: 0.8256  | train_accuracy: 0.63993 | valid_accuracy: 0.58467 |  0:01:54s\n",
      "epoch 36 | loss: 0.83002 | train_accuracy: 0.6225  | valid_accuracy: 0.57633 |  0:01:57s\n",
      "epoch 37 | loss: 0.82874 | train_accuracy: 0.64407 | valid_accuracy: 0.595   |  0:02:00s\n",
      "epoch 38 | loss: 0.83384 | train_accuracy: 0.63407 | valid_accuracy: 0.57967 |  0:02:03s\n",
      "epoch 39 | loss: 0.82466 | train_accuracy: 0.63664 | valid_accuracy: 0.58633 |  0:02:05s\n",
      "epoch 40 | loss: 0.82717 | train_accuracy: 0.64521 | valid_accuracy: 0.5885  |  0:02:08s\n",
      "epoch 41 | loss: 0.81284 | train_accuracy: 0.64929 | valid_accuracy: 0.58617 |  0:02:11s\n",
      "epoch 42 | loss: 0.81768 | train_accuracy: 0.65793 | valid_accuracy: 0.59617 |  0:02:14s\n",
      "epoch 43 | loss: 0.82013 | train_accuracy: 0.65943 | valid_accuracy: 0.60117 |  0:02:17s\n",
      "epoch 44 | loss: 0.79801 | train_accuracy: 0.65721 | valid_accuracy: 0.58833 |  0:02:20s\n",
      "epoch 45 | loss: 0.81096 | train_accuracy: 0.65357 | valid_accuracy: 0.58917 |  0:02:23s\n",
      "epoch 46 | loss: 0.80452 | train_accuracy: 0.64943 | valid_accuracy: 0.59333 |  0:02:26s\n",
      "epoch 47 | loss: 0.80709 | train_accuracy: 0.66064 | valid_accuracy: 0.5925  |  0:02:29s\n",
      "epoch 48 | loss: 0.80269 | train_accuracy: 0.64157 | valid_accuracy: 0.59683 |  0:02:32s\n",
      "epoch 49 | loss: 0.78721 | train_accuracy: 0.66871 | valid_accuracy: 0.60767 |  0:02:35s\n",
      "epoch 50 | loss: 0.79048 | train_accuracy: 0.66657 | valid_accuracy: 0.59433 |  0:02:38s\n",
      "epoch 51 | loss: 0.77317 | train_accuracy: 0.67236 | valid_accuracy: 0.60417 |  0:02:41s\n",
      "epoch 52 | loss: 0.78476 | train_accuracy: 0.66929 | valid_accuracy: 0.60783 |  0:02:44s\n",
      "epoch 53 | loss: 0.77705 | train_accuracy: 0.66536 | valid_accuracy: 0.59567 |  0:02:47s\n",
      "epoch 54 | loss: 0.7943  | train_accuracy: 0.66214 | valid_accuracy: 0.59317 |  0:02:49s\n",
      "epoch 55 | loss: 0.79495 | train_accuracy: 0.67593 | valid_accuracy: 0.59933 |  0:02:52s\n",
      "epoch 56 | loss: 0.77376 | train_accuracy: 0.66979 | valid_accuracy: 0.59967 |  0:02:55s\n",
      "epoch 57 | loss: 0.76963 | train_accuracy: 0.67143 | valid_accuracy: 0.59617 |  0:02:58s\n",
      "epoch 58 | loss: 0.77721 | train_accuracy: 0.68693 | valid_accuracy: 0.60783 |  0:03:01s\n",
      "epoch 59 | loss: 0.77837 | train_accuracy: 0.68586 | valid_accuracy: 0.60167 |  0:03:04s\n",
      "epoch 60 | loss: 0.7769  | train_accuracy: 0.68171 | valid_accuracy: 0.6045  |  0:03:07s\n",
      "epoch 61 | loss: 0.75115 | train_accuracy: 0.67357 | valid_accuracy: 0.60683 |  0:03:09s\n",
      "epoch 62 | loss: 0.75783 | train_accuracy: 0.67986 | valid_accuracy: 0.60917 |  0:03:12s\n",
      "epoch 63 | loss: 0.7561  | train_accuracy: 0.68757 | valid_accuracy: 0.60583 |  0:03:15s\n",
      "epoch 64 | loss: 0.74674 | train_accuracy: 0.68264 | valid_accuracy: 0.608   |  0:03:18s\n",
      "epoch 65 | loss: 0.7603  | train_accuracy: 0.67536 | valid_accuracy: 0.60533 |  0:03:21s\n",
      "epoch 66 | loss: 0.74393 | train_accuracy: 0.69164 | valid_accuracy: 0.6015  |  0:03:24s\n",
      "epoch 67 | loss: 0.75014 | train_accuracy: 0.68614 | valid_accuracy: 0.61217 |  0:03:27s\n",
      "epoch 68 | loss: 0.75907 | train_accuracy: 0.68436 | valid_accuracy: 0.60667 |  0:03:29s\n",
      "epoch 69 | loss: 0.74489 | train_accuracy: 0.68614 | valid_accuracy: 0.6065  |  0:03:32s\n",
      "epoch 70 | loss: 0.7517  | train_accuracy: 0.67421 | valid_accuracy: 0.591   |  0:03:35s\n",
      "epoch 71 | loss: 0.76314 | train_accuracy: 0.68786 | valid_accuracy: 0.60183 |  0:03:38s\n",
      "epoch 72 | loss: 0.75428 | train_accuracy: 0.68371 | valid_accuracy: 0.59967 |  0:03:41s\n",
      "epoch 73 | loss: 0.75812 | train_accuracy: 0.69371 | valid_accuracy: 0.6035  |  0:03:44s\n",
      "epoch 74 | loss: 0.7431  | train_accuracy: 0.69414 | valid_accuracy: 0.60283 |  0:03:46s\n",
      "epoch 75 | loss: 0.74623 | train_accuracy: 0.68721 | valid_accuracy: 0.59983 |  0:03:50s\n",
      "epoch 76 | loss: 0.75121 | train_accuracy: 0.68879 | valid_accuracy: 0.60683 |  0:03:53s\n",
      "epoch 77 | loss: 0.74246 | train_accuracy: 0.69236 | valid_accuracy: 0.6085  |  0:03:56s\n",
      "epoch 78 | loss: 0.73937 | train_accuracy: 0.69593 | valid_accuracy: 0.61017 |  0:03:58s\n",
      "epoch 79 | loss: 0.73272 | train_accuracy: 0.6955  | valid_accuracy: 0.61217 |  0:04:02s\n",
      "epoch 80 | loss: 0.73409 | train_accuracy: 0.69457 | valid_accuracy: 0.60467 |  0:04:05s\n",
      "epoch 81 | loss: 0.73887 | train_accuracy: 0.69086 | valid_accuracy: 0.60583 |  0:04:08s\n",
      "epoch 82 | loss: 0.73589 | train_accuracy: 0.70457 | valid_accuracy: 0.60933 |  0:04:10s\n",
      "epoch 83 | loss: 0.74003 | train_accuracy: 0.69364 | valid_accuracy: 0.60433 |  0:04:13s\n",
      "epoch 84 | loss: 0.73784 | train_accuracy: 0.69871 | valid_accuracy: 0.60317 |  0:04:16s\n",
      "epoch 85 | loss: 0.73183 | train_accuracy: 0.70593 | valid_accuracy: 0.5975  |  0:04:19s\n",
      "epoch 86 | loss: 0.72556 | train_accuracy: 0.70093 | valid_accuracy: 0.60717 |  0:04:22s\n",
      "epoch 87 | loss: 0.72628 | train_accuracy: 0.705   | valid_accuracy: 0.6085  |  0:04:25s\n",
      "epoch 88 | loss: 0.73016 | train_accuracy: 0.689   | valid_accuracy: 0.60467 |  0:04:28s\n",
      "epoch 89 | loss: 0.73138 | train_accuracy: 0.70443 | valid_accuracy: 0.60967 |  0:04:31s\n",
      "epoch 90 | loss: 0.73354 | train_accuracy: 0.70793 | valid_accuracy: 0.60967 |  0:04:34s\n",
      "epoch 91 | loss: 0.73047 | train_accuracy: 0.69736 | valid_accuracy: 0.6     |  0:04:37s\n",
      "epoch 92 | loss: 0.73111 | train_accuracy: 0.70243 | valid_accuracy: 0.60867 |  0:04:41s\n"
     ]
    },
    {
     "name": "stdout",
     "output_type": "stream",
     "text": [
      "epoch 93 | loss: 0.73666 | train_accuracy: 0.69    | valid_accuracy: 0.6045  |  0:04:44s\n",
      "epoch 94 | loss: 0.72202 | train_accuracy: 0.71329 | valid_accuracy: 0.6145  |  0:04:47s\n",
      "epoch 95 | loss: 0.72157 | train_accuracy: 0.711   | valid_accuracy: 0.61267 |  0:04:50s\n",
      "epoch 96 | loss: 0.72088 | train_accuracy: 0.70814 | valid_accuracy: 0.60467 |  0:04:54s\n",
      "epoch 97 | loss: 0.72639 | train_accuracy: 0.71214 | valid_accuracy: 0.60033 |  0:04:57s\n",
      "epoch 98 | loss: 0.72448 | train_accuracy: 0.70307 | valid_accuracy: 0.608   |  0:05:00s\n",
      "epoch 99 | loss: 0.70964 | train_accuracy: 0.7     | valid_accuracy: 0.58133 |  0:05:03s\n",
      "epoch 100| loss: 0.70868 | train_accuracy: 0.72121 | valid_accuracy: 0.60417 |  0:05:06s\n",
      "epoch 101| loss: 0.70955 | train_accuracy: 0.70657 | valid_accuracy: 0.5965  |  0:05:09s\n",
      "epoch 102| loss: 0.71752 | train_accuracy: 0.71364 | valid_accuracy: 0.60767 |  0:05:12s\n",
      "epoch 103| loss: 0.71969 | train_accuracy: 0.71671 | valid_accuracy: 0.60367 |  0:05:14s\n",
      "epoch 104| loss: 0.70413 | train_accuracy: 0.71007 | valid_accuracy: 0.58367 |  0:05:17s\n",
      "epoch 105| loss: 0.69676 | train_accuracy: 0.7225  | valid_accuracy: 0.6085  |  0:05:20s\n",
      "epoch 106| loss: 0.69877 | train_accuracy: 0.70829 | valid_accuracy: 0.59833 |  0:05:23s\n",
      "epoch 107| loss: 0.69719 | train_accuracy: 0.71771 | valid_accuracy: 0.60717 |  0:05:26s\n",
      "epoch 108| loss: 0.70205 | train_accuracy: 0.72593 | valid_accuracy: 0.61117 |  0:05:29s\n",
      "epoch 109| loss: 0.68714 | train_accuracy: 0.71607 | valid_accuracy: 0.60967 |  0:05:32s\n",
      "epoch 110| loss: 0.70101 | train_accuracy: 0.71807 | valid_accuracy: 0.60467 |  0:05:35s\n",
      "epoch 111| loss: 0.7003  | train_accuracy: 0.72736 | valid_accuracy: 0.609   |  0:05:38s\n",
      "epoch 112| loss: 0.70902 | train_accuracy: 0.71693 | valid_accuracy: 0.59683 |  0:05:41s\n",
      "epoch 113| loss: 0.6967  | train_accuracy: 0.7115  | valid_accuracy: 0.60433 |  0:05:44s\n",
      "epoch 114| loss: 0.70225 | train_accuracy: 0.72093 | valid_accuracy: 0.6015  |  0:05:48s\n",
      "epoch 115| loss: 0.6988  | train_accuracy: 0.71557 | valid_accuracy: 0.6105  |  0:05:50s\n",
      "epoch 116| loss: 0.70101 | train_accuracy: 0.6985  | valid_accuracy: 0.6015  |  0:05:52s\n",
      "epoch 117| loss: 0.69957 | train_accuracy: 0.72336 | valid_accuracy: 0.61017 |  0:05:54s\n",
      "epoch 118| loss: 0.69109 | train_accuracy: 0.73036 | valid_accuracy: 0.609   |  0:05:55s\n",
      "epoch 119| loss: 0.68967 | train_accuracy: 0.73186 | valid_accuracy: 0.60883 |  0:05:57s\n",
      "epoch 120| loss: 0.69207 | train_accuracy: 0.71679 | valid_accuracy: 0.60633 |  0:05:59s\n",
      "epoch 121| loss: 0.6973  | train_accuracy: 0.72786 | valid_accuracy: 0.6055  |  0:06:01s\n",
      "epoch 122| loss: 0.68515 | train_accuracy: 0.73021 | valid_accuracy: 0.607   |  0:06:03s\n",
      "epoch 123| loss: 0.68505 | train_accuracy: 0.73114 | valid_accuracy: 0.60483 |  0:06:05s\n",
      "epoch 124| loss: 0.69081 | train_accuracy: 0.73    | valid_accuracy: 0.60783 |  0:06:07s\n",
      "epoch 125| loss: 0.68272 | train_accuracy: 0.7265  | valid_accuracy: 0.60533 |  0:06:09s\n",
      "epoch 126| loss: 0.69533 | train_accuracy: 0.72657 | valid_accuracy: 0.60667 |  0:06:11s\n",
      "epoch 127| loss: 0.68166 | train_accuracy: 0.73143 | valid_accuracy: 0.61267 |  0:06:13s\n",
      "epoch 128| loss: 0.66012 | train_accuracy: 0.73357 | valid_accuracy: 0.61    |  0:06:15s\n",
      "epoch 129| loss: 0.67747 | train_accuracy: 0.73179 | valid_accuracy: 0.60483 |  0:06:17s\n",
      "epoch 130| loss: 0.67914 | train_accuracy: 0.73179 | valid_accuracy: 0.6045  |  0:06:19s\n",
      "epoch 131| loss: 0.68091 | train_accuracy: 0.73343 | valid_accuracy: 0.61017 |  0:06:21s\n",
      "epoch 132| loss: 0.68142 | train_accuracy: 0.72586 | valid_accuracy: 0.598   |  0:06:23s\n",
      "epoch 133| loss: 0.68532 | train_accuracy: 0.72707 | valid_accuracy: 0.6     |  0:06:25s\n",
      "epoch 134| loss: 0.68043 | train_accuracy: 0.73636 | valid_accuracy: 0.60333 |  0:06:27s\n",
      "epoch 135| loss: 0.6693  | train_accuracy: 0.73971 | valid_accuracy: 0.60883 |  0:06:29s\n",
      "epoch 136| loss: 0.67281 | train_accuracy: 0.72757 | valid_accuracy: 0.60033 |  0:06:31s\n",
      "epoch 137| loss: 0.67603 | train_accuracy: 0.72943 | valid_accuracy: 0.61117 |  0:06:33s\n",
      "epoch 138| loss: 0.67898 | train_accuracy: 0.73671 | valid_accuracy: 0.60217 |  0:06:35s\n",
      "epoch 139| loss: 0.67767 | train_accuracy: 0.73657 | valid_accuracy: 0.5995  |  0:06:37s\n",
      "epoch 140| loss: 0.6719  | train_accuracy: 0.73507 | valid_accuracy: 0.59567 |  0:06:39s\n",
      "epoch 141| loss: 0.67421 | train_accuracy: 0.73679 | valid_accuracy: 0.61083 |  0:06:42s\n",
      "epoch 142| loss: 0.68911 | train_accuracy: 0.74129 | valid_accuracy: 0.61417 |  0:06:44s\n",
      "epoch 143| loss: 0.66827 | train_accuracy: 0.73314 | valid_accuracy: 0.6035  |  0:06:46s\n",
      "epoch 144| loss: 0.66969 | train_accuracy: 0.729   | valid_accuracy: 0.60183 |  0:06:48s\n",
      "\n",
      "Early stopping occurred at epoch 144 with best_epoch = 94 and best_valid_accuracy = 0.6145\n",
      "Best weights from best epoch are automatically used!\n"
     ]
    }
   ],
   "source": [
    "clf1_nopreproc.fit(\n",
    "    X_train,y_train,\n",
    "    eval_set=[(X_train, y_train), (X_val, y_val)],\n",
    "    eval_name=['train', 'valid'],\n",
    "    eval_metric=['accuracy'],\n",
    "    max_epochs=1000 , patience=50,\n",
    "    batch_size=256, virtual_batch_size=128,\n",
    "    num_workers=0,\n",
    "    weights=1,\n",
    "    drop_last=False\n",
    ")"
   ]
  },
  {
   "cell_type": "markdown",
   "metadata": {
    "id": "ObIDFkGSfuYa"
   },
   "source": [
    "# 2. Product Idea:"
   ]
  },
  {
   "cell_type": "markdown",
   "metadata": {
    "id": "7wVGa8LCEIft"
   },
   "source": [
    "I thought of a product that uses two machine learning algorithms (one to predict a single digit number and another to predict the intonation that these numbers were spoken in). These two models will be used to assess whether or not a spoken sequence of 3 numbers is not only correct but also spoken with the right intonation.\n",
    "\n",
    "I could have built a model that predicts only the 3 digits of the password/sequence, however I was curious to see how hard it was to implement such an advanced security system that uses voice intonation as part of the password."
   ]
  },
  {
   "cell_type": "markdown",
   "metadata": {},
   "source": [
    "As stated above this sequence will be comprised of only single digit numbers. Therefore the first thing to do is to create a dataset of single digit numbers only. "
   ]
  },
  {
   "cell_type": "code",
   "execution_count": 8,
   "metadata": {},
   "outputs": [],
   "source": [
    "labels_digit_product = labels[labels['digit_label']<10] ## dataframe with single digit numbers only"
   ]
  },
  {
   "cell_type": "code",
   "execution_count": 9,
   "metadata": {
    "scrolled": true
   },
   "outputs": [
    {
     "data": {
      "text/html": [
       "<div>\n",
       "<style scoped>\n",
       "    .dataframe tbody tr th:only-of-type {\n",
       "        vertical-align: middle;\n",
       "    }\n",
       "\n",
       "    .dataframe tbody tr th {\n",
       "        vertical-align: top;\n",
       "    }\n",
       "\n",
       "    .dataframe thead th {\n",
       "        text-align: right;\n",
       "    }\n",
       "</style>\n",
       "<table border=\"1\" class=\"dataframe\">\n",
       "  <thead>\n",
       "    <tr style=\"text-align: right;\">\n",
       "      <th></th>\n",
       "      <th>File ID</th>\n",
       "      <th>digit_label</th>\n",
       "      <th>participant</th>\n",
       "      <th>intonation</th>\n",
       "      <th>Intonation Encoded</th>\n",
       "    </tr>\n",
       "  </thead>\n",
       "  <tbody>\n",
       "    <tr>\n",
       "      <th>0</th>\n",
       "      <td>0000000.wav</td>\n",
       "      <td>4</td>\n",
       "      <td>S73</td>\n",
       "      <td>question</td>\n",
       "      <td>3</td>\n",
       "    </tr>\n",
       "    <tr>\n",
       "      <th>1</th>\n",
       "      <td>0000001.wav</td>\n",
       "      <td>2</td>\n",
       "      <td>S88</td>\n",
       "      <td>excited</td>\n",
       "      <td>1</td>\n",
       "    </tr>\n",
       "    <tr>\n",
       "      <th>3</th>\n",
       "      <td>0000003.wav</td>\n",
       "      <td>2</td>\n",
       "      <td>S85</td>\n",
       "      <td>bored</td>\n",
       "      <td>0</td>\n",
       "    </tr>\n",
       "    <tr>\n",
       "      <th>4</th>\n",
       "      <td>0000004.wav</td>\n",
       "      <td>4</td>\n",
       "      <td>S30</td>\n",
       "      <td>excited</td>\n",
       "      <td>1</td>\n",
       "    </tr>\n",
       "    <tr>\n",
       "      <th>6</th>\n",
       "      <td>0000006.wav</td>\n",
       "      <td>2</td>\n",
       "      <td>S136</td>\n",
       "      <td>neutral</td>\n",
       "      <td>2</td>\n",
       "    </tr>\n",
       "    <tr>\n",
       "      <th>...</th>\n",
       "      <td>...</td>\n",
       "      <td>...</td>\n",
       "      <td>...</td>\n",
       "      <td>...</td>\n",
       "      <td>...</td>\n",
       "    </tr>\n",
       "    <tr>\n",
       "      <th>19979</th>\n",
       "      <td>0019979.wav</td>\n",
       "      <td>8</td>\n",
       "      <td>S95</td>\n",
       "      <td>question</td>\n",
       "      <td>3</td>\n",
       "    </tr>\n",
       "    <tr>\n",
       "      <th>19984</th>\n",
       "      <td>0019984.wav</td>\n",
       "      <td>5</td>\n",
       "      <td>S42</td>\n",
       "      <td>excited</td>\n",
       "      <td>1</td>\n",
       "    </tr>\n",
       "    <tr>\n",
       "      <th>19986</th>\n",
       "      <td>0019986.wav</td>\n",
       "      <td>1</td>\n",
       "      <td>S139</td>\n",
       "      <td>excited</td>\n",
       "      <td>1</td>\n",
       "    </tr>\n",
       "    <tr>\n",
       "      <th>19989</th>\n",
       "      <td>0019989.wav</td>\n",
       "      <td>9</td>\n",
       "      <td>S105</td>\n",
       "      <td>excited</td>\n",
       "      <td>1</td>\n",
       "    </tr>\n",
       "    <tr>\n",
       "      <th>19991</th>\n",
       "      <td>0019991.wav</td>\n",
       "      <td>6</td>\n",
       "      <td>S130</td>\n",
       "      <td>bored</td>\n",
       "      <td>0</td>\n",
       "    </tr>\n",
       "  </tbody>\n",
       "</table>\n",
       "<p>6533 rows × 5 columns</p>\n",
       "</div>"
      ],
      "text/plain": [
       "           File ID  digit_label participant intonation  Intonation Encoded\n",
       "0      0000000.wav            4         S73   question                   3\n",
       "1      0000001.wav            2         S88    excited                   1\n",
       "3      0000003.wav            2         S85      bored                   0\n",
       "4      0000004.wav            4         S30    excited                   1\n",
       "6      0000006.wav            2        S136    neutral                   2\n",
       "...            ...          ...         ...        ...                 ...\n",
       "19979  0019979.wav            8         S95   question                   3\n",
       "19984  0019984.wav            5         S42    excited                   1\n",
       "19986  0019986.wav            1        S139    excited                   1\n",
       "19989  0019989.wav            9        S105    excited                   1\n",
       "19991  0019991.wav            6        S130      bored                   0\n",
       "\n",
       "[6533 rows x 5 columns]"
      ]
     },
     "execution_count": 9,
     "metadata": {},
     "output_type": "execute_result"
    }
   ],
   "source": [
    "labels_digit_product"
   ]
  },
  {
   "cell_type": "markdown",
   "metadata": {},
   "source": [
    "Now I get all the audio files that are in this new dataset. "
   ]
  },
  {
   "cell_type": "code",
   "execution_count": 10,
   "metadata": {},
   "outputs": [],
   "source": [
    "test_product_files = ['/home/diogo_mota/Dropbox/QMUL/Semester_B/Machine Learning/Mini_project/TrainingMLEnd/Training/'+val for val in labels_digit_product['File ID']]"
   ]
  },
  {
   "cell_type": "markdown",
   "metadata": {},
   "source": [
    "Get the feature vector and the labels that are going to be used for the single digit model:"
   ]
  },
  {
   "cell_type": "code",
   "execution_count": 11,
   "metadata": {},
   "outputs": [],
   "source": [
    "def getXy_product(files, labels_file, scale_audio=False):\n",
    "    X,y =[],[]\n",
    "    for file in tqdm(files):\n",
    "        fileID = file.split('/')[-1]\n",
    "        yi = (list(labels_file[labels_file['File ID']==fileID]['digit_label'])[0],\n",
    "             list(labels_file[labels_file['File ID']==fileID]['Intonation Encoded'])[0]) ## this time I extract both the intonation and digit labels straight away and split them later\n",
    "\n",
    "        fs = None # if None, fs would be 22050\n",
    "        x, fs = librosa.load(file,sr=fs)\n",
    "        if scale_audio: x = x/np.max(np.abs(x))\n",
    "        f0, voiced_flag = getPitch(x,fs,winLen=0.02)\n",
    "\n",
    "        power = np.sum(x**2)/len(x)\n",
    "        pitch_mean = np.nanmean(f0) if np.mean(np.isnan(f0))<1 else 0\n",
    "        pitch_std  = np.nanstd(f0) if np.mean(np.isnan(f0))<1 else 0\n",
    "        voiced_fr = np.mean(voiced_flag)\n",
    "\n",
    "        meter = pyln.Meter(fs, block_size = 0.2)\n",
    "        loudness = meter.integrated_loudness(x)\n",
    "        \n",
    "        mfcc, spectral_rolloff_features, spectral_centroid_features, spectral_contrast_features, spectral_bandwith_features = get_feat(x, fs)\n",
    "\n",
    "        pitch_feat = np.array([power, pitch_mean, pitch_std, voiced_fr, loudness])\n",
    "        xi = np.concatenate((pitch_feat, mfcc, spectral_rolloff_features, spectral_centroid_features, spectral_contrast_features, spectral_bandwith_features))\n",
    "        X.append(xi)\n",
    "        y.append(yi)\n",
    "    return np.array(X),np.array(y)"
   ]
  },
  {
   "cell_type": "code",
   "execution_count": 12,
   "metadata": {},
   "outputs": [
    {
     "name": "stderr",
     "output_type": "stream",
     "text": [
      "100%|██████████| 6533/6533 [32:31<00:00,  3.35it/s] \n"
     ]
    }
   ],
   "source": [
    "X_product, y_product = getXy_product(test_product_files,labels_file=labels_digit_product,scale_audio=True)"
   ]
  },
  {
   "cell_type": "code",
   "execution_count": 13,
   "metadata": {
    "id": "1smlWe53pp7X"
   },
   "outputs": [
    {
     "name": "stdout",
     "output_type": "stream",
     "text": [
      "The shape of X is (6533, 149)\n",
      "The shape of y is (6533, 2)\n",
      "The labels vector is [[4 3]\n",
      " [2 1]\n",
      " [2 0]\n",
      " [4 1]\n",
      " [2 2]\n",
      " [1 1]\n",
      " [3 1]\n",
      " [6 3]\n",
      " [9 0]\n",
      " [9 0]]\n"
     ]
    }
   ],
   "source": [
    "print('The shape of X is', X_product.shape) \n",
    "print('The shape of y is', y_product.shape)\n",
    "print('The labels vector is', y_product[:10])"
   ]
  },
  {
   "cell_type": "code",
   "execution_count": 14,
   "metadata": {
    "id": "kAgCVxWUpp_Z"
   },
   "outputs": [
    {
     "name": "stdout",
     "output_type": "stream",
     "text": [
      "0\n"
     ]
    }
   ],
   "source": [
    "# If nan sample, remove them\n",
    "if np.sum(np.isnan(X_product)):\n",
    "    idx = np.isnan(X_product).sum(1)>0\n",
    "    X_product = X_product[~idx]\n",
    "    y_product = y_product[~idx]\n",
    "print(np.sum(np.isnan(X_product)))"
   ]
  },
  {
   "cell_type": "markdown",
   "metadata": {},
   "source": [
    "Here we simply normalize the features in order for the features to carry similar weights:"
   ]
  },
  {
   "cell_type": "code",
   "execution_count": 15,
   "metadata": {
    "id": "d4PHjnOGR5ek"
   },
   "outputs": [],
   "source": [
    "scaler = StandardScaler()\n",
    "X_product_norm = scaler.fit_transform(X_product)"
   ]
  },
  {
   "cell_type": "markdown",
   "metadata": {},
   "source": [
    "Here we select the most important features to be used to train our 2 models:"
   ]
  },
  {
   "cell_type": "code",
   "execution_count": 16,
   "metadata": {},
   "outputs": [
    {
     "data": {
      "text/plain": [
       "SelectFromModel(estimator=RandomForestClassifier(), max_features=50)"
      ]
     },
     "execution_count": 16,
     "metadata": {},
     "output_type": "execute_result"
    }
   ],
   "source": [
    "sel2 = SelectFromModel(RandomForestClassifier(n_estimators = 100), max_features = 50)\n",
    "sel2.fit(X_product_norm, y_product)"
   ]
  },
  {
   "cell_type": "markdown",
   "metadata": {},
   "source": [
    "Now we filter our feature vector to invlude only the important features:"
   ]
  },
  {
   "cell_type": "code",
   "execution_count": 17,
   "metadata": {},
   "outputs": [],
   "source": [
    "X_product_important = X_product_norm[:,sel2.get_support()]"
   ]
  },
  {
   "cell_type": "code",
   "execution_count": 18,
   "metadata": {},
   "outputs": [
    {
     "data": {
      "text/plain": [
       "(6533, 44)"
      ]
     },
     "execution_count": 18,
     "metadata": {},
     "output_type": "execute_result"
    }
   ],
   "source": [
    "X_product_important.shape"
   ]
  },
  {
   "cell_type": "markdown",
   "metadata": {},
   "source": [
    "Now we split our data into training and test data:"
   ]
  },
  {
   "cell_type": "code",
   "execution_count": 19,
   "metadata": {
    "colab": {
     "base_uri": "https://localhost:8080/"
    },
    "id": "jq6y5WdPpqDR",
    "outputId": "5e98a42c-c6bd-4fe9-d35a-15a2df261597",
    "scrolled": true
   },
   "outputs": [
    {
     "data": {
      "text/plain": [
       "((5226, 44), (1307, 44), (5226, 2), (1307, 2))"
      ]
     },
     "execution_count": 19,
     "metadata": {},
     "output_type": "execute_result"
    }
   ],
   "source": [
    "X_train_product, X_test_product, y_train_product, y_test_product = train_test_split(X_product_important,y_product,test_size=0.2)\n",
    "X_train_product.shape, X_test_product.shape, y_train_product.shape, y_test_product.shape"
   ]
  },
  {
   "cell_type": "markdown",
   "metadata": {},
   "source": [
    "## Single Digit Model:"
   ]
  },
  {
   "cell_type": "markdown",
   "metadata": {},
   "source": [
    "Choose the best model out of the selected using GridSearchCV (just like in the basic solution):"
   ]
  },
  {
   "cell_type": "code",
   "execution_count": 45,
   "metadata": {},
   "outputs": [],
   "source": [
    "## Here we split the data between training data and validation data\n",
    "train_size = int(0.80*len(X_train_product))\n",
    "val_size = len(X_train_product)-train_size\n",
    "\n",
    "X_val_product = np.array(X_train_product[:val_size])\n",
    "partial_X_train_product = np.array(X_train_product[train_size:])\n",
    "\n",
    "y_val_product = np.array(y_train_product[:val_size])\n",
    "partial_y_train_product = np.array(y_train_product[train_size:])"
   ]
  },
  {
   "cell_type": "markdown",
   "metadata": {},
   "source": [
    "Get the labels that will be used for the single digit model: "
   ]
  },
  {
   "cell_type": "code",
   "execution_count": 21,
   "metadata": {},
   "outputs": [],
   "source": [
    "y_digit_train = [val[0] for val in partial_y_train_product]\n",
    "y_digit_val = [val[0] for val in y_val_product]"
   ]
  },
  {
   "cell_type": "code",
   "execution_count": 22,
   "metadata": {},
   "outputs": [],
   "source": [
    "## Let's take advantage of this library and select a few models\n",
    "classifiers = []\n",
    "\n",
    "svc_clf = svm.SVC()\n",
    "classifiers.append(svc_clf)\n",
    "\n",
    "mlp = MLPClassifier()\n",
    "classifiers.append(mlp)\n",
    "\n",
    "knn = KNeighborsClassifier()\n",
    "classifiers.append(knn)\n",
    "\n",
    "dt = DecisionTreeClassifier()\n",
    "classifiers.append(dt)\n",
    "\n",
    "sgd = SGDClassifier()\n",
    "classifiers.append(sgd)"
   ]
  },
  {
   "cell_type": "code",
   "execution_count": 23,
   "metadata": {},
   "outputs": [],
   "source": [
    "parameters = []\n",
    "\n",
    "parameters_svc = {'C': np.logspace(-3, 2, 6),  \n",
    "              'gamma': np.logspace(-3, 2, 6), \n",
    "              'gamma':['scale', 'auto'],\n",
    "              'kernel': ['linear', 'poly', 'rbf']}  \n",
    "parameters.append(parameters_svc)\n",
    "\n",
    "parameters_mlp = {'max_iter': [50, 100, 150],\n",
    "                  'hidden_layer_sizes':[(100,2), (80,2), (60,2), (40,2)],\n",
    "                  'learning_rate': ['constant', 'adaptive'],\n",
    "                  'learning_rate_init': [0.001,0.003,0.005,0.0009],\n",
    "                 'activation': ['relu', 'tanh', 'logistic']}\n",
    "\n",
    "parameters.append(parameters_mlp)\n",
    "\n",
    "parameters_knn = {'n_neighbors': [2, 4, 5, 8,10], \"weights\": ['uniform','distance'] }\n",
    "parameters.append(parameters_knn)\n",
    "\n",
    "parameters_dt = {'criterion': ['gini', 'entropy'], 'splitter': ['best', 'random'],\n",
    "                'max_depth': np.arange(3, 10)}\n",
    "parameters.append(parameters_dt)\n",
    "\n",
    "parameters_sgd = {'max_iter': [100,200,500,1000], 'loss':['hinge', 'log', 'perceptron'],\n",
    "                  'penalty': ['l1', 'l2']}\n",
    "parameters.append(parameters_sgd)"
   ]
  },
  {
   "cell_type": "code",
   "execution_count": 24,
   "metadata": {
    "scrolled": true
   },
   "outputs": [
    {
     "name": "stderr",
     "output_type": "stream",
     "text": [
      "\r",
      "  0%|          | 0/5 [00:00<?, ?it/s]"
     ]
    },
    {
     "name": "stdout",
     "output_type": "stream",
     "text": [
      "Fitting 5 folds for each of 36 candidates, totalling 180 fits\n"
     ]
    },
    {
     "name": "stderr",
     "output_type": "stream",
     "text": [
      "[Parallel(n_jobs=-1)]: Using backend LokyBackend with 4 concurrent workers.\n",
      "[Parallel(n_jobs=-1)]: Done  42 tasks      | elapsed:    4.0s\n",
      "[Parallel(n_jobs=-1)]: Done 180 out of 180 | elapsed:   14.8s finished\n",
      " 20%|██        | 1/5 [00:15<01:00, 15.11s/it]"
     ]
    },
    {
     "name": "stdout",
     "output_type": "stream",
     "text": [
      "Clssifier: SVC()\n",
      "              precision    recall  f1-score   support\n",
      "\n",
      "           0       0.59      0.68      0.63       104\n",
      "           1       0.69      0.59      0.64       103\n",
      "           2       0.39      0.52      0.45        90\n",
      "           3       0.57      0.67      0.61       102\n",
      "           4       0.80      0.72      0.76       108\n",
      "           5       0.64      0.62      0.63       110\n",
      "           6       0.86      0.82      0.84       116\n",
      "           7       0.65      0.62      0.63        92\n",
      "           8       0.79      0.59      0.68       111\n",
      "           9       0.66      0.66      0.66       110\n",
      "\n",
      "    accuracy                           0.65      1046\n",
      "   macro avg       0.66      0.65      0.65      1046\n",
      "weighted avg       0.67      0.65      0.66      1046\n",
      "\n",
      "Fitting 5 folds for each of 288 candidates, totalling 1440 fits\n"
     ]
    },
    {
     "name": "stderr",
     "output_type": "stream",
     "text": [
      "[Parallel(n_jobs=-1)]: Using backend LokyBackend with 4 concurrent workers.\n",
      "[Parallel(n_jobs=-1)]: Done  42 tasks      | elapsed:   20.0s\n",
      "[Parallel(n_jobs=-1)]: Done 192 tasks      | elapsed:  1.2min\n",
      "[Parallel(n_jobs=-1)]: Done 442 tasks      | elapsed:  2.5min\n",
      "[Parallel(n_jobs=-1)]: Done 792 tasks      | elapsed:  4.7min\n",
      "[Parallel(n_jobs=-1)]: Done 1242 tasks      | elapsed:  7.1min\n",
      "[Parallel(n_jobs=-1)]: Done 1440 out of 1440 | elapsed:  7.8min finished\n",
      "/home/diogo_mota/anaconda3/lib/python3.8/site-packages/sklearn/neural_network/_multilayer_perceptron.py:582: ConvergenceWarning: Stochastic Optimizer: Maximum iterations (150) reached and the optimization hasn't converged yet.\n",
      "  warnings.warn(\n",
      "/home/diogo_mota/anaconda3/lib/python3.8/site-packages/sklearn/metrics/_classification.py:1221: UndefinedMetricWarning: Precision and F-score are ill-defined and being set to 0.0 in labels with no predicted samples. Use `zero_division` parameter to control this behavior.\n",
      "  _warn_prf(average, modifier, msg_start, len(result))\n",
      " 40%|████      | 2/5 [08:07<07:36, 152.21s/it][Parallel(n_jobs=-1)]: Using backend LokyBackend with 4 concurrent workers.\n"
     ]
    },
    {
     "name": "stdout",
     "output_type": "stream",
     "text": [
      "Clssifier: MLPClassifier()\n",
      "              precision    recall  f1-score   support\n",
      "\n",
      "           0       0.22      0.64      0.33       104\n",
      "           1       0.57      0.49      0.52       103\n",
      "           2       0.10      0.09      0.09        90\n",
      "           3       0.42      0.11      0.17       102\n",
      "           4       0.37      0.43      0.39       108\n",
      "           5       0.00      0.00      0.00       110\n",
      "           6       0.34      0.37      0.36       116\n",
      "           7       0.12      0.02      0.04        92\n",
      "           8       0.37      0.61      0.46       111\n",
      "           9       0.55      0.48      0.51       110\n",
      "\n",
      "    accuracy                           0.33      1046\n",
      "   macro avg       0.31      0.32      0.29      1046\n",
      "weighted avg       0.31      0.33      0.30      1046\n",
      "\n",
      "Fitting 5 folds for each of 10 candidates, totalling 50 fits\n"
     ]
    },
    {
     "name": "stderr",
     "output_type": "stream",
     "text": [
      "[Parallel(n_jobs=-1)]: Done  50 out of  50 | elapsed:    0.7s finished\n",
      " 60%|██████    | 3/5 [08:08<03:33, 106.80s/it][Parallel(n_jobs=-1)]: Using backend LokyBackend with 4 concurrent workers.\n"
     ]
    },
    {
     "name": "stdout",
     "output_type": "stream",
     "text": [
      "Clssifier: KNeighborsClassifier()\n",
      "              precision    recall  f1-score   support\n",
      "\n",
      "           0       0.67      0.46      0.55       104\n",
      "           1       0.54      0.58      0.56       103\n",
      "           2       0.29      0.34      0.31        90\n",
      "           3       0.43      0.46      0.44       102\n",
      "           4       0.60      0.63      0.61       108\n",
      "           5       0.55      0.53      0.54       110\n",
      "           6       0.84      0.65      0.73       116\n",
      "           7       0.43      0.65      0.52        92\n",
      "           8       0.66      0.49      0.56       111\n",
      "           9       0.49      0.52      0.50       110\n",
      "\n",
      "    accuracy                           0.53      1046\n",
      "   macro avg       0.55      0.53      0.53      1046\n",
      "weighted avg       0.56      0.53      0.54      1046\n",
      "\n",
      "Fitting 5 folds for each of 28 candidates, totalling 140 fits\n"
     ]
    },
    {
     "name": "stderr",
     "output_type": "stream",
     "text": [
      "[Parallel(n_jobs=-1)]: Done 130 tasks      | elapsed:    1.5s\n",
      "[Parallel(n_jobs=-1)]: Done 140 out of 140 | elapsed:    1.7s finished\n",
      " 80%|████████  | 4/5 [08:09<01:15, 75.27s/it] "
     ]
    },
    {
     "name": "stdout",
     "output_type": "stream",
     "text": [
      "Clssifier: DecisionTreeClassifier()\n",
      "              precision    recall  f1-score   support\n",
      "\n",
      "           0       0.28      0.25      0.27       104\n",
      "           1       0.45      0.51      0.48       103\n",
      "           2       0.16      0.27      0.20        90\n",
      "           3       0.27      0.34      0.30       102\n",
      "           4       0.54      0.49      0.51       108\n",
      "           5       0.37      0.28      0.32       110\n",
      "           6       0.52      0.47      0.50       116\n",
      "           7       0.38      0.43      0.41        92\n",
      "           8       0.39      0.29      0.33       111\n",
      "           9       0.34      0.25      0.29       110\n",
      "\n",
      "    accuracy                           0.36      1046\n",
      "   macro avg       0.37      0.36      0.36      1046\n",
      "weighted avg       0.38      0.36      0.36      1046\n",
      "\n",
      "Fitting 5 folds for each of 24 candidates, totalling 120 fits\n"
     ]
    },
    {
     "name": "stderr",
     "output_type": "stream",
     "text": [
      "[Parallel(n_jobs=-1)]: Using backend LokyBackend with 4 concurrent workers.\n",
      "[Parallel(n_jobs=-1)]: Done  42 tasks      | elapsed:    3.1s\n",
      "[Parallel(n_jobs=-1)]: Done 120 out of 120 | elapsed:    8.9s finished\n",
      "100%|██████████| 5/5 [08:18<00:00, 99.77s/it]"
     ]
    },
    {
     "name": "stdout",
     "output_type": "stream",
     "text": [
      "Clssifier: SGDClassifier()\n",
      "              precision    recall  f1-score   support\n",
      "\n",
      "           0       0.58      0.56      0.57       104\n",
      "           1       0.66      0.48      0.55       103\n",
      "           2       0.31      0.40      0.35        90\n",
      "           3       0.61      0.65      0.63       102\n",
      "           4       0.74      0.71      0.73       108\n",
      "           5       0.56      0.66      0.61       110\n",
      "           6       0.86      0.76      0.81       116\n",
      "           7       0.50      0.59      0.54        92\n",
      "           8       0.56      0.57      0.56       111\n",
      "           9       0.57      0.45      0.51       110\n",
      "\n",
      "    accuracy                           0.59      1046\n",
      "   macro avg       0.59      0.58      0.58      1046\n",
      "weighted avg       0.60      0.59      0.59      1046\n",
      "\n"
     ]
    },
    {
     "name": "stderr",
     "output_type": "stream",
     "text": [
      "\n"
     ]
    }
   ],
   "source": [
    "for i in tqdm(range(len(classifiers))):\n",
    "    \n",
    "    model_grid_digit = GridSearchCV(classifiers[i], parameters[i], refit=True, n_jobs = -1, verbose=1)\n",
    "    model_grid_digit.fit(partial_X_train_product, y_digit_train)\n",
    "    print('Clssifier:', str(classifiers[i]))\n",
    "    print(classification_report(y_digit_val, model_grid_digit.predict(X_val_product)))"
   ]
  },
  {
   "cell_type": "markdown",
   "metadata": {},
   "source": [
    "This time we will use the best_estimator_ of the GridSeacrhcv to select the best model."
   ]
  },
  {
   "cell_type": "code",
   "execution_count": 27,
   "metadata": {},
   "outputs": [],
   "source": [
    "digit_model = model_grid_digit.best_estimator_"
   ]
  },
  {
   "cell_type": "code",
   "execution_count": 28,
   "metadata": {},
   "outputs": [
    {
     "data": {
      "text/plain": [
       "SGDClassifier(loss='log', max_iter=200)"
      ]
     },
     "execution_count": 28,
     "metadata": {},
     "output_type": "execute_result"
    }
   ],
   "source": [
    "digit_model"
   ]
  },
  {
   "cell_type": "markdown",
   "metadata": {},
   "source": [
    "#### Confusion matrices:"
   ]
  },
  {
   "cell_type": "markdown",
   "metadata": {},
   "source": [
    "Given that we have not seen a confusion matrix for a single digit classifier I thought it would be interesting to analyse them now."
   ]
  },
  {
   "cell_type": "code",
   "execution_count": 29,
   "metadata": {},
   "outputs": [
    {
     "data": {
      "text/plain": [
       "Text(0.5, 1.01, 'Training Confusion Matrix')"
      ]
     },
     "execution_count": 29,
     "metadata": {},
     "output_type": "execute_result"
    },
    {
     "data": {
      "image/png": "[encoded data removed]",
      "text/plain": [
       "<Figure size 720x720 with 2 Axes>"
      ]
     },
     "metadata": {
      "needs_background": "light"
     },
     "output_type": "display_data"
    }
   ],
   "source": [
    "fig, axs = plt.subplots(1,1, figsize=(10,10))\n",
    "plot_confusion_matrix(digit_model, partial_X_train_product, y_digit_train, normalize='true', ax=axs)\n",
    "axs.tick_params(labelsize=15)\n",
    "axs.set_xlabel('Predicted Label', fontsize=15)\n",
    "axs.set_ylabel('True Lable',fontsize=15)\n",
    "axs.set_title('Training Confusion Matrix', fontsize=20, y=1.01)"
   ]
  },
  {
   "cell_type": "markdown",
   "metadata": {},
   "source": [
    "As we can see from the training confusion matrix when we look at digit 2 we can clearly see that the model struggled to classifiy this digit since it only classified 50% of the samples (that were 2) correctly. It confused digit 2 with digit 9 the most."
   ]
  },
  {
   "cell_type": "code",
   "execution_count": 46,
   "metadata": {
    "scrolled": false
   },
   "outputs": [
    {
     "data": {
      "text/plain": [
       "Text(0.5, 1.01, 'Validation Confusion Matrix')"
      ]
     },
     "execution_count": 46,
     "metadata": {},
     "output_type": "execute_result"
    },
    {
     "data": {
      "image/png": "[encoded data removed]",
      "text/plain": [
       "<Figure size 720x720 with 2 Axes>"
      ]
     },
     "metadata": {
      "needs_background": "light"
     },
     "output_type": "display_data"
    }
   ],
   "source": [
    "fig, axs = plt.subplots(1,1, figsize=(10,10))\n",
    "plot_confusion_matrix(digit_model, X_val_product, y_digit_val, normalize='true', ax=axs)\n",
    "axs.tick_params(labelsize=15)\n",
    "axs.set_xlabel('Predicted Label', fontsize=15)\n",
    "axs.set_ylabel('True Lable',fontsize=15)\n",
    "axs.set_title('Validation Confusion Matrix', fontsize=20, y=1.01)"
   ]
  },
  {
   "cell_type": "markdown",
   "metadata": {},
   "source": [
    "We draw the same conclusion when it comes to digit 2 in the validation confusion matrix, however we can clearly see that the models performance on unseen data is quite low."
   ]
  },
  {
   "cell_type": "markdown",
   "metadata": {},
   "source": [
    "## Intonation Model:"
   ]
  },
  {
   "cell_type": "markdown",
   "metadata": {},
   "source": [
    "Get the labels that are going to be used for the intonation model:"
   ]
  },
  {
   "cell_type": "code",
   "execution_count": 31,
   "metadata": {},
   "outputs": [],
   "source": [
    "y_intonation_train = [val[1] for val in partial_y_train_product]\n",
    "y_intonation_val = [val[1] for val in y_val_product]"
   ]
  },
  {
   "cell_type": "markdown",
   "metadata": {},
   "source": [
    "(Same procedure used now as in the single digit model)"
   ]
  },
  {
   "cell_type": "code",
   "execution_count": 32,
   "metadata": {},
   "outputs": [],
   "source": [
    "## Let's take advantage of this library and select a few models\n",
    "classifiers = []\n",
    "\n",
    "svc_clf = svm.SVC()\n",
    "classifiers.append(svc_clf)\n",
    "\n",
    "mlp = MLPClassifier()\n",
    "classifiers.append(mlp)\n",
    "\n",
    "knn = KNeighborsClassifier()\n",
    "classifiers.append(knn)\n",
    "\n",
    "dt = DecisionTreeClassifier()\n",
    "classifiers.append(dt)\n",
    "\n",
    "sgd = SGDClassifier()\n",
    "classifiers.append(sgd)"
   ]
  },
  {
   "cell_type": "code",
   "execution_count": 33,
   "metadata": {},
   "outputs": [],
   "source": [
    "parameters = []\n",
    "\n",
    "parameters_svc = {'C': np.logspace(-3, 2, 6),  \n",
    "              'gamma': np.logspace(-3, 2, 6), \n",
    "              'gamma':['scale', 'auto'],\n",
    "              'kernel': ['linear', 'poly', 'rbf']}  \n",
    "parameters.append(parameters_svc)\n",
    "\n",
    "parameters_mlp = {'max_iter': [30,50,75,100,120,200],\n",
    "                  'hidden_layer_sizes':[(100,2), (80,2), (60,2), (40,2)],\n",
    "                  'learning_rate': ['constant', 'adaptive'],\n",
    "                  'learning_rate_init': [0.001,0.003,0.005,0.0009],\n",
    "                 'activation': ['relu', 'tanh', 'logistic']}\n",
    "\n",
    "parameters.append(parameters_mlp)\n",
    "\n",
    "parameters_knn = {'n_neighbors': [2, 4, 5, 8,10], \"weights\": ['uniform','distance'] }\n",
    "parameters.append(parameters_knn)\n",
    "\n",
    "parameters_dt = {'criterion': ['gini', 'entropy'], 'splitter': ['best', 'random'],\n",
    "                'max_depth': np.arange(3, 10)}\n",
    "parameters.append(parameters_dt)\n",
    "\n",
    "parameters_sgd = {'max_iter': [100,200,500,1000], 'loss':['hinge', 'log', 'perceptron'],\n",
    "                  'penalty': ['l1', 'l2']}\n",
    "parameters.append(parameters_sgd)"
   ]
  },
  {
   "cell_type": "code",
   "execution_count": 35,
   "metadata": {
    "scrolled": true
   },
   "outputs": [
    {
     "name": "stderr",
     "output_type": "stream",
     "text": [
      "  0%|          | 0/5 [00:00<?, ?it/s][Parallel(n_jobs=-1)]: Using backend LokyBackend with 4 concurrent workers.\n"
     ]
    },
    {
     "name": "stdout",
     "output_type": "stream",
     "text": [
      "Fitting 5 folds for each of 36 candidates, totalling 180 fits\n"
     ]
    },
    {
     "name": "stderr",
     "output_type": "stream",
     "text": [
      "[Parallel(n_jobs=-1)]: Done  76 tasks      | elapsed:    2.8s\n",
      "[Parallel(n_jobs=-1)]: Done 173 out of 180 | elapsed:  1.8min remaining:    4.3s\n",
      "[Parallel(n_jobs=-1)]: Done 180 out of 180 | elapsed:  2.1min finished\n",
      " 20%|██        | 1/5 [02:04<08:17, 124.34s/it]"
     ]
    },
    {
     "name": "stdout",
     "output_type": "stream",
     "text": [
      "Clssifier: SVC()\n",
      "              precision    recall  f1-score   support\n",
      "\n",
      "           0       0.60      0.67      0.63       289\n",
      "           1       0.60      0.59      0.60       258\n",
      "           2       0.48      0.48      0.48       246\n",
      "           3       0.63      0.54      0.58       253\n",
      "\n",
      "    accuracy                           0.58      1046\n",
      "   macro avg       0.58      0.57      0.57      1046\n",
      "weighted avg       0.58      0.58      0.57      1046\n",
      "\n",
      "Fitting 5 folds for each of 576 candidates, totalling 2880 fits\n"
     ]
    },
    {
     "name": "stderr",
     "output_type": "stream",
     "text": [
      "[Parallel(n_jobs=-1)]: Using backend LokyBackend with 4 concurrent workers.\n",
      "[Parallel(n_jobs=-1)]: Done  42 tasks      | elapsed:   11.0s\n",
      "[Parallel(n_jobs=-1)]: Done 192 tasks      | elapsed:   54.1s\n",
      "[Parallel(n_jobs=-1)]: Done 442 tasks      | elapsed:  2.1min\n",
      "[Parallel(n_jobs=-1)]: Done 792 tasks      | elapsed:  3.5min\n",
      "[Parallel(n_jobs=-1)]: Done 1242 tasks      | elapsed:  5.7min\n",
      "[Parallel(n_jobs=-1)]: Done 1792 tasks      | elapsed:  8.2min\n",
      "[Parallel(n_jobs=-1)]: Done 2442 tasks      | elapsed: 11.0min\n",
      "[Parallel(n_jobs=-1)]: Done 2880 out of 2880 | elapsed: 12.6min finished\n",
      "/home/diogo_mota/anaconda3/lib/python3.8/site-packages/sklearn/neural_network/_multilayer_perceptron.py:582: ConvergenceWarning: Stochastic Optimizer: Maximum iterations (100) reached and the optimization hasn't converged yet.\n",
      "  warnings.warn(\n",
      " 40%|████      | 2/5 [14:39<15:40, 313.51s/it][Parallel(n_jobs=-1)]: Using backend LokyBackend with 4 concurrent workers.\n"
     ]
    },
    {
     "name": "stdout",
     "output_type": "stream",
     "text": [
      "Clssifier: MLPClassifier()\n",
      "              precision    recall  f1-score   support\n",
      "\n",
      "           0       0.55      0.80      0.65       289\n",
      "           1       0.58      0.26      0.36       258\n",
      "           2       0.40      0.17      0.24       246\n",
      "           3       0.48      0.76      0.59       253\n",
      "\n",
      "    accuracy                           0.51      1046\n",
      "   macro avg       0.50      0.50      0.46      1046\n",
      "weighted avg       0.50      0.51      0.47      1046\n",
      "\n",
      "Fitting 5 folds for each of 10 candidates, totalling 50 fits\n"
     ]
    },
    {
     "name": "stderr",
     "output_type": "stream",
     "text": [
      "[Parallel(n_jobs=-1)]: Done  50 out of  50 | elapsed:    0.6s finished\n",
      " 60%|██████    | 3/5 [14:40<07:19, 219.68s/it][Parallel(n_jobs=-1)]: Using backend LokyBackend with 4 concurrent workers.\n"
     ]
    },
    {
     "name": "stdout",
     "output_type": "stream",
     "text": [
      "Clssifier: KNeighborsClassifier()\n",
      "              precision    recall  f1-score   support\n",
      "\n",
      "           0       0.46      0.56      0.50       289\n",
      "           1       0.50      0.49      0.49       258\n",
      "           2       0.35      0.34      0.35       246\n",
      "           3       0.51      0.40      0.44       253\n",
      "\n",
      "    accuracy                           0.45      1046\n",
      "   macro avg       0.45      0.45      0.45      1046\n",
      "weighted avg       0.45      0.45      0.45      1046\n",
      "\n",
      "Fitting 5 folds for each of 28 candidates, totalling 140 fits\n"
     ]
    },
    {
     "name": "stderr",
     "output_type": "stream",
     "text": [
      "[Parallel(n_jobs=-1)]: Done 130 tasks      | elapsed:    1.0s\n",
      "[Parallel(n_jobs=-1)]: Done 140 out of 140 | elapsed:    1.2s finished\n",
      " 80%|████████  | 4/5 [14:41<02:34, 154.14s/it][Parallel(n_jobs=-1)]: Using backend LokyBackend with 4 concurrent workers.\n"
     ]
    },
    {
     "name": "stdout",
     "output_type": "stream",
     "text": [
      "Clssifier: DecisionTreeClassifier()\n",
      "              precision    recall  f1-score   support\n",
      "\n",
      "           0       0.53      0.67      0.59       289\n",
      "           1       0.56      0.56      0.56       258\n",
      "           2       0.44      0.35      0.39       246\n",
      "           3       0.59      0.53      0.56       253\n",
      "\n",
      "    accuracy                           0.54      1046\n",
      "   macro avg       0.53      0.53      0.53      1046\n",
      "weighted avg       0.53      0.54      0.53      1046\n",
      "\n",
      "Fitting 5 folds for each of 24 candidates, totalling 120 fits\n"
     ]
    },
    {
     "name": "stderr",
     "output_type": "stream",
     "text": [
      "[Parallel(n_jobs=-1)]: Done 120 out of 120 | elapsed:    3.3s finished\n",
      "100%|██████████| 5/5 [14:44<00:00, 176.93s/it]"
     ]
    },
    {
     "name": "stdout",
     "output_type": "stream",
     "text": [
      "Clssifier: SGDClassifier()\n",
      "              precision    recall  f1-score   support\n",
      "\n",
      "           0       0.50      0.51      0.50       289\n",
      "           1       0.55      0.38      0.45       258\n",
      "           2       0.32      0.36      0.34       246\n",
      "           3       0.50      0.60      0.55       253\n",
      "\n",
      "    accuracy                           0.46      1046\n",
      "   macro avg       0.47      0.46      0.46      1046\n",
      "weighted avg       0.47      0.46      0.46      1046\n",
      "\n"
     ]
    },
    {
     "name": "stderr",
     "output_type": "stream",
     "text": [
      "\n"
     ]
    }
   ],
   "source": [
    "for i in tqdm(range(len(classifiers))):\n",
    "    \n",
    "    model_grid_into = GridSearchCV(classifiers[i], parameters[i], refit=True, n_jobs = -1, verbose=1)\n",
    "    model_grid_into.fit(partial_X_train_product, y_intonation_train)\n",
    "    print('Clssifier:', str(classifiers[i]))\n",
    "    print(classification_report(y_intonation_val, model_grid_into.predict(X_val_product)))"
   ]
  },
  {
   "cell_type": "code",
   "execution_count": 36,
   "metadata": {},
   "outputs": [],
   "source": [
    "intonation_model = model_grid_into.best_estimator_"
   ]
  },
  {
   "cell_type": "code",
   "execution_count": 47,
   "metadata": {},
   "outputs": [
    {
     "data": {
      "text/plain": [
       "SGDClassifier(loss='log', max_iter=200, penalty='l1')"
      ]
     },
     "execution_count": 47,
     "metadata": {},
     "output_type": "execute_result"
    }
   ],
   "source": [
    "intonation_model"
   ]
  },
  {
   "cell_type": "markdown",
   "metadata": {},
   "source": [
    "## Product Test: "
   ]
  },
  {
   "cell_type": "markdown",
   "metadata": {},
   "source": [
    "With both models trained we can finally test our product!"
   ]
  },
  {
   "cell_type": "code",
   "execution_count": 37,
   "metadata": {},
   "outputs": [],
   "source": [
    "## Separate the test digit labels from the test intonation labels\n",
    "y_digit_test = [val[0] for val in y_test_product]\n",
    "y_intonation_test = [val[1] for val in y_test_product]"
   ]
  },
  {
   "cell_type": "code",
   "execution_count": 38,
   "metadata": {},
   "outputs": [],
   "source": [
    "## Get the features of the sequence of three numbers and their respective labels\n",
    "password_list = [[(X_test_product[i], X_test_product[i+1], X_test_product[i+2]), (y_digit_test[i], y_digit_test[i+1], y_digit_test[i+2]),(y_intonation_test[i], y_intonation_test[i+1], y_intonation_test[i+2])] for i in range(0, len(X_test_product)-3, 3)]"
   ]
  },
  {
   "cell_type": "code",
   "execution_count": 39,
   "metadata": {},
   "outputs": [],
   "source": [
    "## Here I define the function that allows us to predict the intonation and the digit\n",
    "def make_prediction(model1, model2, feature):\n",
    "    return model1.predict(feature.reshape(1,-1))[0], model2.predict(feature.reshape(1,-1))[0]"
   ]
  },
  {
   "cell_type": "code",
   "execution_count": 40,
   "metadata": {
    "scrolled": false
   },
   "outputs": [],
   "source": [
    "## Now for every sequence we separate the features of the 3 audio files and predict their corresponding digit and intonation\n",
    "pass_pred = []\n",
    "for feat in password_list:\n",
    "    \n",
    "    num1, into1 = make_prediction(digit_model, intonation_model, np.array(feat[0][0])) ## features of the first digit used here\n",
    "    num2, into2 = make_prediction(digit_model, intonation_model, np.array(feat[0][1])) ## features of the second digit used here\n",
    "    num3, into3 = make_prediction(digit_model, intonation_model, np.array(feat[0][2])) ## features of the third digit used here\n",
    "    \n",
    "    pass_pred.append(np.array([[num1, num2, num3], [into1, into2, into3]]))"
   ]
  },
  {
   "cell_type": "code",
   "execution_count": 41,
   "metadata": {},
   "outputs": [],
   "source": [
    "## Let's separate the labels\n",
    "y_digit_sequence = [tup[1] for tup in password_list]\n",
    "y_intonation_sequence = [tup[2] for tup in password_list]"
   ]
  },
  {
   "cell_type": "code",
   "execution_count": 42,
   "metadata": {},
   "outputs": [],
   "source": [
    "## Let's separate the digit predictions from the intonation predictions\n",
    "y_digit_seq_pred = [value[0] for value in pass_pred] \n",
    "y_into_seq_pred = [value[1] for value in pass_pred]"
   ]
  },
  {
   "cell_type": "code",
   "execution_count": 43,
   "metadata": {},
   "outputs": [],
   "source": [
    "## Finally let's see how our product performed. In order for our product to correctly predict the sequence\n",
    "## it needs to have predict all 3 numbers and their intonations correclty, one mistake and the sequence predicted\n",
    "## is incorrect\n",
    "miss_count=0\n",
    "right_count=0\n",
    "for i in range(len(y_digit_seq_pred)):\n",
    "    digit_sequence = y_digit_seq_pred[i] == y_digit_sequence[i]\n",
    "    intonation_sequence = y_into_seq_pred[i] == y_intonation_sequence[i]\n",
    "    if False in digit_sequence or False in intonation_sequence: ## check if there is any difference between the labels and the predictions\n",
    "        #print(digit_sequence, intonation_sequence)\n",
    "        miss_count+=1 ## add the number of incorrect sequences\n",
    "    else:\n",
    "        right_count+=1 ## add the number of correct sequences"
   ]
  },
  {
   "cell_type": "code",
   "execution_count": 44,
   "metadata": {},
   "outputs": [
    {
     "name": "stdout",
     "output_type": "stream",
     "text": [
      "Accuracry: 0.011494252873563218\n"
     ]
    }
   ],
   "source": [
    "## Let's calculate the accuracy\n",
    "accuracy = right_count/(miss_count+right_count)\n",
    "print('Accuracry:', accuracy)"
   ]
  },
  {
   "cell_type": "markdown",
   "metadata": {},
   "source": [
    "Unfortunately our product performed terribly. However this is understandable given the quality of both the intonation and the digit model. Futhermore having to predict 3 numbers and 3 intonations without any mistakes was a hard task from the get go with so little time to do so.\n",
    "\n",
    "What could be done in the future? Well we would not only need more audio files for single digits, but their quality would also need to be improved. When it comes to the models, I would have to experiment and investigate more on what type of features would allow the models to perform better. Finally I would need to turn to more advanced models such as neural network and deep learning models in order to get satisfying results.\n",
    "\n",
    "Even though our product's prerformance was very low, this doesn't mean that the single digit classifier and the intonation classifer performed poorly:"
   ]
  },
  {
   "cell_type": "code",
   "execution_count": 66,
   "metadata": {},
   "outputs": [],
   "source": [
    "y_digit = np.array([val for tup in y_digit_sequence for val in tup]) ## flatten all the digit labels\n",
    "y_into = np.array([val for tup in y_intonation_sequence for val in tup]) ## flatten all the intonation labels\n",
    "\n",
    "y_digit_pred = np.array([val for tup in y_digit_seq_pred for val in tup]) ## flatten all the digit predictions\n",
    "y_into_pred = np.array([val for tup in y_into_seq_pred for val in tup]) ## flatten all the intonation predictions"
   ]
  },
  {
   "cell_type": "code",
   "execution_count": 69,
   "metadata": {},
   "outputs": [
    {
     "name": "stdout",
     "output_type": "stream",
     "text": [
      "Single digit model testing accuracy 0.5586206896551724\n",
      "Intonation model testing accuracy 0.43908045977011495\n"
     ]
    }
   ],
   "source": [
    "print('Single digit model testing accuracy', np.mean(y_digit_pred==y_digit))\n",
    "print('Intonation model testing accuracy', np.mean(y_into_pred==y_into))"
   ]
  },
  {
   "cell_type": "markdown",
   "metadata": {},
   "source": [
    "As we can see, even though these accuracies are not impressive this was just to show that our product accuracy is not the same as the accuracy of the models that it uses."
   ]
  }
 ],
 "metadata": {
  "colab": {
   "collapsed_sections": [],
   "name": "ECS708P_miniproject_submission.ipynb",
   "provenance": [],
   "toc_visible": true
  },
  "kernelspec": {
   "display_name": "Python 3",
   "language": "python",
   "name": "python3"
  },
  "language_info": {
   "codemirror_mode": {
    "name": "ipython",
    "version": 3
   },
   "file_extension": ".py",
   "mimetype": "text/x-python",
   "name": "python",
   "nbconvert_exporter": "python",
   "pygments_lexer": "ipython3",
   "version": "3.8.5"
  }
 },
 "nbformat": 4,
 "nbformat_minor": 1
}
